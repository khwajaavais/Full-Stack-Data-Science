{
 "cells": [
  {
   "cell_type": "markdown",
   "metadata": {},
   "source": [
    "<h1 align='center'>Python Programming Basic Assignment - 07<h1>"
   ]
  },
  {
   "cell_type": "markdown",
   "metadata": {},
   "source": [
    "---"
   ]
  },
  {
   "cell_type": "markdown",
   "metadata": {},
   "source": [
    "<h3>Q1</h3>\n",
    "<b>Write a Python Program to find sum of array?"
   ]
  },
  {
   "cell_type": "code",
   "execution_count": 1,
   "metadata": {},
   "outputs": [
    {
     "data": {
      "text/plain": [
       "100"
      ]
     },
     "execution_count": 1,
     "metadata": {},
     "output_type": "execute_result"
    }
   ],
   "source": [
    "def sum_array(*args):\n",
    "    sum=0\n",
    "    for i in args:\n",
    "        sum = sum+i\n",
    "    return sum\n",
    "    \n",
    "array = sum_array(1,3,5,7,9,11,13,15,17,19)\n",
    "array"
   ]
  },
  {
   "cell_type": "code",
   "execution_count": 2,
   "metadata": {},
   "outputs": [
    {
     "name": "stdout",
     "output_type": "stream",
     "text": [
      "Length of array: 5\n",
      "10\n",
      "20\n",
      "30\n",
      "40\n",
      "50\n",
      "Array: [10, 20, 30, 40, 50]\n",
      "Sum of given array is: 150\n"
     ]
    }
   ],
   "source": [
    "size = int(input(\"Length of array: \"))\n",
    "array = [int(input()) for i in range(size)]    \n",
    "\n",
    "print(f\"Array: {array}\\nSum of given array is: {sum(array)}\")"
   ]
  },
  {
   "cell_type": "markdown",
   "metadata": {},
   "source": [
    "<h3>Q2</h3>\n",
    "<b>Write a Python Program to find largest element in an array?"
   ]
  },
  {
   "cell_type": "code",
   "execution_count": 3,
   "metadata": {},
   "outputs": [
    {
     "name": "stdout",
     "output_type": "stream",
     "text": [
      "Length of array: 6\n",
      "45\n",
      "54\n",
      "12\n",
      "0\n",
      "102\n",
      "-100\n",
      "Array: [45, 54, 12, 0, 102, -100] \n",
      "Largest element in given array is: 102\n"
     ]
    }
   ],
   "source": [
    "size = int(input(\"Length of array: \"))\n",
    "array = [int(input()) for i in range(size)]\n",
    "    \n",
    "print(f\"Array: {array} \\nLargest element in given array is: {max(array)}\")"
   ]
  },
  {
   "cell_type": "markdown",
   "metadata": {},
   "source": [
    "<h3>Q3</h3>\n",
    "<b>Write a Python Program for array rotation?"
   ]
  },
  {
   "cell_type": "code",
   "execution_count": 4,
   "metadata": {},
   "outputs": [
    {
     "name": "stdout",
     "output_type": "stream",
     "text": [
      "Length of array: 6\n",
      "1\n",
      "3\n",
      "5\n",
      "2\n",
      "4\n",
      "6\n",
      "Array: [1, 3, 5, 2, 4, 6] \n",
      "Rotated Array: [6, 4, 2, 5, 3, 1]\n"
     ]
    }
   ],
   "source": [
    "size = int(input(\"Length of array: \"))\n",
    "array = [int(input()) for i in range(size)]\n",
    "    \n",
    "print(f\"Array: {array} \\nRotated Array: {array[::-1]}\")"
   ]
  },
  {
   "cell_type": "markdown",
   "metadata": {},
   "source": [
    "<h3>Q4</h3>\n",
    "<b>Write a Python Program to Split the array and add the first part to the end?"
   ]
  },
  {
   "cell_type": "code",
   "execution_count": 5,
   "metadata": {},
   "outputs": [
    {
     "name": "stdout",
     "output_type": "stream",
     "text": [
      "Length of array: 6\n",
      "1\n",
      "3\n",
      "5\n",
      "2\n",
      "4\n",
      "6\n",
      "First part  : [1, 3, 5]\n",
      "Second part : [2, 4, 6]\n",
      "Final Array:  [1, 3, 5, 2, 4, 6]\n"
     ]
    }
   ],
   "source": [
    "size = int(input(\"Length of array: \"))\n",
    "array = [int(input()) for i in range(size)]\n",
    "\n",
    "mid = size//2\n",
    "print(f\"First part  : {array[:mid]}\\nSecond part : {array[mid:]}\")\n",
    "\n",
    "array = array[:mid] + array[mid:]\n",
    "print(\"Final Array: \",array)"
   ]
  },
  {
   "cell_type": "markdown",
   "metadata": {},
   "source": [
    "<h3>Q5</h3>\n",
    "<b>Write a Python Program to check if given array is Monotonic?"
   ]
  },
  {
   "cell_type": "code",
   "execution_count": 6,
   "metadata": {},
   "outputs": [],
   "source": [
    "def monotonic(array):\n",
    "    return(all(array[i]<=array[i+1] for i in range(len(array)-1)) or all(array[i]>=array[i+1] for i in range(len(array)-1)))"
   ]
  },
  {
   "cell_type": "code",
   "execution_count": 7,
   "metadata": {},
   "outputs": [
    {
     "name": "stdout",
     "output_type": "stream",
     "text": [
      "Length of array: 6\n",
      "1\n",
      "10\n",
      "15\n",
      "20\n",
      "100\n",
      "-1\n",
      "False\n"
     ]
    }
   ],
   "source": [
    "size = int(input(\"Length of array: \"))\n",
    "array = [int(input()) for i in range(size)]\n",
    "\n",
    "print(monotonic(array))\n"
   ]
  },
  {
   "cell_type": "code",
   "execution_count": null,
   "metadata": {},
   "outputs": [],
   "source": []
  }
 ],
 "metadata": {
  "kernelspec": {
   "display_name": "Python 3",
   "language": "python",
   "name": "python3"
  },
  "language_info": {
   "codemirror_mode": {
    "name": "ipython",
    "version": 3
   },
   "file_extension": ".py",
   "mimetype": "text/x-python",
   "name": "python",
   "nbconvert_exporter": "python",
   "pygments_lexer": "ipython3",
   "version": "3.8.8"
  }
 },
 "nbformat": 4,
 "nbformat_minor": 4
}
