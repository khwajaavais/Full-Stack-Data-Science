{
 "cells": [
  {
   "cell_type": "markdown",
   "metadata": {},
   "source": [
    "<h1 align='center'>Python Programming Basic Assignment - 12</h1>"
   ]
  },
  {
   "cell_type": "markdown",
   "metadata": {},
   "source": [
    "---"
   ]
  },
  {
   "cell_type": "markdown",
   "metadata": {},
   "source": [
    "<h3>Q1</h3>\n",
    "<b>Write a Python program to Extract Unique values dictionary values?"
   ]
  },
  {
   "cell_type": "code",
   "execution_count": 1,
   "metadata": {},
   "outputs": [
    {
     "name": "stdout",
     "output_type": "stream",
     "text": [
      "Unique Values: ['John', 'james', 'dean']\n"
     ]
    }
   ],
   "source": [
    "d = {'1':'John','2':'dean','3':'John','4':'dean','5':'james'}\n",
    "empty_list = []\n",
    "\n",
    "for val in d.values():\n",
    "    empty_list.append(val)\n",
    "        \n",
    "print(f\"Unique Values: {list(set(empty_list))}\")"
   ]
  },
  {
   "cell_type": "markdown",
   "metadata": {},
   "source": [
    "<h3>Q2</h3>\n",
    "<b>Write a Python program to find the sum of all items in a dictionary?"
   ]
  },
  {
   "cell_type": "code",
   "execution_count": 2,
   "metadata": {},
   "outputs": [
    {
     "name": "stdout",
     "output_type": "stream",
     "text": [
      "Sum of [0, 1, 4, 5, 2, 3, 1, 5, 4, 5, 6, 7] : 43\n"
     ]
    }
   ],
   "source": [
    "dict_1 = {'a':[0,1,4,5],'b':[2,3,1,5],'c':[4,5,6,7]}\n",
    "empty_list = []\n",
    "\n",
    "for i in dict_1.values():\n",
    "    for j in i:\n",
    "        empty_list.append(j)\n",
    "\n",
    "print(f\"Sum of {empty_list} : {sum(empty_list)}\")"
   ]
  },
  {
   "cell_type": "markdown",
   "metadata": {},
   "source": [
    "<h3>Q3</h3>\n",
    "<b>Write a Python program to Merging two Dictionaries?"
   ]
  },
  {
   "cell_type": "code",
   "execution_count": 3,
   "metadata": {},
   "outputs": [
    {
     "data": {
      "text/plain": [
       "{'a': 1, 'b': 2, 'c': 3, 'd': 4, 'e': 5, 'f': 6}"
      ]
     },
     "execution_count": 3,
     "metadata": {},
     "output_type": "execute_result"
    }
   ],
   "source": [
    "dict_1 = {'a':1,'b':2,'c':3}\n",
    "dict_2 = {'d':4,'e':5,'f':6}\n",
    "\n",
    "dict_1.update(dict_2)\n",
    "\n",
    "dict_1"
   ]
  },
  {
   "cell_type": "markdown",
   "metadata": {},
   "source": [
    "<h3>Q4</h3>\n",
    "<b>Write a Python program to convert key-values list to flat dictionary?"
   ]
  },
  {
   "cell_type": "code",
   "execution_count": 4,
   "metadata": {},
   "outputs": [
    {
     "name": "stdout",
     "output_type": "stream",
     "text": [
      "List:- ['a', 100, 'b', 200, 'c', 300, 'd', 400, 'e', 500, 'f', 600]\n",
      "\n",
      "Dictionary:- {'a': 100, 'b': 200, 'c': 300, 'd': 400, 'e': 500, 'f': 600}\n"
     ]
    }
   ],
   "source": [
    "l = ['a', 100, 'b', 200, 'c',300, 'd', 400, 'e', 500, 'f', 600]\n",
    "\n",
    "list_val = [i for i in l if type(i) == int]        \n",
    "list_key = [i for i in l if type(i) == str]        \n",
    "\n",
    "d = dict(zip(list_key, list_val))\n",
    "\n",
    "print(f\"List:- {l}\\n\\nDictionary:- {d}\")"
   ]
  },
  {
   "cell_type": "markdown",
   "metadata": {},
   "source": [
    "<h3>Q5</h3>\n",
    "<b>Write a Python program to insertion at the beginning in OrderedDict?"
   ]
  },
  {
   "cell_type": "code",
   "execution_count": 5,
   "metadata": {},
   "outputs": [],
   "source": [
    "from collections import OrderedDict"
   ]
  },
  {
   "cell_type": "code",
   "execution_count": 6,
   "metadata": {},
   "outputs": [
    {
     "name": "stdout",
     "output_type": "stream",
     "text": [
      "OrderedDict([('a', 1), ('b', 2), ('c', 3), ('d', 4), ('e', 5), ('f', 6)])\n",
      "OrderedDict([('a', 1), ('b', 2), ('c', 3), ('d', 4), ('e', 5), ('f', 6), ('g', 7)])\n",
      "OrderedDict([('g', 7), ('a', 1), ('b', 2), ('c', 3), ('d', 4), ('e', 5), ('f', 6)])\n"
     ]
    }
   ],
   "source": [
    "d = {'a': 1, 'b': 2, 'c': 3, 'd': 4, 'e': 5, 'f': 6}\n",
    "od = OrderedDict(d)\n",
    "print(od)\n",
    "\n",
    "od['g'] = 7\n",
    "print(od)\n",
    "\n",
    "od.move_to_end('g', False)\n",
    "print(od)"
   ]
  },
  {
   "cell_type": "markdown",
   "metadata": {},
   "source": [
    "<h3>Q6</h3>\n",
    "<b>Write a Python program to check order of character in string using OrderedDict()?"
   ]
  },
  {
   "cell_type": "code",
   "execution_count": 7,
   "metadata": {},
   "outputs": [
    {
     "name": "stdout",
     "output_type": "stream",
     "text": [
      "{'a': 11, 'f': 12, 'd': 13, 'c': 14, 'b': 15, 'e': 16}\n",
      "OrderedDict([('a', 11), ('b', 15), ('c', 14), ('d', 13), ('e', 16), ('f', 12)])\n"
     ]
    }
   ],
   "source": [
    "unordered = {'a': 11, 'f': 12, 'd': 13, 'c': 14, 'b': 15, 'e': 16}\n",
    "print(unordered)\n",
    "\n",
    "od = OrderedDict(sorted(unordered.items()))\n",
    "print(od)"
   ]
  },
  {
   "cell_type": "markdown",
   "metadata": {},
   "source": [
    "<h3>Q7</h3>\n",
    "<b>Write a Python program to sort Python Dictionaries by Key or Value?"
   ]
  },
  {
   "cell_type": "code",
   "execution_count": 8,
   "metadata": {},
   "outputs": [
    {
     "name": "stdout",
     "output_type": "stream",
     "text": [
      "Sorted by key:  [('a', 101), ('b', 501), ('c', 401), ('d', 301), ('e', 601), ('f', 201)]\n"
     ]
    }
   ],
   "source": [
    "d = {'a': 101, 'f': 201, 'd': 301, 'c': 401, 'b': 501, 'e': 601}\n",
    "sort = sorted(d.items())\n",
    "\n",
    "print(\"Sorted by key: \",sort)"
   ]
  },
  {
   "cell_type": "code",
   "execution_count": null,
   "metadata": {},
   "outputs": [],
   "source": []
  }
 ],
 "metadata": {
  "kernelspec": {
   "display_name": "Python 3",
   "language": "python",
   "name": "python3"
  },
  "language_info": {
   "codemirror_mode": {
    "name": "ipython",
    "version": 3
   },
   "file_extension": ".py",
   "mimetype": "text/x-python",
   "name": "python",
   "nbconvert_exporter": "python",
   "pygments_lexer": "ipython3",
   "version": "3.8.8"
  }
 },
 "nbformat": 4,
 "nbformat_minor": 4
}
