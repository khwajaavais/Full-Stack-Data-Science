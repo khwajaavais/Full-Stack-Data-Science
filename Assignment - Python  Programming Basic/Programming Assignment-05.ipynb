{
 "cells": [
  {
   "cell_type": "markdown",
   "metadata": {},
   "source": [
    "### 1. Write a Python Program to Find LCM?"
   ]
  },
  {
   "cell_type": "code",
   "execution_count": 1,
   "metadata": {},
   "outputs": [],
   "source": [
    "def lcm(num_1,num_2):\n",
    "\n",
    "    if num_1>num_2:\n",
    "        max = num_1\n",
    "    \n",
    "    else:\n",
    "        max = num_2\n",
    "    \n",
    "    while True:\n",
    "        if max % num_1 == 0 and max % num_2 == 0:\n",
    "            print(f\"LCM of {num_1} and {num_2} is {max}\")\n",
    "            break\n",
    "            \n",
    "        max = max+1"
   ]
  },
  {
   "cell_type": "code",
   "execution_count": 2,
   "metadata": {},
   "outputs": [
    {
     "name": "stdout",
     "output_type": "stream",
     "text": [
      "LCM of 10 and 8 is 40\n"
     ]
    }
   ],
   "source": [
    "lcm(10,8)"
   ]
  },
  {
   "cell_type": "markdown",
   "metadata": {},
   "source": [
    "### 2. Write a Python Program to Find HCF?"
   ]
  },
  {
   "cell_type": "code",
   "execution_count": 3,
   "metadata": {},
   "outputs": [],
   "source": [
    "def hcf(num_1,num_2):\n",
    "\n",
    "    if num_1<num_2:\n",
    "        min = num_1\n",
    "    \n",
    "    else:\n",
    "        min = num_2\n",
    "    \n",
    "    for i in range(1,min+1):\n",
    "        if num_1 % i == 0 and num_2 % i == 0:\n",
    "            hcf=i\n",
    "            break\n",
    "    print(\"HCF is: \", hcf)"
   ]
  },
  {
   "cell_type": "code",
   "execution_count": 4,
   "metadata": {},
   "outputs": [
    {
     "name": "stdout",
     "output_type": "stream",
     "text": [
      "HCF is:  1\n"
     ]
    }
   ],
   "source": [
    "hcf(14,472)"
   ]
  },
  {
   "cell_type": "markdown",
   "metadata": {},
   "source": [
    "### Q3. Write a Python Program to Convert Decimal to Binary, Octal and Hexadecimal?"
   ]
  },
  {
   "cell_type": "code",
   "execution_count": 5,
   "metadata": {},
   "outputs": [
    {
     "name": "stdout",
     "output_type": "stream",
     "text": [
      "Enter Decimal Number: 10\n",
      "Decimal to Binary:  0b1010\n",
      "Decimal to Octal:  0o12\n",
      "Decimal to Hexadecimal:  0xa\n"
     ]
    }
   ],
   "source": [
    "num = int(input(\"Enter Decimal Number: \"))\n",
    "print(\"Decimal to Binary: \",bin(num))\n",
    "print(\"Decimal to Octal: \",oct(num))\n",
    "print(\"Decimal to Hexadecimal: \",hex(num))"
   ]
  },
  {
   "cell_type": "markdown",
   "metadata": {},
   "source": [
    "### 4. Write a Python Program To Find ASCII value of a character?"
   ]
  },
  {
   "cell_type": "code",
   "execution_count": 6,
   "metadata": {},
   "outputs": [
    {
     "data": {
      "text/plain": [
       "97"
      ]
     },
     "execution_count": 6,
     "metadata": {},
     "output_type": "execute_result"
    }
   ],
   "source": [
    "def ascii_value(character):\n",
    "    return ord(character)\n",
    "\n",
    "ascii_value(\"a\")"
   ]
  },
  {
   "cell_type": "markdown",
   "metadata": {},
   "source": [
    "### 5. Write a Python Program to Make a Simple Calculator with 4 basic mathematical operations?"
   ]
  },
  {
   "cell_type": "code",
   "execution_count": 7,
   "metadata": {},
   "outputs": [],
   "source": [
    "def calculator(num1,num2):\n",
    "    operation = str(input(\"What operation would you like to perform: \"))\n",
    "    \n",
    "    if operation == \"add\":\n",
    "        print(f\"{num1} + {num2} = {num1+num2}\")\n",
    "    \n",
    "    elif operation == \"sub\":\n",
    "        print(f\"{num1} - {num2} = {num1-num2}\")\n",
    "    \n",
    "    elif operation == \"mul\":\n",
    "        print(f\"{num1} X {num2} = {num1*num2}\")\n",
    "    \n",
    "    elif operation == \"div\":\n",
    "        print(f\"{num1} / {num2} = {num1/num2}\")\n",
    "    \n",
    "    else:\n",
    "        print(\"Enter correct operation\")"
   ]
  },
  {
   "cell_type": "code",
   "execution_count": 8,
   "metadata": {},
   "outputs": [
    {
     "name": "stdout",
     "output_type": "stream",
     "text": [
      "What operation would you like to perform: add\n",
      "10 + 5 = 15\n"
     ]
    }
   ],
   "source": [
    "calculator(10,5)"
   ]
  },
  {
   "cell_type": "code",
   "execution_count": 9,
   "metadata": {},
   "outputs": [
    {
     "name": "stdout",
     "output_type": "stream",
     "text": [
      "What operation would you like to perform: sub\n",
      "10 - 5 = 5\n"
     ]
    }
   ],
   "source": [
    "calculator(10,5)"
   ]
  },
  {
   "cell_type": "code",
   "execution_count": 10,
   "metadata": {},
   "outputs": [
    {
     "name": "stdout",
     "output_type": "stream",
     "text": [
      "What operation would you like to perform: mul\n",
      "10 X 5 = 50\n"
     ]
    }
   ],
   "source": [
    "calculator(10,5)"
   ]
  },
  {
   "cell_type": "code",
   "execution_count": 11,
   "metadata": {},
   "outputs": [
    {
     "name": "stdout",
     "output_type": "stream",
     "text": [
      "What operation would you like to perform: div\n",
      "10 / 5 = 2.0\n"
     ]
    }
   ],
   "source": [
    "calculator(10,5)"
   ]
  }
 ],
 "metadata": {
  "kernelspec": {
   "display_name": "Python 3",
   "language": "python",
   "name": "python3"
  },
  "language_info": {
   "codemirror_mode": {
    "name": "ipython",
    "version": 3
   },
   "file_extension": ".py",
   "mimetype": "text/x-python",
   "name": "python",
   "nbconvert_exporter": "python",
   "pygments_lexer": "ipython3",
   "version": "3.8.8"
  }
 },
 "nbformat": 4,
 "nbformat_minor": 4
}
