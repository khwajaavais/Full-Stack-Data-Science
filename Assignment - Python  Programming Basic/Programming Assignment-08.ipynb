{
 "cells": [
  {
   "cell_type": "markdown",
   "metadata": {},
   "source": [
    "<h1 align='center'>Python Programming Basic Assignment - 08<h1>"
   ]
  },
  {
   "cell_type": "markdown",
   "metadata": {},
   "source": [
    "---"
   ]
  },
  {
   "cell_type": "markdown",
   "metadata": {},
   "source": [
    "<h3>Q1</h3>\n",
    "<b>Write a Python Program to Add Two Matrices?"
   ]
  },
  {
   "cell_type": "code",
   "execution_count": 1,
   "metadata": {},
   "outputs": [],
   "source": [
    "def sum(a,b):\n",
    "    output = []\n",
    "    for i in range(len(a)):\n",
    "        row = []\n",
    "        for j in range(len(a[0])):\n",
    "            row.append(a[i][j] + b[i][j])\n",
    "        output.append(row)\n",
    "    return output\n",
    "\n",
    "\n",
    "\n",
    "def matrix_input_and_add(m,n):    #m and n is size of matrics\n",
    "    print(\"Enter matrix A: \")\n",
    "    a = []\n",
    "    for i in range(m):\n",
    "        row = []\n",
    "        for j in range(n):\n",
    "            row.append(int(input()))\n",
    "        a.append(row)\n",
    "    print(\"Matrix a is \",a)\n",
    "    \n",
    "    \n",
    "    print(f\"\\nEnter matrix B: \")\n",
    "    b = []\n",
    "    for i in range(m):\n",
    "        row = []\n",
    "        for j in range(n):\n",
    "            row.append(int(input()))\n",
    "        b.append(row)\n",
    "    print(\"matrix b is \",b)\n",
    "    \n",
    "    \n",
    "    addition = sum(a,b)\n",
    "    return addition\n",
    "\n"
   ]
  },
  {
   "cell_type": "code",
   "execution_count": 2,
   "metadata": {},
   "outputs": [
    {
     "name": "stdout",
     "output_type": "stream",
     "text": [
      "Enter matrix A: \n",
      "1\n",
      "2\n",
      "3\n",
      "4\n",
      "5\n",
      "6\n",
      "7\n",
      "8\n",
      "9\n",
      "10\n",
      "11\n",
      "12\n",
      "13\n",
      "14\n",
      "15\n",
      "16\n",
      "Matrix a is  [[1, 2, 3, 4], [5, 6, 7, 8], [9, 10, 11, 12], [13, 14, 15, 16]]\n",
      "\n",
      "Enter matrix B: \n",
      "16\n",
      "15\n",
      "14\n",
      "13\n",
      "12\n",
      "11\n",
      "10\n",
      "9\n",
      "8\n",
      "7\n",
      "6\n",
      "5\n",
      "4\n",
      "3\n",
      "2\n",
      "1\n",
      "matrix b is  [[16, 15, 14, 13], [12, 11, 10, 9], [8, 7, 6, 5], [4, 3, 2, 1]]\n"
     ]
    },
    {
     "data": {
      "text/plain": [
       "[[17, 17, 17, 17], [17, 17, 17, 17], [17, 17, 17, 17], [17, 17, 17, 17]]"
      ]
     },
     "execution_count": 2,
     "metadata": {},
     "output_type": "execute_result"
    }
   ],
   "source": [
    "result = matrix_input_and_add(4,4)\n",
    "result"
   ]
  },
  {
   "cell_type": "markdown",
   "metadata": {},
   "source": [
    "<h3>Q2</h3>\n",
    "<b>Write a Python Program to Multiply Two Matrices?"
   ]
  },
  {
   "cell_type": "code",
   "execution_count": 3,
   "metadata": {},
   "outputs": [],
   "source": [
    "A = [[54,45,66],[89,95,101],[11,15,17]]\n",
    "B = [[1,2],[3,4],[5,6]]\n",
    "\n",
    "C = [[0,0],[0,0],[0,0]]\n"
   ]
  },
  {
   "cell_type": "code",
   "execution_count": 4,
   "metadata": {},
   "outputs": [
    {
     "name": "stdout",
     "output_type": "stream",
     "text": [
      "[519, 684]\n",
      "[879, 1164]\n",
      "[141, 184]\n"
     ]
    }
   ],
   "source": [
    "for i in range(0,len(C)):\n",
    "    for j in range(0,len(C[0])):\n",
    "        for k in range(0,len(B)):\n",
    "            C[i][j] += A[i][k]*B[k][j]\n",
    "            \n",
    "for row in C:\n",
    "    print(row)"
   ]
  },
  {
   "cell_type": "markdown",
   "metadata": {},
   "source": [
    "<h3>Q3</h3>\n",
    "<b>Write a Python Program to Transpose a Matrix?"
   ]
  },
  {
   "cell_type": "code",
   "execution_count": 5,
   "metadata": {},
   "outputs": [
    {
     "name": "stdout",
     "output_type": "stream",
     "text": [
      "[[1, 3, 5], [2, 4, 6]]\n"
     ]
    }
   ],
   "source": [
    "A = [[1,2],\n",
    "     [3,4],\n",
    "     [5,6]]\n",
    "\n",
    "C = [[0,0,0],\n",
    "     [0,0,0]]\n",
    "     \n",
    "for i in range(len(A)):\n",
    "    for j in range(len(A[0])):\n",
    "        C[j][i] = A[i][j]\n",
    "\n",
    "print(C)"
   ]
  },
  {
   "cell_type": "markdown",
   "metadata": {},
   "source": [
    "<h3>Q4</h3>\n",
    "<b>Write a Python Program to Sort Words in Alphabetic Order?"
   ]
  },
  {
   "cell_type": "code",
   "execution_count": 6,
   "metadata": {},
   "outputs": [
    {
     "name": "stdout",
     "output_type": "stream",
     "text": [
      "Enter String: This is my 7th Python Programming Basic Assignment\n",
      "7th\n",
      "assignment\n",
      "basic\n",
      "is\n",
      "my\n",
      "programming\n",
      "python\n",
      "this\n"
     ]
    }
   ],
   "source": [
    "a = input(\"Enter String: \").lower()\n",
    "\n",
    "order = a.split()\n",
    "order.sort()\n",
    "for words in order:\n",
    "    print(words)\n"
   ]
  },
  {
   "cell_type": "markdown",
   "metadata": {},
   "source": [
    "<h3>Q5</h3>\n",
    "<b>Write a Python Program to Remove Punctuation From a String?"
   ]
  },
  {
   "cell_type": "code",
   "execution_count": 8,
   "metadata": {},
   "outputs": [
    {
     "name": "stdout",
     "output_type": "stream",
     "text": [
      "Enter String: <<<You can`t see me....!!!!>>> ??\n",
      "You cant see me \n"
     ]
    }
   ],
   "source": [
    "punctuation = '''''!()-[]{};:'\"\\,<>./?@#$%^&*_~`''' \n",
    "a = input(\"Enter String: \")\n",
    "\n",
    "cleared = \"\"\n",
    "\n",
    "for char in a:\n",
    "    if char not in punctuation:\n",
    "        cleared += char\n",
    "print(cleared)"
   ]
  },
  {
   "cell_type": "code",
   "execution_count": null,
   "metadata": {},
   "outputs": [],
   "source": []
  }
 ],
 "metadata": {
  "kernelspec": {
   "display_name": "Python 3",
   "language": "python",
   "name": "python3"
  },
  "language_info": {
   "codemirror_mode": {
    "name": "ipython",
    "version": 3
   },
   "file_extension": ".py",
   "mimetype": "text/x-python",
   "name": "python",
   "nbconvert_exporter": "python",
   "pygments_lexer": "ipython3",
   "version": "3.8.8"
  }
 },
 "nbformat": 4,
 "nbformat_minor": 4
}
