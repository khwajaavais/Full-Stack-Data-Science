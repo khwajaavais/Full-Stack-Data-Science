{
 "cells": [
  {
   "cell_type": "markdown",
   "metadata": {},
   "source": [
    "### Q.1 Write a Python program to print \"Hello Python\"?"
   ]
  },
  {
   "cell_type": "code",
   "execution_count": 1,
   "metadata": {},
   "outputs": [
    {
     "name": "stdout",
     "output_type": "stream",
     "text": [
      "Enter Input: Hello World\n",
      "Hello World\n"
     ]
    }
   ],
   "source": [
    "xyz = input(\"Enter Input: \")\n",
    "print(xyz)"
   ]
  },
  {
   "cell_type": "code",
   "execution_count": 2,
   "metadata": {},
   "outputs": [
    {
     "name": "stdout",
     "output_type": "stream",
     "text": [
      "Hello World\n"
     ]
    }
   ],
   "source": [
    "print('Hello World')"
   ]
  },
  {
   "cell_type": "markdown",
   "metadata": {},
   "source": [
    "### Q.2 Write a Python program to do arithmetical operations addition and division.?"
   ]
  },
  {
   "cell_type": "code",
   "execution_count": 3,
   "metadata": {},
   "outputs": [
    {
     "name": "stdout",
     "output_type": "stream",
     "text": [
      "Press 1 : Addition\n",
      "Press 2 : Division \n",
      "Press 3 : Exit\n",
      "\n",
      "1\n",
      "\n",
      "Num-1: 10\n",
      "Num-2: 5\n",
      "\n",
      "Sum: 15\n",
      "\n",
      "Press 1 : Addition\n",
      "Press 2 : Division \n",
      "Press 3 : Exit\n",
      "2\n",
      "\n",
      "Num-1: 10\n",
      "Num-2: 5\n",
      "\n",
      "Division of 10 by 5 : 2.0\n",
      "\n",
      "Press 1 : Addition\n",
      "Press 2 : Division \n",
      "Press 3 : Exit\n",
      "3\n"
     ]
    }
   ],
   "source": [
    "op = \"\"\"Press 1 : Addition\n",
    "Press 2 : Division \n",
    "Press 3 : Exit\"\"\"\n",
    "\n",
    "print(f\"{op}\\n\")\n",
    "\n",
    "\n",
    "while True:\n",
    "    a = int(input())\n",
    "    if a ==3:\n",
    "        break\n",
    "    \n",
    "    num1 = int(input(f\"\\nNum-1: \"))\n",
    "    num2 = int(input(\"Num-2: \"))\n",
    "\n",
    "    if a == 1:\n",
    "        c = num1 + num2\n",
    "        print(f\"\\nSum: {c}\\n\")\n",
    "        print(op)\n",
    "    \n",
    "    elif a == 2:\n",
    "        d = num1 / num2\n",
    "        print(f\"\\nDivision of {num1} by {num2} : {d}\\n\")\n",
    "        print(op)\n",
    "\n",
    "        \n",
    "    else:\n",
    "        print(\"\\nEnter a valid operation\")"
   ]
  },
  {
   "cell_type": "code",
   "execution_count": null,
   "metadata": {},
   "outputs": [],
   "source": []
  },
  {
   "cell_type": "markdown",
   "metadata": {},
   "source": [
    "### Q.3 Write a Python program to find the area of a triangle?"
   ]
  },
  {
   "cell_type": "code",
   "execution_count": 4,
   "metadata": {},
   "outputs": [
    {
     "name": "stdout",
     "output_type": "stream",
     "text": [
      "31.5\n"
     ]
    }
   ],
   "source": [
    "def area_of_tri(base,height):\n",
    "    area = (base * height)/2\n",
    "    print(area)\n",
    "    \n",
    "area = area_of_tri(7,9)"
   ]
  },
  {
   "cell_type": "markdown",
   "metadata": {},
   "source": [
    "### Q.4 Write a Python program to swap two variables?"
   ]
  },
  {
   "cell_type": "code",
   "execution_count": 5,
   "metadata": {},
   "outputs": [
    {
     "name": "stdout",
     "output_type": "stream",
     "text": [
      "Num-1: 10\n",
      "Num-2: 5\n",
      "Before Swap :\n",
      "\tnum-1: 10\tnum-2: 5 \n",
      "After Swap :\n",
      "\tnum-1: 5\tnum-2: 10 \n"
     ]
    }
   ],
   "source": [
    "num_1 = int(input(\"Num-1: \"))\n",
    "num_2 = int(input(\"Num-2: \"))\n",
    "\n",
    "print(f\"Before Swap :\\n\\tnum-1: {num_1}\\tnum-2: {num_2} \")\n",
    "\n",
    "num_1,num_2 = num_2,num_1\n",
    "\n",
    "print(f\"After Swap :\\n\\tnum-1: {num_1}\\tnum-2: {num_2} \")"
   ]
  },
  {
   "cell_type": "markdown",
   "metadata": {},
   "source": [
    "### Q.5 Write a Python program to generate a random number?"
   ]
  },
  {
   "cell_type": "code",
   "execution_count": 6,
   "metadata": {},
   "outputs": [
    {
     "name": "stdout",
     "output_type": "stream",
     "text": [
      "Enter Min number : 10\n",
      "Enter Max number : 100\n"
     ]
    }
   ],
   "source": [
    "import random\n",
    "\n",
    "a = int(input(\"Enter Min number : \"))\n",
    "b = int(input(\"Enter Max number : \"))"
   ]
  },
  {
   "cell_type": "code",
   "execution_count": 7,
   "metadata": {},
   "outputs": [
    {
     "name": "stdout",
     "output_type": "stream",
     "text": [
      "30\n"
     ]
    }
   ],
   "source": [
    "print(random.randint(a,b))"
   ]
  },
  {
   "cell_type": "code",
   "execution_count": 8,
   "metadata": {},
   "outputs": [
    {
     "name": "stdout",
     "output_type": "stream",
     "text": [
      "55\n"
     ]
    }
   ],
   "source": [
    "print(random.randint(a,b))"
   ]
  }
 ],
 "metadata": {
  "kernelspec": {
   "display_name": "Python 3",
   "language": "python",
   "name": "python3"
  },
  "language_info": {
   "codemirror_mode": {
    "name": "ipython",
    "version": 3
   },
   "file_extension": ".py",
   "mimetype": "text/x-python",
   "name": "python",
   "nbconvert_exporter": "python",
   "pygments_lexer": "ipython3",
   "version": "3.8.8"
  }
 },
 "nbformat": 4,
 "nbformat_minor": 4
}
