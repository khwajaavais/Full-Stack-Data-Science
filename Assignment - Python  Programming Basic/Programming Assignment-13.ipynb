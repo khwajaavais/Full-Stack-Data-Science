{
 "cells": [
  {
   "cell_type": "markdown",
   "metadata": {},
   "source": [
    "<h1 align='center'>Python Programming Basic Assignment - 13</h1>"
   ]
  },
  {
   "cell_type": "markdown",
   "metadata": {},
   "source": [
    "---"
   ]
  },
  {
   "cell_type": "markdown",
   "metadata": {},
   "source": [
    "<h3>Q1</h3>\n",
    "<pre>\n",
    "<b>\n",
    "Write a program that calculates and prints the value according to the given formula:\n",
    "Q = Square root of [(2 * C * D)/H]\n",
    "Following are the fixed values of C and H:- C is 50. H is 30.\n",
    "D is the variable whose values should be input to your program in a comma-separated sequence.\n",
    "\n",
    "Example\n",
    "Let us assume the following comma separated input sequence is given to the program: 100,150,180\n",
    "The output of the program should be: 18,22,24"
   ]
  },
  {
   "cell_type": "code",
   "execution_count": 1,
   "metadata": {},
   "outputs": [
    {
     "name": "stdout",
     "output_type": "stream",
     "text": [
      "Enter values:\n",
      "100,150,180\n",
      "Output: 18 22 24 "
     ]
    }
   ],
   "source": [
    "D = [int(i) for i in input(\"Enter values:\\n\").split(',')]\n",
    "\n",
    "C, H = 50, 30\n",
    "\n",
    "print(\"Output:\", end=\" \")\n",
    "for j in range(0,len(D)):\n",
    "    \n",
    "    Q = ((2 * C * D[j]) / H)\n",
    "    Q = Q ** 0.5\n",
    "    \n",
    "    print(f\"{round(Q)}\", end=\" \")"
   ]
  },
  {
   "cell_type": "markdown",
   "metadata": {},
   "source": [
    "<h3>Q2</h3>\n",
    "<pre><b>\n",
    "Write a program which takes 2 digits, X,Y as input and generates a 2-dimensional array. The element value in the i-th \n",
    "row  and j-th column of the array should be i*j.\n",
    "Note: i=0,1.., X-1; j=0,1,¡Y-1.\n",
    "\n",
    "Example\n",
    "Suppose the following inputs are given to the program: 3,5\n",
    "Then, the output of the program should be: [[0, 0, 0, 0, 0], [0, 1, 2, 3, 4], [0, 2, 4, 6, 8]]"
   ]
  },
  {
   "cell_type": "code",
   "execution_count": 2,
   "metadata": {},
   "outputs": [
    {
     "name": "stdout",
     "output_type": "stream",
     "text": [
      "Enter no of rows: 3\n",
      "Enter no of columns: 5\n",
      "[0, 0, 0, 0, 0]\n",
      "[0, 1, 2, 3, 4]\n",
      "[0, 2, 4, 6, 8]\n",
      "[[0, 0, 0, 0, 0], [0, 1, 2, 3, 4], [0, 2, 4, 6, 8]]\n"
     ]
    }
   ],
   "source": [
    "x = int(input(\"Enter no of rows: \"))\n",
    "y = int(input(\"Enter no of columns: \"))\n",
    "mat = []\n",
    "\n",
    "for i in range(x):\n",
    "    row = []\n",
    "    for j in range(y):\n",
    "        row.append(i*j)\n",
    "    mat.append(row)\n",
    "    print(row)\n",
    "\n",
    "print(mat)"
   ]
  },
  {
   "cell_type": "markdown",
   "metadata": {},
   "source": [
    "<h3>Q3</h3>\n",
    "<pre><b>\n",
    "Write a program that accepts a comma separated sequence of words as input and prints the words in a comma-separated\n",
    "sequence after sorting them alphabetically.\n",
    "\n",
    "Suppose the following input is supplied to the program: without,hello,bag,world\n",
    "Then, the output should be: bag,hello,without,world"
   ]
  },
  {
   "cell_type": "code",
   "execution_count": 3,
   "metadata": {},
   "outputs": [
    {
     "name": "stdout",
     "output_type": "stream",
     "text": [
      "Enter values:\n",
      "without,hello,bag,world\n",
      "bag,hello,without,world,"
     ]
    }
   ],
   "source": [
    "strings = [str(i) for i in input(\"Enter values:\\n\").split(',')]\n",
    "strings.sort()\n",
    "for k in strings:\n",
    "    print(k, end = \",\")"
   ]
  },
  {
   "cell_type": "markdown",
   "metadata": {},
   "source": [
    "<h3>Q4</h3>\n",
    "<pre><b>\n",
    "Write a program that accepts a sequence of whitespace separated words as input and prints the words after removing all \n",
    "duplicate words and sorting them alphanumerically.\n",
    "\n",
    "Suppose the following input is supplied to the program: hello world and practice makes perfect and hello world again\n",
    "Then, the output should be: again and hello makes perfect practice world"
   ]
  },
  {
   "cell_type": "code",
   "execution_count": 4,
   "metadata": {},
   "outputs": [
    {
     "name": "stdout",
     "output_type": "stream",
     "text": [
      "Enter words:\n",
      "hello world and practice makes perfect and hello world again\n",
      "Alphanumerically sorted words: again and hello makes perfect practice world\n"
     ]
    }
   ],
   "source": [
    "words = [str(i) for i in input(\"Enter words:\\n\").split(' ')]\n",
    "words = list(set(words))\n",
    "words.sort()\n",
    "\n",
    "words = ' '.join(words)\n",
    "print(f\"Alphanumerically sorted words: {words}\")"
   ]
  },
  {
   "cell_type": "markdown",
   "metadata": {},
   "source": [
    "<h3>Q5</h3>\n",
    "<pre><b>\n",
    "Write a program that accepts a sentence and calculate the number of letters and digits.\n",
    "Suppose the following input is supplied to the program: hello world! 123\n",
    "Then, the output should be: LETTERS 10 DIGITS 3"
   ]
  },
  {
   "cell_type": "code",
   "execution_count": 5,
   "metadata": {},
   "outputs": [
    {
     "name": "stdout",
     "output_type": "stream",
     "text": [
      "Enter sentense: hello world! 123\n",
      "LETTERS 10 \n",
      "DIGITS 3\n"
     ]
    }
   ],
   "source": [
    "sentence = str(input(\"Enter sentense: \"))\n",
    "letters = 0\n",
    "digits = 0\n",
    "\n",
    "for i in sentence:\n",
    "    if i.isalpha():\n",
    "        letters = letters+1\n",
    "    elif i.isdigit():\n",
    "        digits = digits+1\n",
    "    else:\n",
    "        pass\n",
    "     \n",
    "print(f\"LETTERS {letters} \\nDIGITS {digits}\")"
   ]
  },
  {
   "cell_type": "markdown",
   "metadata": {},
   "source": [
    "<h3>Q6</h3>\n",
    "<pre><b>\n",
    "\n",
    "A website requires the users to input username and password to register. Write a program to check the validity of \n",
    "password input by users.\n",
    "\n",
    "Following are the criteria for checking the password:\n",
    "    1. At least 1 letter between [a-z]\n",
    "    2. At least 1 number between [0-9]\n",
    "    1. At least 1 letter between [A-Z]\n",
    "    3. At least 1 character from [$#@]\n",
    "    4. Minimum length of transaction password: 6\n",
    "    5. Maximum length of transaction password: 12\n",
    "Your program should accept a sequence of comma separated passwords and will check them according to the above criteria. Passwords that match the criteria are to be printed, each separated by a comma.\n",
    "\n",
    "Example\n",
    "If the following passwords are given as input to the program: ABd1234@1,a F1#,2w3E*,2We3345\n",
    "Then, the output of the program should be: ABd1234@1"
   ]
  },
  {
   "cell_type": "code",
   "execution_count": 6,
   "metadata": {},
   "outputs": [
    {
     "name": "stdout",
     "output_type": "stream",
     "text": [
      "Enter passwords:\n",
      "ABd1234@1,a F1#,2w3E*,2We3345\n",
      "\n",
      "Correct password is: ['ABd1234@1']\n"
     ]
    }
   ],
   "source": [
    "passwords = [str(i) for i in input(\"Enter passwords:\\n\").split(\",\")]\n",
    "\n",
    "spl_char = [\"$\",\"#\",\"@\"]\n",
    "correctpass = []\n",
    "\n",
    "for i in passwords:\n",
    "    if (len(i)<6 or len(i)>12):\n",
    "        continue\n",
    "    if (i.isupper() or i.islower()):\n",
    "        continue\n",
    "    num = any(j.isdigit() for j in i)\n",
    "    if (not num):\n",
    "        continue\n",
    "    spl = any(j in spl_char for j in i)\n",
    "    if (not spl):\n",
    "        continue\n",
    "    \n",
    "    correctpass.append(i)\n",
    "\n",
    "print(f\"\\nCorrect password is: {correctpass}\")"
   ]
  },
  {
   "cell_type": "code",
   "execution_count": null,
   "metadata": {},
   "outputs": [],
   "source": []
  }
 ],
 "metadata": {
  "kernelspec": {
   "display_name": "Python 3",
   "language": "python",
   "name": "python3"
  },
  "language_info": {
   "codemirror_mode": {
    "name": "ipython",
    "version": 3
   },
   "file_extension": ".py",
   "mimetype": "text/x-python",
   "name": "python",
   "nbconvert_exporter": "python",
   "pygments_lexer": "ipython3",
   "version": "3.8.8"
  }
 },
 "nbformat": 4,
 "nbformat_minor": 4
}
