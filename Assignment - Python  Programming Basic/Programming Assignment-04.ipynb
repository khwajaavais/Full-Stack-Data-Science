{
 "cells": [
  {
   "cell_type": "markdown",
   "metadata": {},
   "source": [
    "### 1. Write a Python Program to Find the Factorial of a Number?"
   ]
  },
  {
   "cell_type": "code",
   "execution_count": 1,
   "metadata": {},
   "outputs": [],
   "source": [
    "def fact():\n",
    "    num = int(input(\"Enter number: \"))\n",
    "    factorial = 1\n",
    "\n",
    "    if num<0:\n",
    "        print(\"Factorial does not exist\")\n",
    "\n",
    "    elif num == 0:\n",
    "        print(\"Factorial of 0 : 1\")\n",
    "\n",
    "    else:\n",
    "        for i in range(1,num+1):\n",
    "            factorial = factorial*i\n",
    "        print(f\"Factorial of {num} : {factorial}\")"
   ]
  },
  {
   "cell_type": "code",
   "execution_count": 2,
   "metadata": {},
   "outputs": [
    {
     "name": "stdout",
     "output_type": "stream",
     "text": [
      "Enter number: 7\n",
      "Factorial of 7 : 5040\n"
     ]
    }
   ],
   "source": [
    "fact()"
   ]
  },
  {
   "cell_type": "code",
   "execution_count": 3,
   "metadata": {},
   "outputs": [
    {
     "name": "stdout",
     "output_type": "stream",
     "text": [
      "Enter number: 0\n",
      "Factorial of 0 : 1\n"
     ]
    }
   ],
   "source": [
    "fact()"
   ]
  },
  {
   "cell_type": "code",
   "execution_count": 4,
   "metadata": {},
   "outputs": [
    {
     "name": "stdout",
     "output_type": "stream",
     "text": [
      "Enter number: -5\n",
      "Factorial does not exist\n"
     ]
    }
   ],
   "source": [
    "fact()"
   ]
  },
  {
   "cell_type": "markdown",
   "metadata": {},
   "source": [
    "### 2. Write a Python Program to Display the multiplication Table?"
   ]
  },
  {
   "cell_type": "code",
   "execution_count": 5,
   "metadata": {},
   "outputs": [
    {
     "name": "stdout",
     "output_type": "stream",
     "text": [
      "Enter number: 5\n",
      "5 X 1 = 5\n",
      "5 X 2 = 10\n",
      "5 X 3 = 15\n",
      "5 X 4 = 20\n",
      "5 X 5 = 25\n",
      "5 X 6 = 30\n",
      "5 X 7 = 35\n",
      "5 X 8 = 40\n",
      "5 X 9 = 45\n",
      "5 X 10 = 50\n"
     ]
    }
   ],
   "source": [
    "number = int(input(\"Enter number: \"))\n",
    "\n",
    "for i in range(1,11):\n",
    "    product = number*i\n",
    "    print(f\"{number} X {i} = {product}\")"
   ]
  },
  {
   "cell_type": "markdown",
   "metadata": {},
   "source": [
    "### 3. Write a Python Program to Print the Fibonacci sequence?"
   ]
  },
  {
   "cell_type": "code",
   "execution_count": 6,
   "metadata": {},
   "outputs": [
    {
     "name": "stdout",
     "output_type": "stream",
     "text": [
      "Enter desired length: 10\n"
     ]
    },
    {
     "data": {
      "text/plain": [
       "[0, 1, 1, 2, 3, 5, 8, 13, 21, 34]"
      ]
     },
     "execution_count": 6,
     "metadata": {},
     "output_type": "execute_result"
    }
   ],
   "source": [
    "fibo_list = [0,1]\n",
    "n = int(input(\"Enter desired length: \"))\n",
    "count = 3\n",
    "\n",
    "while True:\n",
    "    if count>n:\n",
    "        break\n",
    "    \n",
    "    a = fibo_list[-2]\n",
    "    b = fibo_list[-1]\n",
    "    \n",
    "    sum = a + b\n",
    "    fibo_list.append(sum)\n",
    "    count+=1\n",
    "    \n",
    "fibo_list"
   ]
  },
  {
   "cell_type": "code",
   "execution_count": null,
   "metadata": {},
   "outputs": [],
   "source": []
  },
  {
   "cell_type": "markdown",
   "metadata": {},
   "source": [
    "### 4. Write a Python Program to Check Armstrong Number?"
   ]
  },
  {
   "cell_type": "code",
   "execution_count": 7,
   "metadata": {},
   "outputs": [],
   "source": [
    "def armstrong():\n",
    "    num = int(input(\"Enter number to check: \"))\n",
    "    rem = 0\n",
    "    s = 0\n",
    "    temp = num\n",
    "\n",
    "    while temp>0:\n",
    "        rem = temp%10\n",
    "        s = s + rem**3\n",
    "        temp = temp//10\n",
    "\n",
    "    if num == s:\n",
    "        print(\"its armstrong number\")\n",
    "    else:\n",
    "        print(\"not armstrong number\")"
   ]
  },
  {
   "cell_type": "code",
   "execution_count": 8,
   "metadata": {},
   "outputs": [
    {
     "name": "stdout",
     "output_type": "stream",
     "text": [
      "Enter number to check: 153\n",
      "its armstrong number\n"
     ]
    }
   ],
   "source": [
    "armstrong()"
   ]
  },
  {
   "cell_type": "code",
   "execution_count": 9,
   "metadata": {},
   "outputs": [
    {
     "name": "stdout",
     "output_type": "stream",
     "text": [
      "Enter number to check: 105\n",
      "not armstrong number\n"
     ]
    }
   ],
   "source": [
    "armstrong()"
   ]
  },
  {
   "cell_type": "markdown",
   "metadata": {},
   "source": [
    "### 5. Write a Python Program to Find Armstrong Number in an Interval?"
   ]
  },
  {
   "cell_type": "code",
   "execution_count": 10,
   "metadata": {},
   "outputs": [
    {
     "name": "stdout",
     "output_type": "stream",
     "text": [
      "Enter lower limit of interval: 10\n",
      "Enter upper limit of interval: 1000\n",
      "Armstrong numbers in given interval are:  64 125 153 216 370 371 407 729 "
     ]
    }
   ],
   "source": [
    "lower = int(input(\"Enter lower limit of interval: \"))\n",
    "upper = int(input(\"Enter upper limit of interval: \"))\n",
    "print(\"Armstrong numbers in given interval are: \", end = \" \")\n",
    "\n",
    "for num in range(lower,upper+1):\n",
    "    s = 0\n",
    "    temp = num\n",
    "\n",
    "    while temp>0:\n",
    "    \n",
    "        rem = temp%10\n",
    "        s = s + rem**3\n",
    "        temp = temp//10\n",
    "        \n",
    "        if num==s:\n",
    "            print(num, end=\" \")"
   ]
  },
  {
   "cell_type": "markdown",
   "metadata": {},
   "source": [
    "### 6. Write a Python Program to Find the Sum of Natural Numbers?"
   ]
  },
  {
   "cell_type": "code",
   "execution_count": 11,
   "metadata": {},
   "outputs": [],
   "source": [
    "# Using Class\n",
    "\n",
    "import logging as lg\n",
    "lg.basicConfig(filename='error.log',level=lg.INFO)\n",
    "\n",
    "class sum_natural_num:\n",
    "    def __init__(self,n):\n",
    "        self.n=n\n",
    "    def main_fun(self):\n",
    "        try:\n",
    "            print(self.n*(self.n+1)//2)\n",
    "        except Exception as e:\n",
    "            lg.info(e)\n",
    "    def __str__(self):\n",
    "        return \"sum_natural_num class created\""
   ]
  },
  {
   "cell_type": "code",
   "execution_count": 12,
   "metadata": {},
   "outputs": [
    {
     "name": "stdout",
     "output_type": "stream",
     "text": [
      "Enter the number: 10\n",
      "55\n"
     ]
    }
   ],
   "source": [
    "try:\n",
    "    num = int(input(\"Enter the number: \")) \n",
    "    n=sum_natural_num(num)\n",
    "    n.main_fun()\n",
    "except Exception as e:\n",
    "    lg.info(str(e))"
   ]
  },
  {
   "cell_type": "code",
   "execution_count": 14,
   "metadata": {},
   "outputs": [
    {
     "name": "stdout",
     "output_type": "stream",
     "text": [
      "Enter the number: 10\n"
     ]
    },
    {
     "data": {
      "text/plain": [
       "55"
      ]
     },
     "execution_count": 14,
     "metadata": {},
     "output_type": "execute_result"
    }
   ],
   "source": [
    "# METHOD 2\n",
    "\n",
    "n = int(input(\"Enter the number: \")) \n",
    "\n",
    "sum = 0\n",
    "for i in range(1,n+1):\n",
    "    sum=sum+i\n",
    "sum"
   ]
  },
  {
   "cell_type": "code",
   "execution_count": null,
   "metadata": {},
   "outputs": [],
   "source": []
  }
 ],
 "metadata": {
  "kernelspec": {
   "display_name": "Python 3",
   "language": "python",
   "name": "python3"
  },
  "language_info": {
   "codemirror_mode": {
    "name": "ipython",
    "version": 3
   },
   "file_extension": ".py",
   "mimetype": "text/x-python",
   "name": "python",
   "nbconvert_exporter": "python",
   "pygments_lexer": "ipython3",
   "version": "3.8.8"
  }
 },
 "nbformat": 4,
 "nbformat_minor": 4
}
