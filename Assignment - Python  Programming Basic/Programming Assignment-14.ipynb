{
 "cells": [
  {
   "cell_type": "markdown",
   "id": "05cda81f",
   "metadata": {},
   "source": [
    "<h1 align='center'>Python Programming Basic Assignment - 14</h1>"
   ]
  },
  {
   "cell_type": "markdown",
   "id": "84da5dc9",
   "metadata": {},
   "source": [
    "---"
   ]
  },
  {
   "cell_type": "markdown",
   "id": "7024841e",
   "metadata": {},
   "source": [
    "<h3>Q1</h3>\n",
    "<b>\n",
    "Define a class with a generator which can iterate the numbers, which are divisible by 7, between a given range 0 and n."
   ]
  },
  {
   "cell_type": "code",
   "execution_count": 1,
   "id": "a67d023e",
   "metadata": {},
   "outputs": [],
   "source": [
    "class itrate:\n",
    "    def __init__(self,n):\n",
    "        self.n  = n\n",
    "    \n",
    "    def divisible(self):\n",
    "        for i in range(0, self.n):\n",
    "            if i%7==0 and i>0:\n",
    "                yield(i)"
   ]
  },
  {
   "cell_type": "code",
   "execution_count": 2,
   "id": "a45bce14",
   "metadata": {},
   "outputs": [],
   "source": [
    "a = itrate(100)\n",
    "res = a.divisible()"
   ]
  },
  {
   "cell_type": "code",
   "execution_count": 3,
   "id": "ad637825",
   "metadata": {},
   "outputs": [
    {
     "data": {
      "text/plain": [
       "7"
      ]
     },
     "execution_count": 3,
     "metadata": {},
     "output_type": "execute_result"
    }
   ],
   "source": [
    "next(res)"
   ]
  },
  {
   "cell_type": "code",
   "execution_count": 4,
   "id": "bbcf749d",
   "metadata": {},
   "outputs": [
    {
     "data": {
      "text/plain": [
       "14"
      ]
     },
     "execution_count": 4,
     "metadata": {},
     "output_type": "execute_result"
    }
   ],
   "source": [
    "next(res)"
   ]
  },
  {
   "cell_type": "markdown",
   "id": "7437d374",
   "metadata": {},
   "source": [
    "<h3>Q2</h3>\n",
    "<b>    <pre>\n",
    "Write a program to compute the frequency of the words from the input. The outputshould output after sorting the key \n",
    "alphanumerically.\n",
    "\n",
    "Suppose the following input is supplied to the program: \n",
    "New to Python or choosing between Python 2 and Python 3? Read Python 2 or Python 3.\n",
    "Then, the output should be:\n",
    "2:2 | 3.:1 | 3?:1 | New:1 | Python:5 | Read:1 | and:1 | between:1 | choosing:1 | or:2 | to:1"
   ]
  },
  {
   "cell_type": "code",
   "execution_count": 5,
   "id": "12c69564",
   "metadata": {},
   "outputs": [
    {
     "name": "stdout",
     "output_type": "stream",
     "text": [
      "Enter the string: New to Python or choosing between Python 2 and Python 3? Read Python 2 or Python 3.\n",
      "2 : 2 | 3. : 1 | 3? : 1 | New : 1 | Python : 5 | Read : 1 | and : 1 | between : 1 | choosing : 1 | or : 2 | to : 1 | "
     ]
    }
   ],
   "source": [
    "input_string = str(input(\"Enter the string: \")).split()\n",
    "frequency_check = sorted(set(input_string))\n",
    "\n",
    "for i in frequency_check:\n",
    "    print(f\"{i} : {input_string.count(i)}\", end=\" | \")"
   ]
  },
  {
   "cell_type": "markdown",
   "id": "4187aad0",
   "metadata": {},
   "source": [
    "<h3>Q3</h3>\n",
    "<b>\n",
    "Define a class Person and its two child classes: Male and Female. \n",
    "    \n",
    "All classes have a method &quot;getGender&quot; which can print &quot;Male&quot; for Male class and &quot;Female&quot; for Female class."
   ]
  },
  {
   "cell_type": "code",
   "execution_count": 6,
   "id": "1353435a",
   "metadata": {},
   "outputs": [
    {
     "name": "stdout",
     "output_type": "stream",
     "text": [
      "male\n",
      "female\n"
     ]
    }
   ],
   "source": [
    "class person:\n",
    "    def getgender(self):\n",
    "        pass\n",
    "\n",
    "class male(person):\n",
    "    def getgender(self):\n",
    "        return \"male\"\n",
    "\n",
    "class female(person):\n",
    "    def getgender(self):\n",
    "        return \"female\"\n",
    "    \n",
    "m = male()\n",
    "print(m.getgender())\n",
    "\n",
    "f = female()\n",
    "print(f.getgender())"
   ]
  },
  {
   "cell_type": "markdown",
   "id": "bb2d969e",
   "metadata": {},
   "source": [
    "<h3>Q4</h3>\n",
    "<b>\n",
    "Please write a program to generate all sentences where subject is in [&quot;I&quot;, &quot;You&quot;] and verb is in [&quot;Play&quot;, &quot;Love&quot;] and the object is in [&quot;Hockey&quot;,&quot;Football&quot;]."
   ]
  },
  {
   "cell_type": "code",
   "execution_count": 7,
   "id": "62baaa26",
   "metadata": {},
   "outputs": [
    {
     "name": "stdout",
     "output_type": "stream",
     "text": [
      "I Play Hockey\n",
      "I Play Football\n",
      "I Love Hockey\n",
      "I Love Football\n",
      "You Play Hockey\n",
      "You Play Football\n",
      "You Love Hockey\n",
      "You Love Football\n"
     ]
    }
   ],
   "source": [
    "subject = [\"I\", \"You\"]\n",
    "verb = [\"Play\", \"Love\"]\n",
    "objects = [\"Hockey\",\"Football\"]\n",
    "\n",
    "for i in subject:\n",
    "    for j in verb:\n",
    "        for k in objects:\n",
    "            print(\"{} {} {}\".format(i,j,k))"
   ]
  },
  {
   "cell_type": "markdown",
   "id": "a2c87d46",
   "metadata": {},
   "source": [
    "<h3>Q5</h3>\n",
    "<b>Please write a program to compress and decompress the string &quot;hello world!hello world!hello world!hello world!&quot;."
   ]
  },
  {
   "cell_type": "code",
   "execution_count": 8,
   "id": "c8b598a4",
   "metadata": {},
   "outputs": [
    {
     "name": "stdout",
     "output_type": "stream",
     "text": [
      "b'x\\x9c\\xcbH\\xcd\\xc9\\xc9W(\\xcf/\\xcaIQ\\xcc \\x82\\r\\x00\\xbd[\\x11\\xf5'\n",
      "b'hello world!hello world!hello world!hello world!'\n"
     ]
    }
   ],
   "source": [
    "import zlib\n",
    "\n",
    "string = 'hello world!hello world!hello world!hello world!'.encode()\n",
    "com = zlib.compress(string)\n",
    "\n",
    "print(com)\n",
    "print(zlib.decompress(com))"
   ]
  },
  {
   "cell_type": "markdown",
   "id": "1d7f8fc6",
   "metadata": {},
   "source": [
    "<h3>Q5</h3>\n",
    "<b>Please write a binary search function which searches an item in a sorted list. The function should return the index of element to be searched in the list."
   ]
  },
  {
   "cell_type": "code",
   "execution_count": 9,
   "id": "b82db159",
   "metadata": {},
   "outputs": [],
   "source": [
    "def binary_search(l,n):\n",
    "    low = 0\n",
    "    high = len(l)-1\n",
    "    \n",
    "    while low<=high:\n",
    "        mid = (low+high)//2\n",
    "        \n",
    "        if l[mid]<n:\n",
    "            low = mid+1\n",
    "            \n",
    "        elif l[mid]>n:\n",
    "            high = mid-1\n",
    "        \n",
    "        else:\n",
    "            return mid\n",
    "    return \"Element Not Found\""
   ]
  },
  {
   "cell_type": "code",
   "execution_count": 10,
   "id": "6458f7be",
   "metadata": {},
   "outputs": [
    {
     "name": "stdout",
     "output_type": "stream",
     "text": [
      "[14, 21, 21, 34, 313]\n"
     ]
    },
    {
     "data": {
      "text/plain": [
       "4"
      ]
     },
     "execution_count": 10,
     "metadata": {},
     "output_type": "execute_result"
    }
   ],
   "source": [
    "l = [14,34,21,313,21]\n",
    "l.sort()\n",
    "print(l)\n",
    "binary_search(l,313)"
   ]
  },
  {
   "cell_type": "code",
   "execution_count": 11,
   "id": "bdd4fe1e",
   "metadata": {},
   "outputs": [
    {
     "data": {
      "text/plain": [
       "'Element Not Found'"
      ]
     },
     "execution_count": 11,
     "metadata": {},
     "output_type": "execute_result"
    }
   ],
   "source": [
    "binary_search(l,6)"
   ]
  },
  {
   "cell_type": "code",
   "execution_count": null,
   "id": "1ce240c2",
   "metadata": {},
   "outputs": [],
   "source": []
  }
 ],
 "metadata": {
  "kernelspec": {
   "display_name": "Python 3",
   "language": "python",
   "name": "python3"
  },
  "language_info": {
   "codemirror_mode": {
    "name": "ipython",
    "version": 3
   },
   "file_extension": ".py",
   "mimetype": "text/x-python",
   "name": "python",
   "nbconvert_exporter": "python",
   "pygments_lexer": "ipython3",
   "version": "3.8.8"
  }
 },
 "nbformat": 4,
 "nbformat_minor": 5
}
