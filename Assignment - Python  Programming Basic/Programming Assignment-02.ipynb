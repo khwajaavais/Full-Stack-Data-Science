{
 "cells": [
  {
   "cell_type": "markdown",
   "metadata": {},
   "source": [
    "### 1. Write a Python program to convert kilometers to miles?"
   ]
  },
  {
   "cell_type": "code",
   "execution_count": 1,
   "metadata": {},
   "outputs": [
    {
     "name": "stdout",
     "output_type": "stream",
     "text": [
      "Enter the Kilometer: 10\n",
      "10 km is equal to 6.21 miles.\n"
     ]
    }
   ],
   "source": [
    "def km_to_miles():\n",
    "    km = int(input('Enter the Kilometer: '))\n",
    "    miles = km * 0.621371\n",
    "    print(f\"{km} km is equal to {round(miles,2)} miles.\")\n",
    "\n",
    "a = km_to_miles()"
   ]
  },
  {
   "cell_type": "markdown",
   "metadata": {},
   "source": [
    "# 2. Write a Python program to convert Celsius to Fahrenheit?"
   ]
  },
  {
   "cell_type": "code",
   "execution_count": 2,
   "metadata": {},
   "outputs": [
    {
     "name": "stdout",
     "output_type": "stream",
     "text": [
      "Enter celcius: 10\n",
      "10 degree celcius is equal to 50.0 fahrenheit.\n"
     ]
    }
   ],
   "source": [
    "celcius = int(input(\"Enter celcius: \"))\n",
    "fahrenheit = (celcius * (9/5)) + 32 \n",
    "\n",
    "print(f\"{celcius} degree celcius is equal to {round(fahrenheit,2)} fahrenheit.\")"
   ]
  },
  {
   "cell_type": "markdown",
   "metadata": {},
   "source": [
    "# 3. Write a Python program to display calendar?"
   ]
  },
  {
   "cell_type": "code",
   "execution_count": 3,
   "metadata": {},
   "outputs": [
    {
     "name": "stdout",
     "output_type": "stream",
     "text": [
      "Enter year: 2021\n",
      "Enter month in number: 11\n",
      "\n",
      "   November 2021\n",
      "Mo Tu We Th Fr Sa Su\n",
      " 1  2  3  4  5  6  7\n",
      " 8  9 10 11 12 13 14\n",
      "15 16 17 18 19 20 21\n",
      "22 23 24 25 26 27 28\n",
      "29 30\n",
      "\n"
     ]
    }
   ],
   "source": [
    "import calendar\n",
    "\n",
    "year  = int(input(\"Enter year: \"))\n",
    "month = int(input(\"Enter month in number: \"))\n",
    "\n",
    "print(f\"\\n{calendar.month(year,month)}\")"
   ]
  },
  {
   "cell_type": "markdown",
   "metadata": {},
   "source": [
    "# 4. Write a Python program to solve quadratic equation?"
   ]
  },
  {
   "cell_type": "code",
   "execution_count": 6,
   "metadata": {},
   "outputs": [
    {
     "name": "stdout",
     "output_type": "stream",
     "text": [
      "Enter num-1: 1\n",
      "Enter num-2: 2\n",
      "Enter num-3: 3\n",
      "(-1+1.4142135623730951j), (-1-1.4142135623730951j)\n"
     ]
    }
   ],
   "source": [
    "# Formula:\n",
    "# x= -b +-sqrt(b**2-4ac)/2 *a\n",
    "\n",
    "import cmath\n",
    "\n",
    "a = int(input(\"Enter num-1: \"))\n",
    "b = int(input(\"Enter num-2: \"))\n",
    "c = int(input(\"Enter num-3: \"))\n",
    "\n",
    "discriminant = (b ** 2) - (4 * a * c)\n",
    "\n",
    "sol1 = (-b + cmath.sqrt(discriminant)) /(2*a)\n",
    "sol2 = (-b - cmath.sqrt(discriminant)) /(2*a)\n",
    "\n",
    "print(f\"{sol1}, {sol2}\")"
   ]
  },
  {
   "cell_type": "markdown",
   "metadata": {},
   "source": [
    "### 5. Write a Python program to swap two variables without temp variable?"
   ]
  },
  {
   "cell_type": "code",
   "execution_count": 5,
   "metadata": {},
   "outputs": [
    {
     "name": "stdout",
     "output_type": "stream",
     "text": [
      "Enter 1st number : 5\n",
      "Enter 2nd number : 10\n",
      "Before Swap :\n",
      "\tfirst-var: 5\tsecond-var: 10 \n",
      "After Swap :\n",
      "\tfirst-var: 10\tsecond-var: 5 \n"
     ]
    }
   ],
   "source": [
    "first_var = int(input(\"Enter 1st number : \"))\n",
    "second_var = int(input(\"Enter 2nd number : \"))\n",
    "\n",
    "print(f\"Before Swap :\\n\\tfirst-var: {first_var}\\tsecond-var: {second_var} \")\n",
    "\n",
    "first_var,second_var=second_var,first_var\n",
    "\n",
    "print(f\"After Swap :\\n\\tfirst-var: {first_var}\\tsecond-var: {second_var} \")"
   ]
  },
  {
   "cell_type": "code",
   "execution_count": null,
   "metadata": {},
   "outputs": [],
   "source": []
  }
 ],
 "metadata": {
  "kernelspec": {
   "display_name": "Python 3",
   "language": "python",
   "name": "python3"
  },
  "language_info": {
   "codemirror_mode": {
    "name": "ipython",
    "version": 3
   },
   "file_extension": ".py",
   "mimetype": "text/x-python",
   "name": "python",
   "nbconvert_exporter": "python",
   "pygments_lexer": "ipython3",
   "version": "3.8.8"
  }
 },
 "nbformat": 4,
 "nbformat_minor": 4
}
