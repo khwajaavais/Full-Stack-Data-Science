{
 "cells": [
  {
   "cell_type": "markdown",
   "metadata": {},
   "source": [
    "<h1 align='center'>Python Programming Basic Assignment - 09<h1>"
   ]
  },
  {
   "cell_type": "markdown",
   "metadata": {},
   "source": [
    "---"
   ]
  },
  {
   "cell_type": "markdown",
   "metadata": {},
   "source": [
    "<h3>Q1</h3>\n",
    "<b>Write a Python program to check if the given number is a Disarium Number?"
   ]
  },
  {
   "cell_type": "code",
   "execution_count": 1,
   "metadata": {},
   "outputs": [],
   "source": [
    "def disarium(a):\n",
    "    temp = a\n",
    "    l = len(str(temp))\n",
    "    sum = 0\n",
    "\n",
    "    while temp!=0:\n",
    "        rem = temp%10\n",
    "        sum = sum + rem**l\n",
    "        l = l-1\n",
    "        temp = temp//10\n",
    "    \n",
    "    if sum == a:\n",
    "        print(\"Its a Disarium Number\")\n",
    "    else:\n",
    "        print(\"Try another number\")\n"
   ]
  },
  {
   "cell_type": "code",
   "execution_count": 2,
   "metadata": {},
   "outputs": [
    {
     "name": "stdout",
     "output_type": "stream",
     "text": [
      "Try another number\n"
     ]
    }
   ],
   "source": [
    "disarium(20)"
   ]
  },
  {
   "cell_type": "code",
   "execution_count": 3,
   "metadata": {},
   "outputs": [
    {
     "name": "stdout",
     "output_type": "stream",
     "text": [
      "Its a Disarium Number\n"
     ]
    }
   ],
   "source": [
    "disarium(89)"
   ]
  },
  {
   "cell_type": "markdown",
   "metadata": {},
   "source": [
    "<h3>Q2</h3>\n",
    "<b>Write a Python program to print all disarium numbers between 1 to 100?"
   ]
  },
  {
   "cell_type": "code",
   "execution_count": 7,
   "metadata": {},
   "outputs": [
    {
     "name": "stdout",
     "output_type": "stream",
     "text": [
      "Lower limit: 10\n",
      "Upper limit: 100\n",
      "89 is Disarium Number\n"
     ]
    }
   ],
   "source": [
    "lower_limit = int(input(\"Lower limit: \"))\n",
    "upper_limit = int(input(\"Upper limit: \"))+1\n",
    "\n",
    "for i in range(lower_limit,upper_limit):\n",
    "    temp = i\n",
    "    l = len(str(temp))\n",
    "    sum = 0\n",
    "    while temp!=0:\n",
    "        rem = temp%10\n",
    "        sum = sum + rem**l\n",
    "        l = l-1\n",
    "        temp = temp//10\n",
    "        \n",
    "    if sum==i:\n",
    "        print(f\"{i} is Disarium Number\")"
   ]
  },
  {
   "cell_type": "markdown",
   "metadata": {},
   "source": [
    "<h3>Q3</h3>\n",
    "<b>Write a Python program to check if the given number is Happy Number?"
   ]
  },
  {
   "cell_type": "code",
   "execution_count": 8,
   "metadata": {},
   "outputs": [],
   "source": [
    "def square_sum(n):\n",
    "    sum = 0\n",
    "    while n > 0:\n",
    "        rem = n%10\n",
    "        sum = sum + rem**2\n",
    "        n = n//10\n",
    "    return sum\n",
    "\n",
    "\n",
    "def happy_no(n):\n",
    "    l=set()\n",
    "    while square_sum(n) not in l:\n",
    "        sum1 = square_sum(n)\n",
    "        if sum1==1:\n",
    "            return True\n",
    "        else:\n",
    "            l.add(sum1)\n",
    "            n = sum1\n",
    "    return False   "
   ]
  },
  {
   "cell_type": "code",
   "execution_count": 11,
   "metadata": {},
   "outputs": [
    {
     "data": {
      "text/plain": [
       "True"
      ]
     },
     "execution_count": 11,
     "metadata": {},
     "output_type": "execute_result"
    }
   ],
   "source": [
    "happy_no(10)"
   ]
  },
  {
   "cell_type": "code",
   "execution_count": 10,
   "metadata": {},
   "outputs": [
    {
     "data": {
      "text/plain": [
       "False"
      ]
     },
     "execution_count": 10,
     "metadata": {},
     "output_type": "execute_result"
    }
   ],
   "source": [
    "happy_no(17)"
   ]
  },
  {
   "cell_type": "markdown",
   "metadata": {},
   "source": [
    "<h3>Q4</h3>\n",
    "<b>Write a Python program to print all happy numbers between 1 and 100?"
   ]
  },
  {
   "cell_type": "code",
   "execution_count": 12,
   "metadata": {},
   "outputs": [
    {
     "data": {
      "text/plain": [
       "[1, 7, 10, 13, 19, 23, 28, 31, 32, 44, 49, 68, 70, 79, 82, 86, 91, 94, 97, 100]"
      ]
     },
     "execution_count": 12,
     "metadata": {},
     "output_type": "execute_result"
    }
   ],
   "source": [
    "[i for i in range(1,101) if happy_no(i) == True]"
   ]
  },
  {
   "cell_type": "markdown",
   "metadata": {},
   "source": [
    "<h3>Q5</h3>\n",
    "<b>Write a Python program to determine whether the given number is a Harshad Number?"
   ]
  },
  {
   "cell_type": "code",
   "execution_count": 13,
   "metadata": {},
   "outputs": [],
   "source": [
    "def sumofdigits(n):\n",
    "    sum = 0\n",
    "    temp = n\n",
    "    while temp>0:\n",
    "        rem = temp%10\n",
    "        sum = sum + rem\n",
    "        temp = temp//10\n",
    "    return sum\n",
    "\n",
    "\n",
    "def harshad_number(n):\n",
    "    if n%sumofdigits(n)==0:\n",
    "        return True\n",
    "    return False\n",
    "    "
   ]
  },
  {
   "cell_type": "code",
   "execution_count": 14,
   "metadata": {},
   "outputs": [
    {
     "data": {
      "text/plain": [
       "False"
      ]
     },
     "execution_count": 14,
     "metadata": {},
     "output_type": "execute_result"
    }
   ],
   "source": [
    "harshad_number(9704)"
   ]
  },
  {
   "cell_type": "code",
   "execution_count": 15,
   "metadata": {},
   "outputs": [
    {
     "data": {
      "text/plain": [
       "True"
      ]
     },
     "execution_count": 15,
     "metadata": {},
     "output_type": "execute_result"
    }
   ],
   "source": [
    "harshad_number(18)"
   ]
  },
  {
   "cell_type": "markdown",
   "metadata": {},
   "source": [
    "<h3>Q6</h3>\n",
    "<b>Write a Python program to print all pronic numbers between 1 and 100?"
   ]
  },
  {
   "cell_type": "code",
   "execution_count": 16,
   "metadata": {},
   "outputs": [
    {
     "data": {
      "text/plain": [
       "[1,\n",
       " 2,\n",
       " 3,\n",
       " 4,\n",
       " 5,\n",
       " 6,\n",
       " 7,\n",
       " 8,\n",
       " 9,\n",
       " 10,\n",
       " 12,\n",
       " 18,\n",
       " 20,\n",
       " 21,\n",
       " 24,\n",
       " 27,\n",
       " 30,\n",
       " 36,\n",
       " 40,\n",
       " 42,\n",
       " 45,\n",
       " 48,\n",
       " 50,\n",
       " 54,\n",
       " 60,\n",
       " 63,\n",
       " 70,\n",
       " 72,\n",
       " 80,\n",
       " 81,\n",
       " 84,\n",
       " 90,\n",
       " 100]"
      ]
     },
     "execution_count": 16,
     "metadata": {},
     "output_type": "execute_result"
    }
   ],
   "source": [
    "[i for i in range(1,101) if harshad_number(i)]"
   ]
  },
  {
   "cell_type": "code",
   "execution_count": null,
   "metadata": {},
   "outputs": [],
   "source": []
  }
 ],
 "metadata": {
  "kernelspec": {
   "display_name": "Python 3",
   "language": "python",
   "name": "python3"
  },
  "language_info": {
   "codemirror_mode": {
    "name": "ipython",
    "version": 3
   },
   "file_extension": ".py",
   "mimetype": "text/x-python",
   "name": "python",
   "nbconvert_exporter": "python",
   "pygments_lexer": "ipython3",
   "version": "3.8.8"
  }
 },
 "nbformat": 4,
 "nbformat_minor": 4
}
