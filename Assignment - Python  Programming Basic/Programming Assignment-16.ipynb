{
 "cells": [
  {
   "cell_type": "markdown",
   "id": "c9cc9038",
   "metadata": {},
   "source": [
    "<h1 align='center'>Python Programming Basic Assignment - 16</h1>"
   ]
  },
  {
   "cell_type": "markdown",
   "id": "55ddeeed",
   "metadata": {},
   "source": [
    "---"
   ]
  },
  {
   "cell_type": "markdown",
   "id": "34ab213d",
   "metadata": {},
   "source": [
    "<h3>Q1</h3>\n",
    "<b><pre>\n",
    "Write a function that stutters a word as if someone is struggling to read it. The first two letters are repeated twice \n",
    "with an ellipsis ... and space after each, and then the word is pronounced with a question mark ?.\n",
    "Examples\n",
    "stutter(&quot;incredible&quot;) ➞ &quot;in... in... incredible?&quot;\n",
    "stutter(&quot;enthusiastic&quot;) ➞ &quot;en... en... enthusiastic?&quot;\n",
    "stutter(&quot;outstanding&quot;) ➞ &quot;ou... ou... outstanding?&quot;\n",
    "\n",
    "Hint :- Assume all input is in lower case and at least two characters long."
   ]
  },
  {
   "cell_type": "code",
   "execution_count": 1,
   "id": "1cf3dfa3",
   "metadata": {},
   "outputs": [],
   "source": [
    "wdef stuttering(word):\n",
    "    print(f\"--> {2*(word[:2]+'... ')}{word}?\")"
   ]
  },
  {
   "cell_type": "code",
   "execution_count": 2,
   "id": "401e9058",
   "metadata": {},
   "outputs": [
    {
     "name": "stdout",
     "output_type": "stream",
     "text": [
      "--> in... in... incredible?\n",
      "--> en... en... enthusiastic?\n",
      "--> ou... ou... outstanding?\n"
     ]
    }
   ],
   "source": [
    "stuttering(\"incredible\")\n",
    "stuttering(\"enthusiastic\")\n",
    "stuttering(\"outstanding\")"
   ]
  },
  {
   "cell_type": "markdown",
   "id": "f02bf543",
   "metadata": {},
   "source": [
    "<h3>Q2</h3>\n",
    "<b><pre>\n",
    "Create a function that takes an angle in radians and returns the corresponding angle in degrees rounded to one decimal \n",
    "place.\n",
    "Examples\n",
    "radians_to_degrees(1) ➞ 57.3\n",
    "radians_to_degrees(20) ➞ 1145.9\n",
    "radians_to_degrees(50) ➞ 2864.8"
   ]
  },
  {
   "cell_type": "code",
   "execution_count": 3,
   "id": "ae666732",
   "metadata": {},
   "outputs": [],
   "source": [
    "def radian_to_degree(n):\n",
    "    return round(n*180/3.14,1)"
   ]
  },
  {
   "cell_type": "code",
   "execution_count": 4,
   "id": "fb58dcf0",
   "metadata": {},
   "outputs": [
    {
     "data": {
      "text/plain": [
       "57.3"
      ]
     },
     "execution_count": 4,
     "metadata": {},
     "output_type": "execute_result"
    }
   ],
   "source": [
    "radian_to_degree(1)"
   ]
  },
  {
   "cell_type": "code",
   "execution_count": 5,
   "id": "b649bba5",
   "metadata": {},
   "outputs": [
    {
     "data": {
      "text/plain": [
       "1146.5"
      ]
     },
     "execution_count": 5,
     "metadata": {},
     "output_type": "execute_result"
    }
   ],
   "source": [
    "radian_to_degree(20)"
   ]
  },
  {
   "cell_type": "code",
   "execution_count": 6,
   "id": "1def7dd8",
   "metadata": {},
   "outputs": [
    {
     "data": {
      "text/plain": [
       "2866.2"
      ]
     },
     "execution_count": 6,
     "metadata": {},
     "output_type": "execute_result"
    }
   ],
   "source": [
    "radian_to_degree(50)"
   ]
  },
  {
   "cell_type": "markdown",
   "id": "fbbfdf1c",
   "metadata": {},
   "source": [
    "<h3>Q3</h3>\n",
    "<b><pre>\n",
    "In this challenge, establish if a given integer num is a Curzon number. If 1 plus 2 elevated to num is exactly divisible by 1 plus 2 multiplied by num, then num is a Curzon number. Given a non-negative integer num, implement a  function that\n",
    "returns True if num is a Curzon number, or False otherwise.\n",
    "Examples\n",
    "    is_curzon(5) ➞ True\n",
    "    2 ** 5 + 1 = 33\n",
    "    2 * 5 + 1 = 11\n",
    "    33 is a multiple of 11\n",
    "\n",
    "    is_curzon(10) ➞ False\n",
    "    2 ** 10 + 1 = 1025\n",
    "    2 * 10 + 1 = 21\n",
    "    1025 is not a multiple of 21\n",
    "\n",
    "    is_curzon(14) ➞ True\n",
    "    2 ** 14 + 1 = 16385\n",
    "    2 * 14 + 1 = 29\n",
    "    16385 is a multiple of 29"
   ]
  },
  {
   "cell_type": "code",
   "execution_count": 7,
   "id": "9178f533",
   "metadata": {},
   "outputs": [],
   "source": [
    "def is_curzon(n):\n",
    "    a = 1 + (2**n)\n",
    "    b = 1 + (2*n)\n",
    "    return a % b == 0"
   ]
  },
  {
   "cell_type": "code",
   "execution_count": 8,
   "id": "389ee9d0",
   "metadata": {},
   "outputs": [
    {
     "data": {
      "text/plain": [
       "True"
      ]
     },
     "execution_count": 8,
     "metadata": {},
     "output_type": "execute_result"
    }
   ],
   "source": [
    "is_curzon(5)"
   ]
  },
  {
   "cell_type": "code",
   "execution_count": 9,
   "id": "d1376e80",
   "metadata": {},
   "outputs": [
    {
     "data": {
      "text/plain": [
       "False"
      ]
     },
     "execution_count": 9,
     "metadata": {},
     "output_type": "execute_result"
    }
   ],
   "source": [
    "is_curzon(10)"
   ]
  },
  {
   "cell_type": "code",
   "execution_count": 10,
   "id": "4989c4c4",
   "metadata": {},
   "outputs": [
    {
     "data": {
      "text/plain": [
       "True"
      ]
     },
     "execution_count": 10,
     "metadata": {},
     "output_type": "execute_result"
    }
   ],
   "source": [
    "is_curzon(14)"
   ]
  },
  {
   "cell_type": "markdown",
   "id": "0d1596f3",
   "metadata": {},
   "source": [
    "<h3>Q4</h3>\n",
    "<b><pre>\n",
    "Given the side length x find the area of a hexagon.\n",
    "Examples\n",
    "area_of_hexagon(1) ➞ 2.6\n",
    "area_of_hexagon(2) ➞ 10.4\n",
    "area_of_hexagon(3) ➞ 23.4"
   ]
  },
  {
   "cell_type": "code",
   "execution_count": 11,
   "id": "1a65a5d4",
   "metadata": {},
   "outputs": [],
   "source": [
    "# Actual Formula : Area of Hex = (3 + root 3 + side*side) / 2\n",
    "# root 3 --> 1.73\n",
    "\n",
    "def area_of_hexagon(length):\n",
    "    area = round((3*1.73*length*length)/2, 1)\n",
    "    print(area)"
   ]
  },
  {
   "cell_type": "code",
   "execution_count": 12,
   "id": "ea23b624",
   "metadata": {},
   "outputs": [
    {
     "name": "stdout",
     "output_type": "stream",
     "text": [
      "2.6\n"
     ]
    }
   ],
   "source": [
    "area_of_hexagon(1)"
   ]
  },
  {
   "cell_type": "code",
   "execution_count": 13,
   "id": "f0174ce1",
   "metadata": {},
   "outputs": [
    {
     "name": "stdout",
     "output_type": "stream",
     "text": [
      "10.4\n"
     ]
    }
   ],
   "source": [
    "area_of_hexagon(2)"
   ]
  },
  {
   "cell_type": "code",
   "execution_count": 14,
   "id": "ffbeb743",
   "metadata": {},
   "outputs": [
    {
     "name": "stdout",
     "output_type": "stream",
     "text": [
      "23.4\n"
     ]
    }
   ],
   "source": [
    "area_of_hexagon(3)"
   ]
  },
  {
   "cell_type": "markdown",
   "id": "13945321",
   "metadata": {},
   "source": [
    "<h3>Q5</h3>\n",
    "<b><pre>\n",
    "Create a function that returns a base-2 (binary) representation of a base-10 (decimal) string number. \n",
    "To convert is simple: \n",
    "((2) means base-2 and (10) means base-10)\n",
    "010101001(2) = 1 + 8 + 32 + 128.\n",
    "Going from right to left, the value of the most right bit is 1, now from that every bit to the left\n",
    "will be x2 the value, value of an 8 bit binary numbers are (256, 128, 64, 32, 16, 8, 4, 2, 1).\n",
    "Examples\n",
    "binary(1) ➞ &quot;1&quot;\n",
    " 1* 1 = 1\n",
    "binary(5) ➞ &quot;101&quot;\n",
    " 1 * 1 + 1 * 4 = 5\n",
    "binary(10) ➞ &quot;1010&quot;\n",
    " 1* 2 + 1* 8  = 10"
   ]
  },
  {
   "cell_type": "code",
   "execution_count": 15,
   "id": "584dd3a8",
   "metadata": {},
   "outputs": [],
   "source": [
    "def binary(n):\n",
    "    return bin(n).replace(\"0b\",\"\")"
   ]
  },
  {
   "cell_type": "code",
   "execution_count": 16,
   "id": "4b6d9444",
   "metadata": {},
   "outputs": [
    {
     "data": {
      "text/plain": [
       "'1'"
      ]
     },
     "execution_count": 16,
     "metadata": {},
     "output_type": "execute_result"
    }
   ],
   "source": [
    "binary(1)"
   ]
  },
  {
   "cell_type": "code",
   "execution_count": 17,
   "id": "3736aa43",
   "metadata": {},
   "outputs": [
    {
     "data": {
      "text/plain": [
       "'101'"
      ]
     },
     "execution_count": 17,
     "metadata": {},
     "output_type": "execute_result"
    }
   ],
   "source": [
    "binary(5)"
   ]
  },
  {
   "cell_type": "code",
   "execution_count": 18,
   "id": "d55fd569",
   "metadata": {},
   "outputs": [
    {
     "data": {
      "text/plain": [
       "'1010'"
      ]
     },
     "execution_count": 18,
     "metadata": {},
     "output_type": "execute_result"
    }
   ],
   "source": [
    "binary(10)"
   ]
  },
  {
   "cell_type": "code",
   "execution_count": null,
   "id": "7b40f5f7",
   "metadata": {},
   "outputs": [],
   "source": []
  }
 ],
 "metadata": {
  "kernelspec": {
   "display_name": "Python 3",
   "language": "python",
   "name": "python3"
  },
  "language_info": {
   "codemirror_mode": {
    "name": "ipython",
    "version": 3
   },
   "file_extension": ".py",
   "mimetype": "text/x-python",
   "name": "python",
   "nbconvert_exporter": "python",
   "pygments_lexer": "ipython3",
   "version": "3.8.8"
  }
 },
 "nbformat": 4,
 "nbformat_minor": 5
}
