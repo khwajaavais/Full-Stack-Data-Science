{
 "cells": [
  {
   "cell_type": "markdown",
   "id": "583c3d7b",
   "metadata": {},
   "source": [
    "<h1 align='center'>Python Programming Basic Assignment - 15</h1>"
   ]
  },
  {
   "cell_type": "markdown",
   "id": "b69be654",
   "metadata": {},
   "source": [
    "---"
   ]
  },
  {
   "cell_type": "markdown",
   "id": "7024841e",
   "metadata": {},
   "source": [
    "<h3>Q1</h3>\n",
    "<b><pre>\n",
    "Please write a program using generator to print the numbers which can be divisible by 5 and 7 between 0 and n in comma \n",
    "separated form while n is input by console.\n",
    "Example:\n",
    "If the following n is given as input to the program:  100\n",
    "Then, the output of the program should be: 0,35,70"
   ]
  },
  {
   "cell_type": "code",
   "execution_count": 1,
   "id": "126eaaff",
   "metadata": {},
   "outputs": [
    {
     "name": "stdout",
     "output_type": "stream",
     "text": [
      "Enter the num: 100\n"
     ]
    }
   ],
   "source": [
    "def div(a = int(input('Enter the num: '))):\n",
    "    for i in range(0, a):\n",
    "        if (i%5==0 | i%7==0):\n",
    "            yield(i)"
   ]
  },
  {
   "cell_type": "code",
   "execution_count": 2,
   "id": "b006cc10",
   "metadata": {},
   "outputs": [],
   "source": [
    "a = div()"
   ]
  },
  {
   "cell_type": "code",
   "execution_count": 3,
   "id": "2f03f492",
   "metadata": {},
   "outputs": [
    {
     "name": "stdout",
     "output_type": "stream",
     "text": [
      "0,35,70,"
     ]
    }
   ],
   "source": [
    "for i in a:\n",
    "    print(i, end=',')"
   ]
  },
  {
   "cell_type": "markdown",
   "id": "594b2be4",
   "metadata": {},
   "source": [
    "---"
   ]
  },
  {
   "cell_type": "markdown",
   "id": "3235742e",
   "metadata": {},
   "source": [
    "<h3>Q2</h3>\n",
    "<b><pre>\n",
    "Please write a program using generator to print the even numbers between 0 and n in comma separated form while n is \n",
    "input by console.\n",
    "Example:\n",
    "If the following n is given as input to the program: 10\n",
    "Then, the output of the program should be:0,2,4,6,8,10"
   ]
  },
  {
   "cell_type": "code",
   "execution_count": 4,
   "id": "427fef34",
   "metadata": {},
   "outputs": [
    {
     "name": "stdout",
     "output_type": "stream",
     "text": [
      "Enter the num: 10\n"
     ]
    }
   ],
   "source": [
    "def div(a = int(input('Enter the num: '))):\n",
    "    for i in range(0, a+1):\n",
    "        if (i%2==0):\n",
    "            yield(i)"
   ]
  },
  {
   "cell_type": "code",
   "execution_count": 5,
   "id": "36d8e95a",
   "metadata": {},
   "outputs": [],
   "source": [
    "a = div()"
   ]
  },
  {
   "cell_type": "code",
   "execution_count": 6,
   "id": "313d5813",
   "metadata": {},
   "outputs": [
    {
     "name": "stdout",
     "output_type": "stream",
     "text": [
      "0,2,4,6,8,10,"
     ]
    }
   ],
   "source": [
    "for i in a:\n",
    "    print(i, end=',')"
   ]
  },
  {
   "cell_type": "markdown",
   "id": "496320cb",
   "metadata": {},
   "source": [
    "---"
   ]
  },
  {
   "cell_type": "markdown",
   "id": "8f32fb8e",
   "metadata": {},
   "source": [
    "<h3>Q3</h3>\n",
    "<b><pre>\n",
    "The Fibonacci Sequence is computed based on the following formula:\n",
    "f(n)=0 if n=0\n",
    "f(n)=1 if n=1\n",
    "f(n)=f(n-1)+f(n-2) if n>1\n",
    "\n",
    "Please write a program using list comprehension to print the Fibonacci Sequence in comma separated form with a given n \n",
    "input by console.\n",
    "Example:\n",
    "If the following n is given as input to the program: 7\n",
    "Then, the output of the program should be:\n",
    "0,1,1,2,3,5,8,13"
   ]
  },
  {
   "cell_type": "code",
   "execution_count": 7,
   "id": "9e4ea5b9",
   "metadata": {},
   "outputs": [
    {
     "name": "stdout",
     "output_type": "stream",
     "text": [
      "Enter the num: 7\n",
      "0,1,1,2,3,5,8,13\n"
     ]
    }
   ],
   "source": [
    "n = int(input('Enter the num: '))\n",
    "f = lambda x: 0 if x == 0 else 1 if x == 1 else f(x-1)+f(x-2)\n",
    "\n",
    "print(','.join([str(f(i)) for i in range(0, n+1)]))"
   ]
  },
  {
   "cell_type": "markdown",
   "id": "50cfe296",
   "metadata": {},
   "source": [
    "---"
   ]
  },
  {
   "cell_type": "markdown",
   "id": "c88d4c5d",
   "metadata": {},
   "source": [
    "<h3>Q4</h3>\n",
    "<b><pre>\n",
    "Assuming that we have some email addresses in the \"username@companyname.com\" format, please write program to print the user name of a given email address. Both user names and company names are composed of letters only.\n",
    "Example:\n",
    "If the following email address is given as input to the program: john@google.com\n",
    "Then, the output of the program should be: john"
   ]
  },
  {
   "cell_type": "code",
   "execution_count": 8,
   "id": "2f85e57a",
   "metadata": {},
   "outputs": [],
   "source": [
    "import re\n",
    " \n",
    "# Make a regular expression for validating an Email\n",
    "regex = r'\\b[A-Za-z0-9._%+-]+@[A-Za-z0-9.-]+\\.[A-Z|a-z]{2,}\\b'\n",
    "\n",
    "def email_check(email):\n",
    "    '''\n",
    "    Checking if the entered Email ID is valid or not.\n",
    "    If Valid Email Id: reutn the username of the User\n",
    "    If Invalid Email Id: return \"invalid Email Id\"\n",
    "    '''\n",
    " \n",
    "    # pass the regular expression\n",
    "    # and the string into the fullmatch() method\n",
    "    if(re.fullmatch(regex, email)):\n",
    "        username = email.split('@')[0]\n",
    "        print(username)\n",
    "\n",
    "    else:\n",
    "        print(\"Invalid Email I'd\")"
   ]
  },
  {
   "cell_type": "code",
   "execution_count": 9,
   "id": "70525e2e",
   "metadata": {},
   "outputs": [
    {
     "name": "stdout",
     "output_type": "stream",
     "text": [
      "john\n"
     ]
    }
   ],
   "source": [
    "email_check('john@google.com')"
   ]
  },
  {
   "cell_type": "code",
   "execution_count": 10,
   "id": "0e798ef3",
   "metadata": {},
   "outputs": [
    {
     "name": "stdout",
     "output_type": "stream",
     "text": [
      "john.cena\n"
     ]
    }
   ],
   "source": [
    "email_check('john.cena@google.com')"
   ]
  },
  {
   "cell_type": "code",
   "execution_count": 11,
   "id": "4213c458",
   "metadata": {},
   "outputs": [
    {
     "name": "stdout",
     "output_type": "stream",
     "text": [
      "Invalid Email I'd\n"
     ]
    }
   ],
   "source": [
    "email_check('john.cenagoogle.com')"
   ]
  },
  {
   "cell_type": "code",
   "execution_count": 12,
   "id": "fbf6f86d",
   "metadata": {},
   "outputs": [
    {
     "name": "stdout",
     "output_type": "stream",
     "text": [
      "Invalid Email I'd\n"
     ]
    }
   ],
   "source": [
    "email_check('john.cena@googlecom')"
   ]
  },
  {
   "cell_type": "markdown",
   "id": "84da5dc9",
   "metadata": {},
   "source": [
    "---"
   ]
  },
  {
   "cell_type": "markdown",
   "id": "afd9b026",
   "metadata": {},
   "source": [
    "<h3>Q5</h3>\n",
    "<b><pre>\n",
    "Define a class named Shape and its subclass Square. The Square class has an init function which takes a length as \n",
    "argument. Both classes have a area function which can print the area of the shape where Shape's area is 0 by default."
   ]
  },
  {
   "cell_type": "code",
   "execution_count": 13,
   "id": "cc03ab5f",
   "metadata": {},
   "outputs": [],
   "source": [
    "class Shape():\n",
    "    def __init__(self):\n",
    "        pass\n",
    "    \n",
    "    def area(self):\n",
    "        return 0\n",
    "        \n",
    "class Square():\n",
    "    def __init__(self, length):\n",
    "        Shape.__init__(self)\n",
    "        self.length = length\n",
    "    \n",
    "    def area(self):\n",
    "        return self.length*self.length"
   ]
  },
  {
   "cell_type": "code",
   "execution_count": 14,
   "id": "8e27a7a8",
   "metadata": {},
   "outputs": [
    {
     "name": "stdout",
     "output_type": "stream",
     "text": [
      "9\n"
     ]
    }
   ],
   "source": [
    "a = Square(3)\n",
    "print(a.area())"
   ]
  },
  {
   "cell_type": "markdown",
   "id": "928201a4",
   "metadata": {},
   "source": [
    "---"
   ]
  }
 ],
 "metadata": {
  "kernelspec": {
   "display_name": "Python 3",
   "language": "python",
   "name": "python3"
  },
  "language_info": {
   "codemirror_mode": {
    "name": "ipython",
    "version": 3
   },
   "file_extension": ".py",
   "mimetype": "text/x-python",
   "name": "python",
   "nbconvert_exporter": "python",
   "pygments_lexer": "ipython3",
   "version": "3.8.8"
  }
 },
 "nbformat": 4,
 "nbformat_minor": 5
}
