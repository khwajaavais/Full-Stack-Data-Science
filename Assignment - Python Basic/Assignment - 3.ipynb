{
 "cells": [
  {
   "cell_type": "markdown",
   "metadata": {},
   "source": [
    "<h1 align='center'> Assignment 3 </h1>"
   ]
  },
  {
   "cell_type": "markdown",
   "metadata": {},
   "source": [
    "<h3>Q1</h3>\n",
    "<b>Why are functions advantageous to have in your programs?"
   ]
  },
  {
   "cell_type": "markdown",
   "metadata": {},
   "source": [
    "<pre>\n",
    "<b>Pros of using Functions</b>\n",
    "1. Duplication of the code is reduced.\n",
    "2. Increase the readability and modularity of the program.\n",
    "3. Modification of the program becomes easier\n",
    "4. Reduces the chances of error."
   ]
  },
  {
   "cell_type": "markdown",
   "metadata": {},
   "source": [
    "---"
   ]
  },
  {
   "cell_type": "markdown",
   "metadata": {},
   "source": [
    "<h3>Q2</h3>\n",
    "<b>When does the code in a function execute: when the function is defined or when the function is called?\n",
    "    \n",
    "<pre>\n",
    "<br>\n",
    "The function is executed when the function is called and NOT when the code is defined"
   ]
  },
  {
   "cell_type": "markdown",
   "metadata": {},
   "source": [
    "---"
   ]
  },
  {
   "cell_type": "markdown",
   "metadata": {},
   "source": [
    "<h3>Q3</h3>\n",
    "<b>What statement creates a function?"
   ]
  },
  {
   "cell_type": "markdown",
   "metadata": {},
   "source": [
    "<pre>\n",
    "This creates the function completely\n",
    "Syntax:\n",
    "    def function_name():\n",
    "        body_of_function\n",
    "        \n",
    "For example:\n",
    "    def abc():\n",
    "        print('abc')"
   ]
  },
  {
   "cell_type": "markdown",
   "metadata": {},
   "source": [
    "---"
   ]
  },
  {
   "cell_type": "markdown",
   "metadata": {},
   "source": [
    "<h3>Q4</h3>\n",
    "<b>What is the difference between a function and a function call?"
   ]
  },
  {
   "cell_type": "markdown",
   "metadata": {},
   "source": [
    "<pre>\n",
    "<b>Function</b> is a way or precedure to achieve a particular result\n",
    "While\n",
    "<b>Function Call</b> uses the function to execute the block of code present within the function"
   ]
  },
  {
   "cell_type": "markdown",
   "metadata": {},
   "source": [
    "---"
   ]
  },
  {
   "cell_type": "markdown",
   "metadata": {},
   "source": [
    "<h3>Q5</h3>\n",
    "<b>How many global scopes are there in a Python program? How many local scopes?"
   ]
  },
  {
   "cell_type": "markdown",
   "metadata": {},
   "source": [
    "<pre>\n",
    "There is only <b>one global scope</b> in Python program.\n",
    "The scope of the global variable is present within the entire program\n",
    "\n",
    "The <b>Local scope</b> is temporarily created when the function is executed.\n",
    "The scope of the local variable is limited to the function."
   ]
  },
  {
   "cell_type": "markdown",
   "metadata": {},
   "source": [
    "---"
   ]
  },
  {
   "cell_type": "markdown",
   "metadata": {},
   "source": [
    "<h3>Q6</h3>\n",
    "<b>What happens to variables in a local scope when the function call returns?"
   ]
  },
  {
   "cell_type": "markdown",
   "metadata": {},
   "source": [
    "<pre>\n",
    "When a function is called, the local variable is temporarily created.\n",
    "\n",
    "As soon as the function returns, the local scope is destroyed and the variable no longer exists.\n",
    "\n",
    "We cannot access the that variable outside the function"
   ]
  },
  {
   "cell_type": "markdown",
   "metadata": {},
   "source": [
    "---"
   ]
  },
  {
   "cell_type": "markdown",
   "metadata": {},
   "source": [
    "<h3>Q7</h3>\n",
    "<b>What is the concept of a return value? Is it possible to have a return value in an expression?"
   ]
  },
  {
   "cell_type": "markdown",
   "metadata": {},
   "source": [
    "<pre>\n",
    "The return is a value:\n",
    "    that the function returns results after executing the block of statements (when the function completes the entire execution).\n",
    "    \n",
    "The return value can be of any types depending largely upon the operation perfomed within the function.\n",
    "It can be int, float, string, list and many more"
   ]
  },
  {
   "cell_type": "markdown",
   "metadata": {},
   "source": [
    "---"
   ]
  },
  {
   "cell_type": "markdown",
   "metadata": {},
   "source": [
    "<h3>Q8</h3>\n",
    "<b>If a function does not have a return statement, what is the return value of a call to that function?"
   ]
  },
  {
   "cell_type": "markdown",
   "metadata": {},
   "source": [
    "<pre>\n",
    "If the function does have a return statement, it returns value is <b>NONE</b> of that function"
   ]
  },
  {
   "cell_type": "markdown",
   "metadata": {},
   "source": [
    "---"
   ]
  },
  {
   "cell_type": "markdown",
   "metadata": {},
   "source": [
    "<h3>Q9</h3>\n",
    "<b>How do you make a function variable refer to the global variable?"
   ]
  },
  {
   "cell_type": "markdown",
   "metadata": {},
   "source": [
    "<pre>\n",
    "Variables that are created or defined outside the function is called as the <b>Global Variables</b>\n",
    "\n",
    "Global Variables can be used anywhere within the program i.e. both inside or outside the function\n",
    "\n",
    "For Example:\n",
    "\n",
    "# Globally Defining the variable\n",
    "x = 10\n",
    "# Defining the function\n",
    "def func():\n",
    "    print(x)\n",
    "# Calling the function\n",
    "func()\n",
    "# <b>O/P:</b> 10\n",
    "\n",
    "# Defining the global Variable inside the Function and calling it outside\n",
    "def func1():\n",
    "    global abc \n",
    "    abc = 'Khwajaavais'\n",
    "func1()\n",
    "print(abc)\n",
    "# <b>O/P:</b> Khwajaavais"
   ]
  },
  {
   "cell_type": "code",
   "execution_count": 1,
   "metadata": {},
   "outputs": [
    {
     "name": "stdout",
     "output_type": "stream",
     "text": [
      "10\n",
      "Khwajaavais\n"
     ]
    }
   ],
   "source": [
    "# Globally Defining the variable\n",
    "x = 10\n",
    "# Defining the function\n",
    "def func():\n",
    "    print(x)\n",
    "# Calling the function\n",
    "func()\n",
    "# <b>O/P:</b> 10\n",
    "\n",
    "# ==========================================================================================\n",
    "\n",
    "# Defining the global Variable inside the Function and calling it outside\n",
    "def func1():\n",
    "    global abc \n",
    "    abc = 'Khwajaavais'\n",
    "func1()\n",
    "print(abc)\n"
   ]
  },
  {
   "cell_type": "markdown",
   "metadata": {},
   "source": [
    "---"
   ]
  },
  {
   "cell_type": "markdown",
   "metadata": {},
   "source": [
    "<h3>Q10</h3>\n",
    "<b> What is the data type of None?"
   ]
  },
  {
   "cell_type": "code",
   "execution_count": 2,
   "metadata": {},
   "outputs": [
    {
     "data": {
      "text/plain": [
       "NoneType"
      ]
     },
     "execution_count": 2,
     "metadata": {},
     "output_type": "execute_result"
    }
   ],
   "source": [
    "type(None)"
   ]
  },
  {
   "cell_type": "markdown",
   "metadata": {},
   "source": [
    "---"
   ]
  },
  {
   "cell_type": "markdown",
   "metadata": {},
   "source": [
    "<h3>Q11</h3>\n",
    "<b> What does the sentence import areallyourpetsnamederic do?"
   ]
  },
  {
   "cell_type": "markdown",
   "metadata": {},
   "source": [
    "<pre> This will give an error \n",
    "\n",
    "As the areallyourpetsnamederic is not a built-in package, it will produce a ModuleNotFoundError"
   ]
  },
  {
   "cell_type": "code",
   "execution_count": 3,
   "metadata": {},
   "outputs": [
    {
     "ename": "ModuleNotFoundError",
     "evalue": "No module named 'areallyourpetsnamederic'",
     "output_type": "error",
     "traceback": [
      "\u001b[1;31m---------------------------------------------------------------------------\u001b[0m",
      "\u001b[1;31mModuleNotFoundError\u001b[0m                       Traceback (most recent call last)",
      "\u001b[1;32m<ipython-input-3-b1ea9cb2228f>\u001b[0m in \u001b[0;36m<module>\u001b[1;34m\u001b[0m\n\u001b[1;32m----> 1\u001b[1;33m \u001b[1;32mimport\u001b[0m \u001b[0mareallyourpetsnamederic\u001b[0m\u001b[1;33m\u001b[0m\u001b[1;33m\u001b[0m\u001b[0m\n\u001b[0m",
      "\u001b[1;31mModuleNotFoundError\u001b[0m: No module named 'areallyourpetsnamederic'"
     ]
    }
   ],
   "source": [
    "import areallyourpetsnamederic"
   ]
  },
  {
   "cell_type": "markdown",
   "metadata": {},
   "source": [
    "---"
   ]
  },
  {
   "cell_type": "markdown",
   "metadata": {},
   "source": [
    "<h3>Q12</h3>\n",
    "<b> If you had a bacon() feature in a spam module, what would you call it after importing spam?</b>\n",
    "\n",
    "<pre>\n",
    "<br>\n",
    "# Importing the Module\n",
    "    import spam\n",
    "# Calling the Feature/Function\n",
    "    spam.bacon()"
   ]
  },
  {
   "cell_type": "markdown",
   "metadata": {},
   "source": [
    "---"
   ]
  },
  {
   "cell_type": "markdown",
   "metadata": {},
   "source": [
    "<h3>Q13</h3>\n",
    "<b> What can you do to save a programme from crashing if it encounters an error?\n",
    "\n",
    "<pre>\n",
    "<br>\n",
    "Use the concept of Exception Handling i.e. TRY-EXCEPT Block"
   ]
  },
  {
   "cell_type": "markdown",
   "metadata": {},
   "source": [
    "---"
   ]
  },
  {
   "cell_type": "markdown",
   "metadata": {},
   "source": [
    "<h3>Q14</h3>\n",
    "<b> What is the purpose of the try clause? What is the purpose of the except clause?"
   ]
  },
  {
   "cell_type": "markdown",
   "metadata": {},
   "source": [
    "<b>Try:</b> Write the suspected line of code within the Try Block\n",
    "\n",
    "<b>Except:</b> Error occured in the try block is handled by the except block"
   ]
  }
 ],
 "metadata": {
  "kernelspec": {
   "display_name": "Python 3",
   "language": "python",
   "name": "python3"
  },
  "language_info": {
   "codemirror_mode": {
    "name": "ipython",
    "version": 3
   },
   "file_extension": ".py",
   "mimetype": "text/x-python",
   "name": "python",
   "nbconvert_exporter": "python",
   "pygments_lexer": "ipython3",
   "version": "3.7.9"
  }
 },
 "nbformat": 4,
 "nbformat_minor": 4
}
