{
 "cells": [
  {
   "cell_type": "markdown",
   "id": "5fbbffaa",
   "metadata": {},
   "source": [
    "<h1 align='center'>Assignment - 21"
   ]
  },
  {
   "cell_type": "markdown",
   "id": "bd79ee00",
   "metadata": {},
   "source": [
    "---"
   ]
  },
  {
   "cell_type": "markdown",
   "id": "aa011dfc",
   "metadata": {},
   "source": [
    "<h3>Q1</h3>\n",
    "<b> Add the current date to the text file today.txt as a string."
   ]
  },
  {
   "cell_type": "code",
   "execution_count": 1,
   "id": "362a6fd0",
   "metadata": {},
   "outputs": [],
   "source": [
    "import datetime\n",
    "todays_date = datetime.datetime.now().strftime('%Y %m %d')\n",
    "\n",
    "file = open('today.txt', 'w')\n",
    "file.write(str(todays_date))\n",
    "file.close()"
   ]
  },
  {
   "cell_type": "markdown",
   "id": "89bbd819",
   "metadata": {},
   "source": [
    "---"
   ]
  },
  {
   "cell_type": "markdown",
   "id": "d6f8b5c3",
   "metadata": {},
   "source": [
    "<h3>Q2</h3>\n",
    "<b>Read the text file today.txt into the string today_string"
   ]
  },
  {
   "cell_type": "code",
   "execution_count": 2,
   "id": "fb41ced9",
   "metadata": {},
   "outputs": [
    {
     "name": "stdout",
     "output_type": "stream",
     "text": [
      "2021 11 04\n"
     ]
    }
   ],
   "source": [
    "file = open('today.txt', 'r')\n",
    "today_string = file.read()\n",
    "print(today_string)\n",
    "file.close()"
   ]
  },
  {
   "cell_type": "markdown",
   "id": "89bbd819",
   "metadata": {},
   "source": [
    "---"
   ]
  },
  {
   "cell_type": "markdown",
   "id": "aa011dfc",
   "metadata": {},
   "source": [
    "<h3>Q3</h3>\n",
    "<b>Parse the date from today_string."
   ]
  },
  {
   "cell_type": "code",
   "execution_count": 3,
   "id": "362a6fd0",
   "metadata": {},
   "outputs": [
    {
     "data": {
      "text/plain": [
       "datetime.datetime(2021, 11, 4, 0, 0)"
      ]
     },
     "execution_count": 3,
     "metadata": {},
     "output_type": "execute_result"
    }
   ],
   "source": [
    "format = '%Y %m %d'\n",
    "datetime.datetime.strptime(today_string,format)"
   ]
  },
  {
   "cell_type": "markdown",
   "id": "89bbd819",
   "metadata": {},
   "source": [
    "---"
   ]
  },
  {
   "cell_type": "markdown",
   "id": "aa011dfc",
   "metadata": {},
   "source": [
    "<h3>Q4</h3>\n",
    "<b>List the files in your current directory"
   ]
  },
  {
   "cell_type": "code",
   "execution_count": 4,
   "id": "362a6fd0",
   "metadata": {},
   "outputs": [
    {
     "data": {
      "text/plain": [
       "['.ipynb_checkpoints',\n",
       " 'abc.png',\n",
       " 'Assignment - 13.ipynb',\n",
       " 'Assignment - 14.ipynb',\n",
       " 'Assignment - 15.ipynb',\n",
       " 'Assignment - 16.ipynb',\n",
       " 'Assignment - 17.ipynb',\n",
       " 'Assignment - 18.ipynb',\n",
       " 'Assignment - 19.ipynb',\n",
       " 'Assignment - 20.ipynb',\n",
       " 'Assignment - 21.ipynb',\n",
       " 'books.csv',\n",
       " 'books.db',\n",
       " 'def.png',\n",
       " 'test.txt',\n",
       " 'today.txt',\n",
       " 'zoo.py',\n",
       " '__pycache__']"
      ]
     },
     "execution_count": 4,
     "metadata": {},
     "output_type": "execute_result"
    }
   ],
   "source": [
    "import os\n",
    "os.listdir()"
   ]
  },
  {
   "cell_type": "markdown",
   "id": "89bbd819",
   "metadata": {},
   "source": [
    "---"
   ]
  },
  {
   "cell_type": "markdown",
   "id": "aa011dfc",
   "metadata": {},
   "source": [
    "<h3>Q5</h3>\n",
    "<b>Create a list of all of the files in your parent directory (minimum five files should be available)."
   ]
  },
  {
   "cell_type": "code",
   "execution_count": 5,
   "id": "362a6fd0",
   "metadata": {},
   "outputs": [
    {
     "name": "stdout",
     "output_type": "stream",
     "text": [
      "['.ipynb_checkpoints', 'abc.png', 'Assignment - 13.ipynb', 'Assignment - 14.ipynb', 'Assignment - 15.ipynb', 'Assignment - 16.ipynb', 'Assignment - 17.ipynb', 'Assignment - 18.ipynb', 'Assignment - 19.ipynb', 'Assignment - 20.ipynb', 'Assignment - 21.ipynb', 'books.csv', 'books.db', 'def.png', 'test.txt', 'today.txt', 'zoo.py', '__pycache__']\n"
     ]
    }
   ],
   "source": [
    "file_list=[]\n",
    "\n",
    "for files in os.listdir():\n",
    "    file_list.append(files)\n",
    "    \n",
    "print(file_list)"
   ]
  },
  {
   "cell_type": "markdown",
   "id": "89bbd819",
   "metadata": {},
   "source": [
    "---"
   ]
  },
  {
   "cell_type": "markdown",
   "id": "aa011dfc",
   "metadata": {},
   "source": [
    "<h3>Q6</h3>\n",
    "<b>Use multiprocessing to create three separate processes. Make each one wait a random number of seconds between one and five, print the current time, and then exit."
   ]
  },
  {
   "cell_type": "code",
   "execution_count": 6,
   "id": "362a6fd0",
   "metadata": {},
   "outputs": [
    {
     "name": "stdout",
     "output_type": "stream",
     "text": [
      "Hii This is task - 1\n",
      "2021-11-04 16:05:10.739820\n",
      "\n",
      "Hii This is task - 2\n",
      "2021-11-04 16:05:20.741386\n",
      "\n",
      "Hii This is task - 3\n",
      "2021-11-04 16:05:30.753781\n"
     ]
    }
   ],
   "source": [
    "import time\n",
    "print('Hii This is task - 1')\n",
    "print(datetime.datetime.now())\n",
    "\n",
    "time.sleep(10)\n",
    "\n",
    "print(f'\\nHii This is task - 2')\n",
    "print(datetime.datetime.now())\n",
    "\n",
    "time.sleep(10)\n",
    "\n",
    "print(f'\\nHii This is task - 3')\n",
    "print(datetime.datetime.now())"
   ]
  },
  {
   "cell_type": "markdown",
   "id": "89bbd819",
   "metadata": {},
   "source": [
    "---"
   ]
  },
  {
   "cell_type": "markdown",
   "id": "aa011dfc",
   "metadata": {},
   "source": [
    "<h3>Q7</h3>\n",
    "<b>Create a date object of your day of birth."
   ]
  },
  {
   "cell_type": "code",
   "execution_count": 7,
   "id": "362a6fd0",
   "metadata": {},
   "outputs": [],
   "source": [
    "dob = datetime.date(1990,1,1)"
   ]
  },
  {
   "cell_type": "code",
   "execution_count": 8,
   "id": "fb41ced9",
   "metadata": {},
   "outputs": [
    {
     "name": "stdout",
     "output_type": "stream",
     "text": [
      "DOB :: 1990-01-01\n"
     ]
    }
   ],
   "source": [
    "print(\"DOB :: {}\".format(dob))"
   ]
  },
  {
   "cell_type": "markdown",
   "id": "89bbd819",
   "metadata": {},
   "source": [
    "---"
   ]
  },
  {
   "cell_type": "markdown",
   "id": "aa011dfc",
   "metadata": {},
   "source": [
    "<h3>Q8</h3>\n",
    "<b>What day of the week was your day of birth?"
   ]
  },
  {
   "cell_type": "code",
   "execution_count": 9,
   "id": "362a6fd0",
   "metadata": {},
   "outputs": [
    {
     "data": {
      "text/plain": [
       "'Monday'"
      ]
     },
     "execution_count": 9,
     "metadata": {},
     "output_type": "execute_result"
    }
   ],
   "source": [
    "dob.strftime('%A')"
   ]
  },
  {
   "cell_type": "markdown",
   "id": "89bbd819",
   "metadata": {},
   "source": [
    "---"
   ]
  },
  {
   "cell_type": "markdown",
   "id": "aa011dfc",
   "metadata": {},
   "source": [
    "<h3>Q9</h3>\n",
    "<b>When will you be (or when were you) 10,000 days old?"
   ]
  },
  {
   "cell_type": "code",
   "execution_count": 10,
   "id": "362a6fd0",
   "metadata": {},
   "outputs": [
    {
     "name": "stdout",
     "output_type": "stream",
     "text": [
      "After 10000 days from Date of Birth, it will be 2017-05-19\n"
     ]
    }
   ],
   "source": [
    "from datetime import timedelta\n",
    "\n",
    "day_10k = dob + timedelta(days=10000)\n",
    "\n",
    "print(\"After 10000 days from Date of Birth, it will be {}\".format(day_10k))"
   ]
  },
  {
   "cell_type": "markdown",
   "id": "89bbd819",
   "metadata": {},
   "source": [
    "---"
   ]
  }
 ],
 "metadata": {
  "kernelspec": {
   "display_name": "Python 3",
   "language": "python",
   "name": "python3"
  },
  "language_info": {
   "codemirror_mode": {
    "name": "ipython",
    "version": 3
   },
   "file_extension": ".py",
   "mimetype": "text/x-python",
   "name": "python",
   "nbconvert_exporter": "python",
   "pygments_lexer": "ipython3",
   "version": "3.8.8"
  }
 },
 "nbformat": 4,
 "nbformat_minor": 5
}
