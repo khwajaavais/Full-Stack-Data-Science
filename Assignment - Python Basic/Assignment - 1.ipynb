{
 "cells": [
  {
   "cell_type": "markdown",
   "metadata": {},
   "source": [
    "<h1><center>Assignment 1</h1>"
   ]
  },
  {
   "cell_type": "markdown",
   "metadata": {},
   "source": [
    "<h3>Q1</h3>\n",
    "<b>In the below elements which of them are values or an expression? eg:- values can be\n",
    "integer or string and expressions will be mathematical operators.</b>\n",
    "\n",
    "1. <b>*</b>\n",
    "2. <b>\"hello\"</b>\n",
    "3. <b>-87.8</b>\n",
    "4. <b>-</b>\n",
    "5. <b>/</b>\n",
    "6. <b>+</b>\n",
    "7. <b>6</b>"
   ]
  },
  {
   "cell_type": "markdown",
   "metadata": {},
   "source": [
    "<pre>\n",
    "    1. *       --> is a Expression (Multiplication Operator)\n",
    "    2. \"Hello\" --> is a Value (String DataType)\n",
    "    3. -87.8   --> is a Value (Negative Integer)\n",
    "    4. -       --> is a Expression (Subtraction Operator)\n",
    "    5. /       --> is a Expression (Division Operator)\n",
    "    6. +       --> is a Expression (Addition Operator)\n",
    "    7. 6       --> is a Value (Positive Integer)\n",
    "</pre>"
   ]
  },
  {
   "cell_type": "markdown",
   "metadata": {},
   "source": [
    "---"
   ]
  },
  {
   "cell_type": "markdown",
   "metadata": {},
   "source": [
    "<h3>Q2</h3>\n",
    "<b>What is the difference between string and variable?</b>"
   ]
  },
  {
   "cell_type": "markdown",
   "metadata": {},
   "source": [
    "<pre>\n",
    "<b>String</b> is a DataType which is used to store String Values\n",
    "For Example: \"abc\"\n",
    "    So \"abc\" is a String enclosed in Quotes\n",
    "\n",
    "<b>Varibale</b> is a kind of storage of information/values.\n",
    "It can store data of any kind like int float complex str tuples list and many more\n",
    "For Example a = 123\n",
    "    Here a is storing an integer value\n",
    "    \n",
    "    b = \"def\"\n",
    "    Here b is storing an String value\n",
    "    \n",
    "    c = 4+5j\n",
    "    Here c is storing an Complex value\n",
    "Also Variable doesn`t need to defined in Python unlike in C, C++, Java\n",
    "</pre>"
   ]
  },
  {
   "cell_type": "markdown",
   "metadata": {},
   "source": [
    "---"
   ]
  },
  {
   "cell_type": "markdown",
   "metadata": {},
   "source": [
    "<h3>Q3</h3>\n",
    "<b>Describe three different data types.</b>"
   ]
  },
  {
   "cell_type": "markdown",
   "metadata": {},
   "source": [
    "<pre>\n",
    "There are different DataTypes in Python\n",
    "\n",
    "Variable is used to store different kind of a datatype element\n",
    "AND\n",
    "Each Datatype has its own purpose\n",
    "\n",
    "Some of the build-in Datatypes are\n",
    "1. str   --> For storing String Values\n",
    "2. int   --> For storing Integer Values\n",
    "3. float --> For storing Float Values\n",
    "4. bool  --> FOr storing Boolean Values \n",
    "\n",
    "<b>Str</b>\n",
    "Example: x = 'ABC'\n",
    "    X is a variable storing \"ABC\" value as String\n",
    "\n",
    "<b>Int</b>\n",
    "Example: x = -987542316\n",
    "    X is a variable storing Negative Integer value \n",
    "\n",
    "<b>Float</b>\n",
    "Example: x = 45.6\n",
    "    X is a variable storing 45.6 as float value\n",
    "\n",
    "<b>Boolean</b>\n",
    "It Stores True ~ 1 / False ~ 0 as a value\n",
    "Example: x = True\n",
    "    X is a variable storing True as Boolean value\n",
    "</pre>"
   ]
  },
  {
   "cell_type": "markdown",
   "metadata": {},
   "source": [
    "---"
   ]
  },
  {
   "cell_type": "markdown",
   "metadata": {},
   "source": [
    "<h3>Q4</h3>\n",
    "<b>What is an expression made up of? What do all expressions do?</b>"
   ]
  },
  {
   "cell_type": "markdown",
   "metadata": {},
   "source": [
    "<pre>\n",
    "<b>Expression</b> is that evaluates to a single value which is made up of variables Operator and methods which are constructed based on the language used.\n",
    "Operators can be:\n",
    "    Arithmetic Operators :: + - * /\n",
    "    Comparision Operators :: < > <= >= == !=\n",
    "    Logical Operators :: and or not\n",
    "and many more.\n",
    "\n",
    "Examples of Expression:\n",
    "As given an example of Expressions and Operators in Q1 which can be taken into consideration\n",
    "\n",
    "<b>Ex1:</b> \"KhwajaAvais Lakdawala\" --- Expression\n",
    "\n",
    "<b>Ex2:</b> \"Khwaja \" * 2 <b>O/P:-</b> \"Khwaja Khwaja \"\n",
    "\n",
    "<b>Ex3:</b> 4+8*/9-54264+52689 <b>O/P:-</b>-1499\n",
    "\n",
    "---------------------------------------------------------------\n",
    "\n",
    "As explained Expression is combination of Variables, Operators and Methods.\n",
    "It needs to be evluated/calulated\n",
    "When Python evaluates the expression, it displays the result of the expression (after evaluation)"
   ]
  },
  {
   "cell_type": "markdown",
   "metadata": {},
   "source": [
    "---"
   ]
  },
  {
   "cell_type": "markdown",
   "metadata": {},
   "source": [
    "<h3>Q5</h3>\n",
    "<b>This assignment statements, like spam = 10. What is the difference between an expression and a statement? </b>"
   ]
  },
  {
   "cell_type": "markdown",
   "metadata": {},
   "source": [
    "<pre>\n",
    "<b>Statement</b> is something that expresses element/object/variable.\n",
    "Print and Assignment Statement can be called as a Statement that represent an action\n",
    "<b>Ex1</b>:\n",
    "    print('Abc') <b>O/P:</b> Abc\n",
    "<b>Ex2</b>:\n",
    "    x = 456\n",
    "    \n",
    "Also, spam = 10 is an example of Statement as value 10 is been assigned to variable \"spam\"\n",
    "\n",
    "---------------------------------------------------------------------------------------------------\n",
    "\n",
    "<b>Expression</b> is a combination of Variables, Operators and Methods to produce a result Value.\n",
    "Expression can also be reduced to a single value.\n",
    "\n",
    "<b>Ex1</b>: 4+8*/9-54264+52689 O/P:--1499\n",
    "</pre>"
   ]
  },
  {
   "cell_type": "markdown",
   "metadata": {},
   "source": [
    "---"
   ]
  },
  {
   "cell_type": "markdown",
   "metadata": {},
   "source": [
    "<h3>Q6</h3>\n",
    "<b>After running the following code, what does the variable bacon contain?</b><br>\n",
    "bacon = 22<br>\n",
    "bacon + 1"
   ]
  },
  {
   "cell_type": "code",
   "execution_count": 1,
   "metadata": {},
   "outputs": [],
   "source": [
    "bacon = 22"
   ]
  },
  {
   "cell_type": "code",
   "execution_count": 2,
   "metadata": {},
   "outputs": [
    {
     "data": {
      "text/plain": [
       "23"
      ]
     },
     "execution_count": 2,
     "metadata": {},
     "output_type": "execute_result"
    }
   ],
   "source": [
    "bacon + 1"
   ]
  },
  {
   "cell_type": "code",
   "execution_count": 3,
   "metadata": {},
   "outputs": [
    {
     "data": {
      "text/plain": [
       "22"
      ]
     },
     "execution_count": 3,
     "metadata": {},
     "output_type": "execute_result"
    }
   ],
   "source": [
    "bacon"
   ]
  },
  {
   "cell_type": "markdown",
   "metadata": {},
   "source": [
    "<pre>Initially the value of bacon is 22 \n",
    "\n",
    "After incrementing the value of bacon by 1 is becomes 23\n",
    "\n",
    "Still when I print the value of becon it is 22\n",
    "This is because after the incrementing the value by 1 I havent assigned the value to some variable or to bacon variable itself."
   ]
  },
  {
   "cell_type": "markdown",
   "metadata": {},
   "source": [
    "---"
   ]
  },
  {
   "cell_type": "markdown",
   "metadata": {},
   "source": [
    "<h3>Q7</h3>\n",
    "<b>What should the values of the following two terms be?</b><br>\n",
    "'spam' + 'spamspam'<br>\n",
    "'spam' * 3"
   ]
  },
  {
   "cell_type": "code",
   "execution_count": 4,
   "metadata": {},
   "outputs": [
    {
     "data": {
      "text/plain": [
       "'spamspamspam'"
      ]
     },
     "execution_count": 4,
     "metadata": {},
     "output_type": "execute_result"
    }
   ],
   "source": [
    "'spam' + 'spamspam'"
   ]
  },
  {
   "cell_type": "code",
   "execution_count": 5,
   "metadata": {},
   "outputs": [
    {
     "data": {
      "text/plain": [
       "'spamspamspam'"
      ]
     },
     "execution_count": 5,
     "metadata": {},
     "output_type": "execute_result"
    }
   ],
   "source": [
    "'spam'*3"
   ]
  },
  {
   "cell_type": "markdown",
   "metadata": {},
   "source": [
    "<pre>These are two different Operations BUT Output of both the operations is the same"
   ]
  },
  {
   "cell_type": "markdown",
   "metadata": {},
   "source": [
    "---"
   ]
  },
  {
   "cell_type": "markdown",
   "metadata": {},
   "source": [
    "<h3>Q8</h3>\n",
    "<b>Why is eggs a valid variable name while 100 is invalid?"
   ]
  },
  {
   "cell_type": "markdown",
   "metadata": {},
   "source": [
    "<pre>\n",
    "To define are variable name there are some rules defined\n",
    "1. Variable Name should start with a letter or an underscore\n",
    "2. It shouldn`t start with a numbers\n",
    "\n",
    "3. Variable Name can contain aplhabet a-zA-Z and numbers from 0-9 \n",
    "   An underscore can also be used\n",
    "\n",
    "4. Python VariableName are case sensitive in nature\n",
    "   For Example:\n",
    "        abc,  Abc, ABC\n",
    "        All these are 3 different variable names\n",
    "\n",
    "Therefore, egg is a valid variable name and 100 is invalid variable name\n",
    "</pre>"
   ]
  },
  {
   "cell_type": "markdown",
   "metadata": {},
   "source": [
    "---"
   ]
  },
  {
   "cell_type": "markdown",
   "metadata": {},
   "source": [
    "<h3>Q9</h3>\n",
    "<b>What three functions can be used to get the integer, floating-point number, or string version of a value?"
   ]
  },
  {
   "cell_type": "markdown",
   "metadata": {},
   "source": [
    "<pre>\n",
    "int()\n",
    "float()\n",
    "str()\n",
    "\n",
    "These are the three functions which is used to get Integer, FLoating-Point Number and String Version of a Value\n",
    "\n",
    "Example:"
   ]
  },
  {
   "cell_type": "code",
   "execution_count": 6,
   "metadata": {},
   "outputs": [
    {
     "name": "stdout",
     "output_type": "stream",
     "text": [
      "Integer Value: 10\n",
      "DataType: <class 'int'> \n",
      "\n",
      "Float Value: 10.0\n",
      "DataType: <class 'float'>\n",
      "\n",
      "Integer Value: 10\n",
      "DataType: <class 'str'>\n"
     ]
    }
   ],
   "source": [
    "x = 10\n",
    "\n",
    "x_int = int(x)\n",
    "print(f'Integer Value: {x_int}')\n",
    "print(f'DataType: {type(x_int)} \\n')\n",
    "\n",
    "x_float = float(x)\n",
    "print(f'Float Value: {x_float}')\n",
    "print(f'DataType: {type(x_float)}\\n')\n",
    "\n",
    "x_string = str(x)\n",
    "print(f'Integer Value: {x_string}')\n",
    "print(f'DataType: {type(x_string)}')"
   ]
  },
  {
   "cell_type": "markdown",
   "metadata": {},
   "source": [
    "---"
   ]
  },
  {
   "cell_type": "markdown",
   "metadata": {},
   "source": [
    "<h3>Q10</h3>\n",
    "<b>Why does this expression cause an error? How can you fix it?</b><br>\n",
    "'I have eaten ' + 99 + 'burritos.'"
   ]
  },
  {
   "cell_type": "code",
   "execution_count": 7,
   "metadata": {},
   "outputs": [
    {
     "ename": "TypeError",
     "evalue": "can only concatenate str (not \"int\") to str",
     "output_type": "error",
     "traceback": [
      "\u001b[1;31m---------------------------------------------------------------------------\u001b[0m",
      "\u001b[1;31mTypeError\u001b[0m                                 Traceback (most recent call last)",
      "\u001b[1;32m<ipython-input-7-d24137131a5c>\u001b[0m in \u001b[0;36m<module>\u001b[1;34m\u001b[0m\n\u001b[1;32m----> 1\u001b[1;33m \u001b[1;34m'I have eaten '\u001b[0m \u001b[1;33m+\u001b[0m \u001b[1;36m99\u001b[0m \u001b[1;33m+\u001b[0m \u001b[1;34m' burritos.'\u001b[0m\u001b[1;33m\u001b[0m\u001b[1;33m\u001b[0m\u001b[0m\n\u001b[0m",
      "\u001b[1;31mTypeError\u001b[0m: can only concatenate str (not \"int\") to str"
     ]
    }
   ],
   "source": [
    "'I have eaten ' + 99 + ' burritos.'"
   ]
  },
  {
   "cell_type": "markdown",
   "metadata": {},
   "source": [
    "<pre>\n",
    "This is because this is a str int str concatenation\n",
    "AND\n",
    "This is not possible because the data type of concatenation is different\n",
    "\n",
    "Concatenation of str str is possible\n",
    "COncatenation of int int is possible\n",
    "\n",
    "This can be fixed when we convert the integer type to string datatype"
   ]
  },
  {
   "cell_type": "code",
   "execution_count": 8,
   "metadata": {},
   "outputs": [
    {
     "data": {
      "text/plain": [
       "'I have eaten 99 burritos.'"
      ]
     },
     "execution_count": 8,
     "metadata": {},
     "output_type": "execute_result"
    }
   ],
   "source": [
    "# Method 1\n",
    "'I have eaten ' + str(99) + ' burritos.'\n",
    "\n",
    "# Method 2\n",
    "'I have eaten ' + \"99\" + ' burritos.'"
   ]
  }
 ],
 "metadata": {
  "kernelspec": {
   "display_name": "Python 3",
   "language": "python",
   "name": "python3"
  },
  "language_info": {
   "codemirror_mode": {
    "name": "ipython",
    "version": 3
   },
   "file_extension": ".py",
   "mimetype": "text/x-python",
   "name": "python",
   "nbconvert_exporter": "python",
   "pygments_lexer": "ipython3",
   "version": "3.7.9"
  }
 },
 "nbformat": 4,
 "nbformat_minor": 4
}
