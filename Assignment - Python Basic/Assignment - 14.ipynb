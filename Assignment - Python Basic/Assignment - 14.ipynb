{
 "cells": [
  {
   "cell_type": "markdown",
   "id": "662473f9",
   "metadata": {},
   "source": [
    "<h1 align='center'>Assignment - 14"
   ]
  },
  {
   "cell_type": "markdown",
   "id": "31625db3",
   "metadata": {},
   "source": [
    "---"
   ]
  },
  {
   "cell_type": "markdown",
   "id": "a1ffbbc5",
   "metadata": {},
   "source": [
    "<h3>Q1</h3>\n",
    "<b>What does RGBA stand for?"
   ]
  },
  {
   "cell_type": "markdown",
   "id": "bfecdfdc",
   "metadata": {},
   "source": [
    "<pre>\n",
    "The RGBA colour model stands for Red Blue Green & Alpha which is extendion of RGB to include \"alpha,\" which allows the \n",
    "opacity of a colour to be specified."
   ]
  },
  {
   "cell_type": "markdown",
   "id": "0a1e693c",
   "metadata": {},
   "source": [
    "---"
   ]
  },
  {
   "cell_type": "markdown",
   "id": "94f5dca8",
   "metadata": {},
   "source": [
    "<h3>Q2</h3>\n",
    "<b>From the Pillow module, how do you get the RGBA value of any images?"
   ]
  },
  {
   "cell_type": "code",
   "execution_count": 1,
   "id": "77b9baca",
   "metadata": {},
   "outputs": [
    {
     "name": "stdout",
     "output_type": "stream",
     "text": [
      "(222, 225, 230, 255)\n"
     ]
    }
   ],
   "source": [
    "from PIL import Image\n",
    "\n",
    "img = Image.open('abc.png')\n",
    "rgba = img.convert('RGBA')\n",
    "rgba_value = rgba.getdata()\n",
    "for i in rgba_value:\n",
    "    print(i)\n",
    "    break\n"
   ]
  },
  {
   "cell_type": "markdown",
   "id": "bb09ceb1",
   "metadata": {},
   "source": [
    "<pre><b>getdata()</b> is used to get the RGBA value of the image."
   ]
  },
  {
   "cell_type": "markdown",
   "id": "45f08c00",
   "metadata": {},
   "source": [
    "---"
   ]
  },
  {
   "cell_type": "markdown",
   "id": "e65db3b2",
   "metadata": {},
   "source": [
    "<h3>Q3</h3>\n",
    "<b>What is a box tuple, and how does it work?"
   ]
  },
  {
   "cell_type": "markdown",
   "id": "3a4b3dbf",
   "metadata": {},
   "source": [
    "<pre>\n",
    "A box tuple is a container for a tuple of 4 integers values in which the left edge represents the x-coordinate and \n",
    "the top edge indicate the y-coordinate and width and height repectively."
   ]
  },
  {
   "cell_type": "markdown",
   "id": "172033ca",
   "metadata": {},
   "source": [
    "---"
   ]
  },
  {
   "cell_type": "markdown",
   "id": "64e38ab2",
   "metadata": {},
   "source": [
    "<h3>Q4</h3>\n",
    "<b>Use your image and load in notebook then, How can you find out the width and height of an Image object?"
   ]
  },
  {
   "cell_type": "code",
   "execution_count": 2,
   "id": "a4ecd7b8",
   "metadata": {},
   "outputs": [
    {
     "name": "stdout",
     "output_type": "stream",
     "text": [
      "Height & Width of the image is 1080 1920 respectively\n"
     ]
    }
   ],
   "source": [
    "from PIL import Image\n",
    "\n",
    "img = Image.open('abc.png')\n",
    "h = img.height\n",
    "w = img.width\n",
    "\n",
    "print(f\"Height & Width of the image is {h} { w} respectively\")"
   ]
  },
  {
   "cell_type": "markdown",
   "id": "414a3353",
   "metadata": {},
   "source": [
    "---"
   ]
  },
  {
   "cell_type": "markdown",
   "id": "4752bf0a",
   "metadata": {},
   "source": [
    "<h3>Q5</h3>\n",
    "<b>What method would you call to get Image object for a 100×100 image, excluding the lower-left quarter of it?"
   ]
  },
  {
   "cell_type": "raw",
   "id": "ba87fe71",
   "metadata": {},
   "source": [
    "from PIL import Image\n",
    "img = Image.open('abc.png')\n",
    "\n",
    "# box=(left, upper, right, lower)\n",
    "img.crop((0,50,50,0))"
   ]
  },
  {
   "cell_type": "markdown",
   "id": "722a15f4",
   "metadata": {},
   "source": [
    "---"
   ]
  },
  {
   "cell_type": "markdown",
   "id": "be56992d",
   "metadata": {},
   "source": [
    "<h3>Q6</h3>\n",
    "<b>After making changes to an Image object, how could you save it as an image file?"
   ]
  },
  {
   "cell_type": "code",
   "execution_count": 3,
   "id": "eaa4ca7a",
   "metadata": {},
   "outputs": [],
   "source": [
    "# creating a image object (main image) \n",
    "im1 = Image.open('abc.png') \n",
    "  \n",
    "# save a image using extension\n",
    "im1 = im1.save(\"def.png\")"
   ]
  },
  {
   "cell_type": "markdown",
   "id": "69781b0c",
   "metadata": {},
   "source": [
    "<pre><b>.save() method followed by a file name </b>is used to save an image after a change is made."
   ]
  },
  {
   "cell_type": "markdown",
   "id": "434619e5",
   "metadata": {},
   "source": [
    "---"
   ]
  },
  {
   "cell_type": "markdown",
   "id": "1c59628e",
   "metadata": {},
   "source": [
    "<h3>Q7</h3>\n",
    "<b>What module contains Pillow’s shape-drawing code?"
   ]
  },
  {
   "cell_type": "code",
   "execution_count": 4,
   "id": "9bd80fe8",
   "metadata": {},
   "outputs": [],
   "source": [
    "from PIL import Image, ImageDraw\n",
    "\n",
    "im = Image.new('RGB', (500, 300), (128, 128, 128))\n",
    "draw = ImageDraw.Draw(im)"
   ]
  },
  {
   "cell_type": "markdown",
   "id": "253418ac",
   "metadata": {},
   "source": [
    "<pre>From the PIL; ImageDraw module is used for shape drawing code."
   ]
  },
  {
   "cell_type": "markdown",
   "id": "adc00abd",
   "metadata": {},
   "source": [
    "---"
   ]
  },
  {
   "cell_type": "markdown",
   "id": "02ea4202",
   "metadata": {},
   "source": [
    "<h3>Q8</h3>\n",
    "<b>Image objects do not have drawing methods. What kind of object does? How do you get this kind of object?"
   ]
  },
  {
   "cell_type": "markdown",
   "id": "7abf76ea",
   "metadata": {},
   "source": [
    "<pre>They have shape drawing methods like line(), point(), rectangle()\n",
    "ImageDraw.Draw() function can be used."
   ]
  },
  {
   "cell_type": "markdown",
   "id": "9ece1021",
   "metadata": {},
   "source": [
    "---"
   ]
  }
 ],
 "metadata": {
  "kernelspec": {
   "display_name": "Python 3",
   "language": "python",
   "name": "python3"
  },
  "language_info": {
   "codemirror_mode": {
    "name": "ipython",
    "version": 3
   },
   "file_extension": ".py",
   "mimetype": "text/x-python",
   "name": "python",
   "nbconvert_exporter": "python",
   "pygments_lexer": "ipython3",
   "version": "3.8.8"
  }
 },
 "nbformat": 4,
 "nbformat_minor": 5
}
