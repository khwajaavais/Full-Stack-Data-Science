{
 "cells": [
  {
   "cell_type": "markdown",
   "id": "5fbbffaa",
   "metadata": {},
   "source": [
    "<h1 align='center'>Assignment - 25"
   ]
  },
  {
   "cell_type": "markdown",
   "id": "bd79ee00",
   "metadata": {},
   "source": [
    "---"
   ]
  },
  {
   "cell_type": "markdown",
   "id": "aa011dfc",
   "metadata": {},
   "source": [
    "<h3>Q1</h3>\n",
    "<b>What is the difference between enclosing a list comprehension in square brackets and parentheses?"
   ]
  },
  {
   "cell_type": "markdown",
   "id": "0eba6743",
   "metadata": {},
   "source": [
    "<pre>\n",
    "List Comprehension with square brackets produces list.\n",
    "List Comprehension with parentheses creates generators"
   ]
  },
  {
   "cell_type": "code",
   "execution_count": 2,
   "id": "fb41ced9",
   "metadata": {},
   "outputs": [
    {
     "data": {
      "text/plain": [
       "[0, 1, 2, 3, 4, 5, 6, 7, 8, 9]"
      ]
     },
     "execution_count": 2,
     "metadata": {},
     "output_type": "execute_result"
    }
   ],
   "source": [
    "l = [i for i in range(10)]\n",
    "l"
   ]
  },
  {
   "cell_type": "code",
   "execution_count": 6,
   "id": "9d9f02e3",
   "metadata": {},
   "outputs": [
    {
     "name": "stdout",
     "output_type": "stream",
     "text": [
      "0\n",
      "1\n",
      "2\n",
      "3\n",
      "4\n",
      "5\n",
      "6\n",
      "7\n",
      "8\n",
      "9\n"
     ]
    }
   ],
   "source": [
    "l = (i for i in range(10))\n",
    "\n",
    "for i in l:\n",
    "    print(i)\n",
    "    "
   ]
  },
  {
   "cell_type": "markdown",
   "id": "89bbd819",
   "metadata": {},
   "source": [
    "---"
   ]
  },
  {
   "cell_type": "markdown",
   "id": "5e228532",
   "metadata": {},
   "source": [
    "<h3>Q2</h3>\n",
    "<b>What is the relationship between generators and iterators?"
   ]
  },
  {
   "cell_type": "markdown",
   "id": "4c085a95",
   "metadata": {},
   "source": [
    "<pre>\n",
    "<b>Iterators</b>\n",
    " - An iterator is a collection of values that may be counted.\n",
    " - An iterator is a type of object that can be iterated over, which means you can go over all of the values.\n",
    " - An iterator is a Python object that implements the iterator protocol, which includes the methods iter() and next().\n",
    "                                 \n",
    "<b>Generators</b>\n",
    " - A generator-function is defined similarly to a regular function, except that when it needs to generate a value, \n",
    "   it uses the yield keyword instead of the return keyword.\n",
    " - If yield appears in the body of a def, the function is converted to a generator function."
   ]
  },
  {
   "cell_type": "code",
   "execution_count": 26,
   "id": "fb41ced9",
   "metadata": {},
   "outputs": [
    {
     "name": "stdout",
     "output_type": "stream",
     "text": [
      "Type of iter string <class 'str_iterator'>\n"
     ]
    }
   ],
   "source": [
    "string = 'ABCDEFGHIJKL'\n",
    "astr = iter(string)\n",
    "print(f'Type of iter string {type(astr)}')"
   ]
  },
  {
   "cell_type": "code",
   "execution_count": 12,
   "id": "40b3e374",
   "metadata": {},
   "outputs": [
    {
     "data": {
      "text/plain": [
       "'A'"
      ]
     },
     "execution_count": 12,
     "metadata": {},
     "output_type": "execute_result"
    }
   ],
   "source": [
    "next(astr)"
   ]
  },
  {
   "cell_type": "code",
   "execution_count": 13,
   "id": "4c734ffd",
   "metadata": {},
   "outputs": [
    {
     "data": {
      "text/plain": [
       "'B'"
      ]
     },
     "execution_count": 13,
     "metadata": {},
     "output_type": "execute_result"
    }
   ],
   "source": [
    "next(astr)"
   ]
  },
  {
   "cell_type": "code",
   "execution_count": 21,
   "id": "f1ead970",
   "metadata": {},
   "outputs": [
    {
     "name": "stdout",
     "output_type": "stream",
     "text": [
      "Type of gen Function <class 'generator'>\n"
     ]
    }
   ],
   "source": [
    "def gen():\n",
    "    string = 'ABCDEFGHIJKL'\n",
    "    for i in string:\n",
    "        yield i\n",
    "\n",
    "print(f'Type of gen Function {type(gen())}')"
   ]
  },
  {
   "cell_type": "code",
   "execution_count": 23,
   "id": "8e20e189",
   "metadata": {},
   "outputs": [],
   "source": [
    "agen = gen()"
   ]
  },
  {
   "cell_type": "code",
   "execution_count": 24,
   "id": "1c3a1cb9",
   "metadata": {},
   "outputs": [
    {
     "data": {
      "text/plain": [
       "'A'"
      ]
     },
     "execution_count": 24,
     "metadata": {},
     "output_type": "execute_result"
    }
   ],
   "source": [
    "next(agen)"
   ]
  },
  {
   "cell_type": "code",
   "execution_count": 25,
   "id": "76292012",
   "metadata": {},
   "outputs": [
    {
     "data": {
      "text/plain": [
       "'B'"
      ]
     },
     "execution_count": 25,
     "metadata": {},
     "output_type": "execute_result"
    }
   ],
   "source": [
    "next(agen)"
   ]
  },
  {
   "cell_type": "markdown",
   "id": "89bbd819",
   "metadata": {},
   "source": [
    "---"
   ]
  },
  {
   "cell_type": "markdown",
   "id": "aa011dfc",
   "metadata": {},
   "source": [
    "<h3>Q3</h3>\n",
    "<b>What are the signs that a function is a generator function?"
   ]
  },
  {
   "cell_type": "markdown",
   "id": "272b4fdf",
   "metadata": {},
   "source": [
    "<pre>\n",
    " - A function becomes a generator function if it contains at least one yield statement \n",
    "   (it may also have other yield or return statements).\n",
    "\n",
    " - From a function, both yield and return will return some value.\n",
    "\n",
    " - It's the same as defining a regular function, but instead of a return statement, you'll use a yield statement."
   ]
  },
  {
   "cell_type": "markdown",
   "id": "89bbd819",
   "metadata": {},
   "source": [
    "---"
   ]
  },
  {
   "cell_type": "markdown",
   "id": "aa011dfc",
   "metadata": {},
   "source": [
    "<h3>Q4</h3>\n",
    "<b>What is the purpose of a yield statement?"
   ]
  },
  {
   "cell_type": "markdown",
   "id": "c151e631",
   "metadata": {},
   "source": [
    "<pre>\n",
    " - In Python, yield is similar to the return statement in a function. \n",
    " - Instead of returning the output, the function now produces a generator that may be iterated on. \n",
    " - We can then proceed to extract things by iterating over the generator."
   ]
  },
  {
   "cell_type": "markdown",
   "id": "89bbd819",
   "metadata": {},
   "source": [
    "---"
   ]
  },
  {
   "cell_type": "markdown",
   "id": "aa011dfc",
   "metadata": {},
   "source": [
    "<h3>Q5</h3>\n",
    "<b>What is the relationship between map calls and list comprehensions? Make a comparison and contrast between the two."
   ]
  },
  {
   "cell_type": "markdown",
   "id": "900dc192",
   "metadata": {},
   "source": [
    "<pre>\n",
    " - When compared to maps, list comprehension is more concise and easier to understand.\n",
    "\n",
    " - Filtering is possible with list comprehension. We don't have such a feature on the map. \n",
    "   For example, we may write [n for n in range(100) if n%2 == 0] to display all even numbers in the range of 100. \n",
    "   There is no other option in the map for it.\n",
    "\n",
    " - Because map only produces a map object and not a list, list comprehension is used when a list of results is required.\n",
    "\n",
    " - When evaluating expressions that are too long or hard to articulate, list comprehension is faster than map \n",
    "   comprehension.\n",
    "\n",
    " - When calling an already declared function, Map is faster (as no lambda is required)."
   ]
  },
  {
   "cell_type": "markdown",
   "id": "89bbd819",
   "metadata": {},
   "source": [
    "---"
   ]
  }
 ],
 "metadata": {
  "kernelspec": {
   "display_name": "Python 3",
   "language": "python",
   "name": "python3"
  },
  "language_info": {
   "codemirror_mode": {
    "name": "ipython",
    "version": 3
   },
   "file_extension": ".py",
   "mimetype": "text/x-python",
   "name": "python",
   "nbconvert_exporter": "python",
   "pygments_lexer": "ipython3",
   "version": "3.8.8"
  }
 },
 "nbformat": 4,
 "nbformat_minor": 5
}
