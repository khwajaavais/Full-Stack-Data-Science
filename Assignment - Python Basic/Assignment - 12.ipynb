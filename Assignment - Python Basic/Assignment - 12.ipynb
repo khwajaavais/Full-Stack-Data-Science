{
 "cells": [
  {
   "cell_type": "markdown",
   "id": "a934729b",
   "metadata": {},
   "source": [
    "<h1 align='center'>Assignment 12</h1>"
   ]
  },
  {
   "cell_type": "markdown",
   "id": "c0be00e8",
   "metadata": {},
   "source": [
    "<h3>Q1</h3>\n",
    "<b>In what modes should the PdfFileReader() and PdfFileWriter() File objects will be opened?"
   ]
  },
  {
   "cell_type": "code",
   "execution_count": 1,
   "id": "d21e07ad",
   "metadata": {},
   "outputs": [
    {
     "name": "stdout",
     "output_type": "stream",
     "text": [
      "Requirement already satisfied: pypdf2 in c:\\users\\khwaj\\anaconda3\\lib\\site-packages (1.26.0)\n"
     ]
    }
   ],
   "source": [
    "# STEP 1 : IMPORT THE PYPDF2 MODULE\n",
    "! pip3 install pypdf2"
   ]
  },
  {
   "cell_type": "markdown",
   "id": "ea3bb7a2",
   "metadata": {},
   "source": [
    "<pre>The PdfFileReader() and PdfFileWriter() File objects should be opened in <b>Read Binary Format & Write Binary Format"
   ]
  },
  {
   "cell_type": "markdown",
   "id": "f11a1298",
   "metadata": {},
   "source": [
    "---"
   ]
  },
  {
   "cell_type": "markdown",
   "id": "dc1f8277",
   "metadata": {},
   "source": [
    "<h3>Q2</h3>\n",
    "<b>From a PdfFileReader object, how do you get a Page object for page 5?"
   ]
  },
  {
   "cell_type": "code",
   "execution_count": 22,
   "id": "e9f384ee",
   "metadata": {},
   "outputs": [],
   "source": [
    "import PyPDF2\n",
    "\n",
    "file_object = open('Text_PDF_for_Assign_12.pdf', 'rb')\n",
    "pdf_reader = PyPDF2.PdfFileReader(file_object)\n",
    "pdf_page_5 = pdf_reader.getPage(3)\n",
    "pdf_page_5.extractText()\n",
    "\n",
    "file_object.close()\n",
    "\n",
    "# In my PDF there is no page 5 ; so opened page 3"
   ]
  },
  {
   "cell_type": "code",
   "execution_count": 13,
   "id": "e3bc6a06",
   "metadata": {},
   "outputs": [
    {
     "data": {
      "text/plain": [
       "'\\n-\\nbas\\ned algorithm that \\nuses the qualities features of multiple Decision Trees\\n \\nfor making \\ndecisions.\\n \\nHere \\nmultiple \\nsubsets\\n \\nof the dataset \\nare\\n \\ntaken\\n \\nfor \\ncreating the multiple Decision Trees\\n \\n \\n\\n\\n \\nThe Decisio\\nn Tree algorithm has a major disadvantage in that it causes over\\n-\\nfitting. This problem can \\nbe limited by implementing the Random Forest Regression in place of the Decision Tree Regression. \\nAdditionally, the Random Forest algorithm is also very fast and rob\\nust than other regression models.\\n \\n \\n \\nBAGGING ALGORITHM\\n \\nBAGGing\\n,\\n \\nor \\nB\\nootstrap \\nAGG\\nregating\\n \\nGiven a sample of data, multiple bootstrapped subsamples are pulled. A Decision Tree is formed on \\neach of the bootstrapped subsamples. After each subsample Decision Tree has been formed, an \\nalgorithm is used to aggregate over the Decision Trees to form the\\n \\nmost efficient predictor.\\n \\n \\n \\n'"
      ]
     },
     "execution_count": 13,
     "metadata": {},
     "output_type": "execute_result"
    }
   ],
   "source": [
    "# Method 2 - Simple Way\n",
    "PyPDF2.PdfFileReader(file_object).getPage(3).extractText()"
   ]
  },
  {
   "cell_type": "markdown",
   "id": "cab2cd01",
   "metadata": {},
   "source": [
    "---"
   ]
  },
  {
   "cell_type": "markdown",
   "id": "e4ac0342",
   "metadata": {},
   "source": [
    "<h3>Q3</h3>\n",
    "<b>What PdfFileReader variable stores the number of pages in the PDF document?"
   ]
  },
  {
   "cell_type": "markdown",
   "id": "ebe7d781",
   "metadata": {},
   "source": [
    "<pre><b>PyPDF2.PdfFileReader(file_object).numPages</b>\n",
    "\n",
    "    Stores the number of pages in the integer form "
   ]
  },
  {
   "cell_type": "code",
   "execution_count": 18,
   "id": "cb3bfdf8",
   "metadata": {},
   "outputs": [
    {
     "name": "stdout",
     "output_type": "stream",
     "text": [
      "No of Pages: 4\n",
      "Type: <class 'int'>\n"
     ]
    }
   ],
   "source": [
    "print(f\"No of Pages: {PyPDF2.PdfFileReader(file_object).numPages}\")\n",
    "print(f\"Type: {type(PyPDF2.PdfFileReader(file_object).numPages)}\")"
   ]
  },
  {
   "cell_type": "markdown",
   "id": "3ba5dd64",
   "metadata": {},
   "source": [
    "---"
   ]
  },
  {
   "cell_type": "markdown",
   "id": "841b375f",
   "metadata": {},
   "source": [
    "<h3>Q4</h3>\n",
    "<b>If a PdfFileReader object’s PDF is encrypted with the password swordfish, what must you do\n",
    "before you can obtain Page objects from it?"
   ]
  },
  {
   "cell_type": "code",
   "execution_count": 32,
   "id": "299402f6",
   "metadata": {},
   "outputs": [
    {
     "name": "stdout",
     "output_type": "stream",
     "text": [
      "Is my file Encrypted: False\n"
     ]
    }
   ],
   "source": [
    "file_object = open('Text_PDF_for_Assign_12.pdf', 'rb')\n",
    "file = PyPDF2.PdfFileReader(file_object)\n",
    "\n",
    "# Now we can check whether out file is encrypted or not\n",
    "print(f'Is my file Encrypted: {file.isEncrypted}')\n",
    "# False means FIle is not excrypted"
   ]
  },
  {
   "cell_type": "markdown",
   "id": "61018200",
   "metadata": {},
   "source": [
    "<pre>\n",
    "BUT If the PDF-file have some password ; It will return True \n",
    "we can also decrypt it using the following command\n",
    "\n",
    "To open a encrypted PDF file, it has to be decrypted using decrpyt('--password--')\n",
    "\n",
    "<b>file.decrypt('swordfish')</b>"
   ]
  },
  {
   "cell_type": "markdown",
   "id": "84b185be",
   "metadata": {},
   "source": [
    "---"
   ]
  },
  {
   "cell_type": "markdown",
   "id": "ebd9b474",
   "metadata": {},
   "source": [
    "<h3>Q5</h3>\n",
    "<b>What methods do you use to rotate a page?"
   ]
  },
  {
   "cell_type": "code",
   "execution_count": 34,
   "id": "45c88a46",
   "metadata": {},
   "outputs": [
    {
     "data": {
      "text/plain": [
       "{'/Type': '/Page',\n",
       " '/Parent': {'/Type': '/Pages',\n",
       "  '/Count': 4,\n",
       "  '/Kids': [IndirectObject(3, 0),\n",
       "   IndirectObject(16, 0),\n",
       "   IndirectObject(18, 0),\n",
       "   IndirectObject(20, 0)]},\n",
       " '/Resources': {'/Font': {'/F1': {'/Type': '/Font',\n",
       "    '/Subtype': '/TrueType',\n",
       "    '/Name': '/F1',\n",
       "    '/BaseFont': '/BCDEEE+Calibri-Bold',\n",
       "    '/Encoding': '/WinAnsiEncoding',\n",
       "    '/FontDescriptor': {'/Type': '/FontDescriptor',\n",
       "     '/FontName': '/BCDEEE+Calibri-Bold',\n",
       "     '/Flags': 32,\n",
       "     '/ItalicAngle': 0,\n",
       "     '/Ascent': 750,\n",
       "     '/Descent': -250,\n",
       "     '/CapHeight': 750,\n",
       "     '/AvgWidth': 536,\n",
       "     '/MaxWidth': 1781,\n",
       "     '/FontWeight': 700,\n",
       "     '/XHeight': 250,\n",
       "     '/StemV': 53,\n",
       "     '/FontBBox': [-519, -250, 1263, 750],\n",
       "     '/FontFile2': {'/Filter': '/FlateDecode', '/Length1': 116480}},\n",
       "    '/FirstChar': 32,\n",
       "    '/LastChar': 121,\n",
       "    '/Widths': [226,\n",
       "     0,\n",
       "     0,\n",
       "     0,\n",
       "     0,\n",
       "     0,\n",
       "     0,\n",
       "     0,\n",
       "     0,\n",
       "     0,\n",
       "     0,\n",
       "     498,\n",
       "     0,\n",
       "     306,\n",
       "     267,\n",
       "     0,\n",
       "     0,\n",
       "     0,\n",
       "     0,\n",
       "     0,\n",
       "     0,\n",
       "     0,\n",
       "     0,\n",
       "     0,\n",
       "     0,\n",
       "     0,\n",
       "     276,\n",
       "     0,\n",
       "     0,\n",
       "     498,\n",
       "     0,\n",
       "     0,\n",
       "     0,\n",
       "     606,\n",
       "     561,\n",
       "     529,\n",
       "     630,\n",
       "     488,\n",
       "     459,\n",
       "     637,\n",
       "     631,\n",
       "     267,\n",
       "     0,\n",
       "     0,\n",
       "     423,\n",
       "     874,\n",
       "     659,\n",
       "     676,\n",
       "     532,\n",
       "     0,\n",
       "     563,\n",
       "     473,\n",
       "     495,\n",
       "     653,\n",
       "     591,\n",
       "     0,\n",
       "     551,\n",
       "     520,\n",
       "     0,\n",
       "     0,\n",
       "     0,\n",
       "     0,\n",
       "     0,\n",
       "     0,\n",
       "     0,\n",
       "     494,\n",
       "     537,\n",
       "     418,\n",
       "     537,\n",
       "     503,\n",
       "     316,\n",
       "     474,\n",
       "     537,\n",
       "     246,\n",
       "     0,\n",
       "     480,\n",
       "     246,\n",
       "     813,\n",
       "     537,\n",
       "     538,\n",
       "     537,\n",
       "     537,\n",
       "     355,\n",
       "     399,\n",
       "     347,\n",
       "     537,\n",
       "     473,\n",
       "     0,\n",
       "     459,\n",
       "     474]},\n",
       "   '/F2': {'/Type': '/Font',\n",
       "    '/Subtype': '/TrueType',\n",
       "    '/Name': '/F2',\n",
       "    '/BaseFont': '/BCDFEE+Calibri',\n",
       "    '/Encoding': '/WinAnsiEncoding',\n",
       "    '/FontDescriptor': {'/Type': '/FontDescriptor',\n",
       "     '/FontName': '/BCDFEE+Calibri',\n",
       "     '/Flags': 32,\n",
       "     '/ItalicAngle': 0,\n",
       "     '/Ascent': 750,\n",
       "     '/Descent': -250,\n",
       "     '/CapHeight': 750,\n",
       "     '/AvgWidth': 521,\n",
       "     '/MaxWidth': 1743,\n",
       "     '/FontWeight': 400,\n",
       "     '/XHeight': 250,\n",
       "     '/StemV': 52,\n",
       "     '/FontBBox': [-503, -250, 1240, 750],\n",
       "     '/FontFile2': {'/Filter': '/FlateDecode', '/Length1': 160840}},\n",
       "    '/FirstChar': 32,\n",
       "    '/LastChar': 122,\n",
       "    '/Widths': [226,\n",
       "     0,\n",
       "     0,\n",
       "     0,\n",
       "     0,\n",
       "     0,\n",
       "     682,\n",
       "     0,\n",
       "     303,\n",
       "     303,\n",
       "     498,\n",
       "     498,\n",
       "     250,\n",
       "     306,\n",
       "     252,\n",
       "     386,\n",
       "     507,\n",
       "     507,\n",
       "     507,\n",
       "     507,\n",
       "     507,\n",
       "     507,\n",
       "     507,\n",
       "     0,\n",
       "     0,\n",
       "     507,\n",
       "     268,\n",
       "     268,\n",
       "     0,\n",
       "     498,\n",
       "     0,\n",
       "     0,\n",
       "     0,\n",
       "     579,\n",
       "     544,\n",
       "     533,\n",
       "     615,\n",
       "     488,\n",
       "     459,\n",
       "     631,\n",
       "     623,\n",
       "     252,\n",
       "     319,\n",
       "     0,\n",
       "     420,\n",
       "     855,\n",
       "     646,\n",
       "     662,\n",
       "     517,\n",
       "     0,\n",
       "     543,\n",
       "     459,\n",
       "     487,\n",
       "     642,\n",
       "     567,\n",
       "     890,\n",
       "     519,\n",
       "     487,\n",
       "     0,\n",
       "     0,\n",
       "     0,\n",
       "     0,\n",
       "     0,\n",
       "     0,\n",
       "     291,\n",
       "     479,\n",
       "     525,\n",
       "     423,\n",
       "     525,\n",
       "     498,\n",
       "     305,\n",
       "     471,\n",
       "     525,\n",
       "     230,\n",
       "     239,\n",
       "     455,\n",
       "     230,\n",
       "     799,\n",
       "     525,\n",
       "     527,\n",
       "     525,\n",
       "     525,\n",
       "     349,\n",
       "     391,\n",
       "     335,\n",
       "     525,\n",
       "     452,\n",
       "     715,\n",
       "     433,\n",
       "     453,\n",
       "     395]},\n",
       "   '/F3': {'/Type': '/Font',\n",
       "    '/Subtype': '/Type0',\n",
       "    '/BaseFont': '/BCDGEE+Calibri',\n",
       "    '/Encoding': '/Identity-H',\n",
       "    '/DescendantFonts': [IndirectObject(13, 0)],\n",
       "    '/ToUnicode': {'/Filter': '/FlateDecode'}}},\n",
       "  '/ExtGState': {'/GS7': {'/Type': '/ExtGState', '/BM': '/Normal', '/ca': 1},\n",
       "   '/GS8': {'/Type': '/ExtGState', '/BM': '/Normal', '/CA': 1}},\n",
       "  '/ProcSet': ['/PDF', '/Text', '/ImageB', '/ImageC', '/ImageI']},\n",
       " '/MediaBox': [0, 0, 595.32, 841.92],\n",
       " '/Contents': {'/Filter': '/FlateDecode'},\n",
       " '/Group': {'/Type': '/Group', '/S': '/Transparency', '/CS': '/DeviceRGB'},\n",
       " '/Tabs': '/S',\n",
       " '/Rotate': 90}"
      ]
     },
     "execution_count": 34,
     "metadata": {},
     "output_type": "execute_result"
    }
   ],
   "source": [
    "file_object = open('Text_PDF_for_Assign_12.pdf', 'rb')\n",
    "file = PyPDF2.PdfFileReader(file_object)\n",
    "\n",
    "# ROTATING A SINGLE PAGE\n",
    "page_0 = file.getPage(0)\n",
    "page_0.rotateClockwise(90)"
   ]
  },
  {
   "cell_type": "code",
   "execution_count": 35,
   "id": "511ff4a3",
   "metadata": {},
   "outputs": [],
   "source": [
    "# Created a WritePDF Instance\n",
    "pdfWriter = PyPDF2.PdfFileWriter()\n",
    "pdfWriter.addPage(page_0)\n",
    "\n",
    "# Creating a new Pdf and adding the rotated pdf page\n",
    "resultPdfFile = open('rotatedPage.pdf', 'wb')\n",
    "pdfWriter.write(resultPdfFile)\n",
    "\n",
    "resultPdfFile.close()\n",
    "file_object.close()"
   ]
  },
  {
   "cell_type": "markdown",
   "id": "2cc3113a",
   "metadata": {},
   "source": [
    "---"
   ]
  },
  {
   "cell_type": "markdown",
   "id": "e03bf1f6",
   "metadata": {},
   "source": [
    "<h3>Q6</h3>\n",
    "<b>What is the difference between a Run object and a Paragraph object?"
   ]
  },
  {
   "cell_type": "markdown",
   "id": "e40e4b07",
   "metadata": {},
   "source": [
    "<pre>\n",
    "A <b>Document-object</b> represents the whole document at the highest level.\n",
    "\n",
    "<b>Paragraph Object :</b>\n",
    "The Document object holds a list of paragraph objects for the document's paragraphs.\n",
    "When the user presses ENTER or RETURN in a word document, a new paragraph begins.\n",
    "A list of one or more Run objects is contained in each of these paragraph objects.\n",
    "\n",
    "<b>Run Object :</b>\n",
    "It has font, size, colour, and other stylistic data attached to it.\n",
    "In Word, a style is a collection of these characteristics. \n",
    "A Run object is a string of text that has the same style throughout.\n",
    "A new run object is required if the text style changes."
   ]
  },
  {
   "cell_type": "markdown",
   "id": "8943f40c",
   "metadata": {},
   "source": [
    "---"
   ]
  },
  {
   "cell_type": "markdown",
   "id": "5c94dafc",
   "metadata": {},
   "source": [
    "<h3>Q7</h3>\n",
    "<b>How do you obtain a list of Paragraph objects for a Document object that’s stored in a variable\n",
    "named doc?"
   ]
  },
  {
   "cell_type": "code",
   "execution_count": 48,
   "id": "51214242",
   "metadata": {},
   "outputs": [
    {
     "data": {
      "text/plain": [
       "[<docx.text.paragraph.Paragraph at 0x1ca9dd454c8>,\n",
       " <docx.text.paragraph.Paragraph at 0x1ca9dedf148>,\n",
       " <docx.text.paragraph.Paragraph at 0x1ca9dedf808>,\n",
       " <docx.text.paragraph.Paragraph at 0x1ca9dedf748>,\n",
       " <docx.text.paragraph.Paragraph at 0x1ca9dedf888>,\n",
       " <docx.text.paragraph.Paragraph at 0x1ca9dedf8c8>,\n",
       " <docx.text.paragraph.Paragraph at 0x1ca9dedf708>,\n",
       " <docx.text.paragraph.Paragraph at 0x1ca9dedf5c8>,\n",
       " <docx.text.paragraph.Paragraph at 0x1ca9dedf448>,\n",
       " <docx.text.paragraph.Paragraph at 0x1ca9dedf788>,\n",
       " <docx.text.paragraph.Paragraph at 0x1ca9dedf7c8>,\n",
       " <docx.text.paragraph.Paragraph at 0x1ca9dedf248>,\n",
       " <docx.text.paragraph.Paragraph at 0x1ca9dedf1c8>]"
      ]
     },
     "execution_count": 48,
     "metadata": {},
     "output_type": "execute_result"
    }
   ],
   "source": [
    "import docx\n",
    "doc=docx.Document('Questions/Assignment_12.docx')\n",
    "doc.paragraphs # This returns the list of Paragraph objects in a word document"
   ]
  },
  {
   "cell_type": "markdown",
   "id": "c0e137ba",
   "metadata": {},
   "source": [
    "---"
   ]
  },
  {
   "cell_type": "markdown",
   "id": "ae7eabe8",
   "metadata": {},
   "source": [
    "<h3>Q8</h3>\n",
    "<b>What type of object has bold, underline, italic, strike, and outline variables?"
   ]
  },
  {
   "cell_type": "markdown",
   "id": "b60de3e4",
   "metadata": {},
   "source": [
    "<pre>The <b>run object</b> has bold, underline, italic, strike, and outline variables."
   ]
  },
  {
   "cell_type": "markdown",
   "id": "c26478dd",
   "metadata": {},
   "source": [
    "---"
   ]
  },
  {
   "cell_type": "markdown",
   "id": "472be7d8",
   "metadata": {},
   "source": [
    "<h3>Q9</h3>\n",
    "<b>What is the difference between False, True, and None for the bold variable?"
   ]
  },
  {
   "cell_type": "markdown",
   "id": "6bc44f80",
   "metadata": {},
   "source": [
    "<pre>\n",
    "If the Bold variable is set to <b>False</b>, the variable is always disabled.\n",
    "If the Bold variable is set to <b>True</b>, the variable is always enabled, no matter what other styles are applied to the run.\n",
    "If the Bold variable is set to <b>None</b>, defaults to whatever the run’s style is set to."
   ]
  },
  {
   "cell_type": "code",
   "execution_count": null,
   "id": "e3a73f7b",
   "metadata": {},
   "outputs": [],
   "source": []
  },
  {
   "cell_type": "markdown",
   "id": "a9cae965",
   "metadata": {},
   "source": [
    "---"
   ]
  },
  {
   "cell_type": "markdown",
   "id": "74c4837a",
   "metadata": {},
   "source": [
    "<h3>Q10</h3>\n",
    "<b>How do you create a Document object for a new Word document?"
   ]
  },
  {
   "cell_type": "code",
   "execution_count": 49,
   "id": "cffb5d9e",
   "metadata": {},
   "outputs": [],
   "source": [
    "import docx\n",
    "new_doc = docx.Document()\n",
    "new_doc.save('sample_test.docx') \n",
    "\n",
    "# this creates a blank new word document sample.docx in the current directory."
   ]
  },
  {
   "cell_type": "code",
   "execution_count": null,
   "id": "8a92734b",
   "metadata": {},
   "outputs": [],
   "source": []
  },
  {
   "cell_type": "markdown",
   "id": "fa9af747",
   "metadata": {},
   "source": [
    "---"
   ]
  },
  {
   "cell_type": "markdown",
   "id": "6e688984",
   "metadata": {},
   "source": [
    "<h3>Q11</h3>\n",
    "<b>How do you add a paragraph with the text &#39;Hello, there!&#39; to a Document object stored in a\n",
    "variable named doc?"
   ]
  },
  {
   "cell_type": "code",
   "execution_count": 50,
   "id": "549cce6f",
   "metadata": {},
   "outputs": [],
   "source": [
    "import docx\n",
    "new_doc = docx.Document()\n",
    "new_doc.add_paragraph('Hello There!!! Khwajaavais I Lakdawala')\n",
    "new_doc.save('sample_test.docx') "
   ]
  },
  {
   "cell_type": "markdown",
   "id": "7a8a0746",
   "metadata": {},
   "source": [
    "---"
   ]
  },
  {
   "cell_type": "markdown",
   "id": "1f214cc4",
   "metadata": {},
   "source": [
    "<h3>Q12</h3>\n",
    "<b>What integers represent the levels of headings available in Word documents?"
   ]
  },
  {
   "cell_type": "code",
   "execution_count": 52,
   "id": "38917191",
   "metadata": {},
   "outputs": [],
   "source": [
    "import docx\n",
    "new_doc = docx.Document()\n",
    "\n",
    "new_doc.add_heading('This is HEADING - 1',level=1)\n",
    "new_doc.add_heading('This is HEADING - 2',level=2)\n",
    "new_doc.add_heading('This is HEADING - 3',level=3)\n",
    "new_doc.add_heading('This is HEADING - 4',level=4)\n",
    "new_doc.add_heading('This is HEADING - 5',level=5)\n",
    "\n",
    "new_doc.save('sample_test.docx') "
   ]
  },
  {
   "cell_type": "markdown",
   "id": "ef18c012",
   "metadata": {},
   "source": [
    "---"
   ]
  }
 ],
 "metadata": {
  "kernelspec": {
   "display_name": "Python 3 (ipykernel)",
   "language": "python",
   "name": "python3"
  },
  "language_info": {
   "codemirror_mode": {
    "name": "ipython",
    "version": 3
   },
   "file_extension": ".py",
   "mimetype": "text/x-python",
   "name": "python",
   "nbconvert_exporter": "python",
   "pygments_lexer": "ipython3",
   "version": "3.7.9"
  }
 },
 "nbformat": 4,
 "nbformat_minor": 5
}
