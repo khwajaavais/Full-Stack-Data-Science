{
 "cells": [
  {
   "cell_type": "markdown",
   "metadata": {},
   "source": [
    "<h1 align='center'>Assignment 10<h1>"
   ]
  },
  {
   "cell_type": "markdown",
   "metadata": {},
   "source": [
    "<h3>Q1</h3>\n",
    "<b>How do you distinguish between shutil.copy() and shutil.copytree()?"
   ]
  },
  {
   "cell_type": "markdown",
   "metadata": {},
   "source": [
    "<pre>\n",
    "    <b>shutil.copy()</b> :: will copy a single file from the source location.\n",
    "    whereas\n",
    "    <b>shutil.copytree()</b> :: will copy the entire folder from the source location including all the files and folders \n",
    "    present within it.\n",
    "<br>\n",
    "<b> Example"
   ]
  },
  {
   "cell_type": "code",
   "execution_count": 1,
   "metadata": {},
   "outputs": [
    {
     "name": "stdout",
     "output_type": "stream",
     "text": [
      "Current working directory \n",
      "C:\\Users\\khwaj\\Desktop\\Full Stack Data Science\\Assignments\\Python Basic\n",
      "\n",
      "Current working directory \n",
      "C:\\Users\\khwaj\\Desktop\n"
     ]
    },
    {
     "data": {
      "text/plain": [
       "'C:\\\\Users\\\\khwaj\\\\Desktop\\\\DS\\\\Project Info.txt'"
      ]
     },
     "execution_count": 1,
     "metadata": {},
     "output_type": "execute_result"
    }
   ],
   "source": [
    "# Importing the modules\n",
    "import shutil\n",
    "import os\n",
    "\n",
    "print(f'Current working directory \\n{os.getcwd()}')\n",
    "\n",
    "# Changing the cuurent working directory address\n",
    "os.chdir('C:\\\\Users\\\\khwaj\\\\Desktop\\\\')\n",
    "print(f'\\nCurrent working directory \\n{os.getcwd()}')\n",
    "\n",
    "shutil.copy('C:\\\\Users\\\\khwaj\\\\Desktop\\\\Project Info.txt', 'C:\\\\Users\\\\khwaj\\\\Desktop\\\\DS')\n",
    "# shutil.copy(Source file_name address, Destination Folder_name address)"
   ]
  },
  {
   "cell_type": "code",
   "execution_count": 2,
   "metadata": {},
   "outputs": [
    {
     "data": {
      "text/plain": [
       "'C:\\\\Users\\\\khwaj\\\\Desktop\\\\PC Info_Copy'"
      ]
     },
     "execution_count": 2,
     "metadata": {},
     "output_type": "execute_result"
    }
   ],
   "source": [
    "shutil.copytree('C:\\\\Users\\\\khwaj\\\\Desktop\\\\PC Info', 'C:\\\\Users\\\\khwaj\\\\Desktop\\\\PC Info_Copy')\n",
    "\n",
    "# shutil.copytree(Source file_name address, Destination NewFolder_name)\n",
    "# PC Info is the Original File -------> PC Info_Copy is the copy file that has been created"
   ]
  },
  {
   "cell_type": "markdown",
   "metadata": {},
   "source": [
    "---"
   ]
  },
  {
   "cell_type": "markdown",
   "metadata": {},
   "source": [
    "<h3>Q2</h3>\n",
    "<b>What function is used to rename files?"
   ]
  },
  {
   "cell_type": "markdown",
   "metadata": {},
   "source": [
    "<pre>\n",
    "<b>move()</b> :: is used to rename the files\n",
    "        \n",
    "    This is done when a file with name for instance abc is already present within the destination folder\n",
    "    This is the case where renaming can be done using the move function.</pre>\n",
    "<h4>Example"
   ]
  },
  {
   "cell_type": "code",
   "execution_count": 4,
   "metadata": {},
   "outputs": [
    {
     "data": {
      "text/plain": [
       "'C:\\\\Users\\\\khwaj\\\\Desktop\\\\Test\\\\Project Info.txt'"
      ]
     },
     "execution_count": 4,
     "metadata": {},
     "output_type": "execute_result"
    }
   ],
   "source": [
    "# Case 1 : where the source file_name is not present in the destination folder\n",
    "shutil.move('C:\\\\Users\\\\khwaj\\\\Desktop\\\\Project Info.txt', 'C:\\\\Users\\\\khwaj\\\\Desktop\\\\Test')"
   ]
  },
  {
   "cell_type": "code",
   "execution_count": 5,
   "metadata": {},
   "outputs": [
    {
     "ename": "Error",
     "evalue": "Destination path 'C:\\Users\\khwaj\\Desktop\\Test\\Project Info.txt' already exists",
     "output_type": "error",
     "traceback": [
      "\u001b[1;31m---------------------------------------------------------------------------\u001b[0m",
      "\u001b[1;31mError\u001b[0m                                     Traceback (most recent call last)",
      "\u001b[1;32m<ipython-input-5-2d1a8b77ab14>\u001b[0m in \u001b[0;36m<module>\u001b[1;34m\u001b[0m\n\u001b[0;32m      2\u001b[0m \u001b[1;31m# This will give me error\u001b[0m\u001b[1;33m\u001b[0m\u001b[1;33m\u001b[0m\u001b[1;33m\u001b[0m\u001b[0m\n\u001b[0;32m      3\u001b[0m \u001b[1;33m\u001b[0m\u001b[0m\n\u001b[1;32m----> 4\u001b[1;33m \u001b[0mshutil\u001b[0m\u001b[1;33m.\u001b[0m\u001b[0mmove\u001b[0m\u001b[1;33m(\u001b[0m\u001b[1;34m'C:\\\\Users\\\\khwaj\\\\Desktop\\\\Project Info.txt'\u001b[0m\u001b[1;33m,\u001b[0m \u001b[1;34m'C:\\\\Users\\\\khwaj\\\\Desktop\\\\Test'\u001b[0m\u001b[1;33m)\u001b[0m\u001b[1;33m\u001b[0m\u001b[1;33m\u001b[0m\u001b[0m\n\u001b[0m",
      "\u001b[1;32m~\\anaconda3\\lib\\shutil.py\u001b[0m in \u001b[0;36mmove\u001b[1;34m(src, dst, copy_function)\u001b[0m\n\u001b[0;32m    562\u001b[0m         \u001b[0mreal_dst\u001b[0m \u001b[1;33m=\u001b[0m \u001b[0mos\u001b[0m\u001b[1;33m.\u001b[0m\u001b[0mpath\u001b[0m\u001b[1;33m.\u001b[0m\u001b[0mjoin\u001b[0m\u001b[1;33m(\u001b[0m\u001b[0mdst\u001b[0m\u001b[1;33m,\u001b[0m \u001b[0m_basename\u001b[0m\u001b[1;33m(\u001b[0m\u001b[0msrc\u001b[0m\u001b[1;33m)\u001b[0m\u001b[1;33m)\u001b[0m\u001b[1;33m\u001b[0m\u001b[1;33m\u001b[0m\u001b[0m\n\u001b[0;32m    563\u001b[0m         \u001b[1;32mif\u001b[0m \u001b[0mos\u001b[0m\u001b[1;33m.\u001b[0m\u001b[0mpath\u001b[0m\u001b[1;33m.\u001b[0m\u001b[0mexists\u001b[0m\u001b[1;33m(\u001b[0m\u001b[0mreal_dst\u001b[0m\u001b[1;33m)\u001b[0m\u001b[1;33m:\u001b[0m\u001b[1;33m\u001b[0m\u001b[1;33m\u001b[0m\u001b[0m\n\u001b[1;32m--> 564\u001b[1;33m             \u001b[1;32mraise\u001b[0m \u001b[0mError\u001b[0m\u001b[1;33m(\u001b[0m\u001b[1;34m\"Destination path '%s' already exists\"\u001b[0m \u001b[1;33m%\u001b[0m \u001b[0mreal_dst\u001b[0m\u001b[1;33m)\u001b[0m\u001b[1;33m\u001b[0m\u001b[1;33m\u001b[0m\u001b[0m\n\u001b[0m\u001b[0;32m    565\u001b[0m     \u001b[1;32mtry\u001b[0m\u001b[1;33m:\u001b[0m\u001b[1;33m\u001b[0m\u001b[1;33m\u001b[0m\u001b[0m\n\u001b[0;32m    566\u001b[0m         \u001b[0mos\u001b[0m\u001b[1;33m.\u001b[0m\u001b[0mrename\u001b[0m\u001b[1;33m(\u001b[0m\u001b[0msrc\u001b[0m\u001b[1;33m,\u001b[0m \u001b[0mreal_dst\u001b[0m\u001b[1;33m)\u001b[0m\u001b[1;33m\u001b[0m\u001b[1;33m\u001b[0m\u001b[0m\n",
      "\u001b[1;31mError\u001b[0m: Destination path 'C:\\Users\\khwaj\\Desktop\\Test\\Project Info.txt' already exists"
     ]
    }
   ],
   "source": [
    "# When is retry execute the same where source file_name file is already present \n",
    "# This will give me error\n",
    "\n",
    "shutil.move('C:\\\\Users\\\\khwaj\\\\Desktop\\\\Project Info.txt', 'C:\\\\Users\\\\khwaj\\\\Desktop\\\\Test')"
   ]
  },
  {
   "cell_type": "code",
   "execution_count": 7,
   "metadata": {},
   "outputs": [
    {
     "data": {
      "text/plain": [
       "'C:\\\\Users\\\\khwaj\\\\Desktop\\\\Test\\\\new_PI.txt'"
      ]
     },
     "execution_count": 7,
     "metadata": {},
     "output_type": "execute_result"
    }
   ],
   "source": [
    "# Case 2 : where the source file_name is present in the destination folder \n",
    "        # BUT we will change the name of the file while moving\n",
    "\n",
    "shutil.move('C:\\\\Users\\\\khwaj\\\\Desktop\\\\Project Info.txt', 'C:\\\\Users\\\\khwaj\\\\Desktop\\\\Test\\\\new_PI.txt')"
   ]
  },
  {
   "cell_type": "markdown",
   "metadata": {},
   "source": [
    "---"
   ]
  },
  {
   "cell_type": "markdown",
   "metadata": {},
   "source": [
    "<h3>Q3</h3>\n",
    "<b>What is the difference between the delete functions in the send2trash and shutil modules?"
   ]
  },
  {
   "cell_type": "markdown",
   "metadata": {},
   "source": [
    "<pre>\n",
    "<b>shutil.rmtree()</b> :: will remove the folder at the specified path;\n",
    "        It will also delete the folders and file present within that specified path\n",
    "        \n",
    "        The shutil.rmtree() function will delete all the file/folder permanently\n",
    "       </pre>\n",
    "<h4>Example"
   ]
  },
  {
   "cell_type": "code",
   "execution_count": 8,
   "metadata": {},
   "outputs": [],
   "source": [
    "# As the \"PC Info_Copy\" Folder was created earlier; I would be deleting that same file\n",
    "\n",
    "shutil.rmtree('C:\\\\Users\\\\khwaj\\\\Desktop\\\\PC Info_Copy')"
   ]
  },
  {
   "cell_type": "code",
   "execution_count": 9,
   "metadata": {},
   "outputs": [
    {
     "name": "stdout",
     "output_type": "stream",
     "text": [
      "CANADA-UK-EUROPE UNIVERSITIES.txt\n",
      "Interview points.txt\n"
     ]
    }
   ],
   "source": [
    "# Similar implementation can be done using the os module\n",
    "import os\n",
    "\n",
    "for file_name in os.listdir():\n",
    "    if file_name.endswith('.txt'):\n",
    "        #os.unlink(file_name) ## This will delete the file\n",
    "        print(file_name)"
   ]
  },
  {
   "cell_type": "markdown",
   "metadata": {},
   "source": [
    "<pre>\n",
    "<b>send2trash()</b> :: is much more safer than shutil.rmtree() and the os function\n",
    "                 This function will also delete the file and folder but it will send the files to the recycling bin \n",
    "                 unlike the shutil and os which  permanently deletes the files and folder </pre>\n",
    "<h4>Example"
   ]
  },
  {
   "cell_type": "code",
   "execution_count": 10,
   "metadata": {},
   "outputs": [],
   "source": [
    "import send2trash\n",
    "send2trash.send2trash('C:\\\\Users\\\\khwaj\\\\Desktop\\\\Project Info.txt')"
   ]
  },
  {
   "cell_type": "markdown",
   "metadata": {},
   "source": [
    "---"
   ]
  },
  {
   "cell_type": "markdown",
   "metadata": {},
   "source": [
    "<h3>Q4</h3>\n",
    "<pre><b>ZipFile objects have a close() method just like File objects’ close() method. <br>What ZipFile method is equivalent to File objects’ open() method?"
   ]
  },
  {
   "cell_type": "markdown",
   "metadata": {},
   "source": [
    "<pre>\n",
    "<b>zipfile.ZipFile(filename,mode)</b> is equivalent to file object's open() function"
   ]
  },
  {
   "cell_type": "code",
   "execution_count": 11,
   "metadata": {},
   "outputs": [
    {
     "name": "stdout",
     "output_type": "stream",
     "text": [
      "File Name                                             Modified             Size\n",
      "Test/new_PI.txt                                2021-09-13 18:37:04         3280\n",
      "Test/Project Info.txt                          2021-09-13 18:37:04         3280\n",
      "Extracting all the files now...\n",
      "Done!\n"
     ]
    }
   ],
   "source": [
    "from zipfile import ZipFile\n",
    "  \n",
    "file_name = \"C:\\\\Users\\\\khwaj\\\\Desktop\\\\Test.zip\"\n",
    "  \n",
    "# opening the zip file in READ mode\n",
    "with ZipFile(file_name, 'r') as zip:\n",
    "    # printing all the contents of the zip file\n",
    "    zip.printdir()\n",
    "  \n",
    "    # extracting all the files\n",
    "    print('Extracting all the files now...')\n",
    "#     zip.extractall()\n",
    "    print('Done!')"
   ]
  },
  {
   "cell_type": "markdown",
   "metadata": {},
   "source": [
    "---"
   ]
  },
  {
   "cell_type": "markdown",
   "metadata": {},
   "source": [
    "<h3>Q5</h3>\n",
    "<b>Create a programme that searches a folder tree for files with a certain file extension (such as .pdf or .jpg).<br>Copy these files from whatever location they are in to a new folder.\n"
   ]
  },
  {
   "cell_type": "code",
   "execution_count": 12,
   "metadata": {},
   "outputs": [
    {
     "name": "stdout",
     "output_type": "stream",
     "text": [
      "Enter the file type extension: .pdf // .jpg // or anyone you want :: .pdf\n",
      "Enter the folder location where u want to search :: C:\\\\Users\\\\khwaj\\\\Desktop\n",
      "Enter the folder location where u want to create a new folder :: C:\\\\Users\\\\khwaj\\\\Desktop\n",
      "Total .pdf Files copied :: 3\n"
     ]
    }
   ],
   "source": [
    "import os\n",
    "\n",
    "user_extension = input('Enter the file type extension: .pdf // .jpg // or anyone you want :: ')\n",
    "user_file = input('Enter the folder location where u want to search :: ')\n",
    "\n",
    "os.chdir(user_file)\n",
    "\n",
    "count = 0\n",
    "\n",
    "# New Folder Creation\n",
    "directory = \"New folder\"\n",
    "new_folder = input('Enter the folder location where u want to create a new folder :: ')\n",
    "os.chdir(new_folder)\n",
    "parent_dir = os.getcwd()\n",
    "path = os.path.join(parent_dir, directory) \n",
    "try:\n",
    "    os.mkdir(path)\n",
    "except Exception as e:\n",
    "    print(e)\n",
    "\n",
    "\n",
    "for file_name in os.listdir():\n",
    "    if file_name.endswith(user_extension):\n",
    "        #os.unlink(file_name) ## This will delete the file\n",
    "        count+=1\n",
    "#         print(file_name)\n",
    "#         file_path = os.getcwd() + file_name\n",
    "        file_path = os.path.join(os.getcwd(), file_name)\n",
    "#         print(file_path)\n",
    "        shutil.copy(file_path, path)\n",
    "\n",
    "if count > 0:\n",
    "    print(f'Total {user_extension} Files copied :: {count}')\n",
    "else:\n",
    "    print(f'No {user_extension} Files Found')"
   ]
  },
  {
   "cell_type": "markdown",
   "metadata": {},
   "source": [
    "---"
   ]
  },
  {
   "cell_type": "markdown",
   "metadata": {},
   "source": [
    "<h3>Q</h3>\n",
    "<b>"
   ]
  },
  {
   "cell_type": "code",
   "execution_count": null,
   "metadata": {},
   "outputs": [],
   "source": []
  },
  {
   "cell_type": "code",
   "execution_count": null,
   "metadata": {},
   "outputs": [],
   "source": []
  },
  {
   "cell_type": "markdown",
   "metadata": {},
   "source": [
    "---"
   ]
  }
 ],
 "metadata": {
  "kernelspec": {
   "display_name": "Python 3",
   "language": "python",
   "name": "python3"
  },
  "language_info": {
   "codemirror_mode": {
    "name": "ipython",
    "version": 3
   },
   "file_extension": ".py",
   "mimetype": "text/x-python",
   "name": "python",
   "nbconvert_exporter": "python",
   "pygments_lexer": "ipython3",
   "version": "3.7.9"
  }
 },
 "nbformat": 4,
 "nbformat_minor": 4
}
