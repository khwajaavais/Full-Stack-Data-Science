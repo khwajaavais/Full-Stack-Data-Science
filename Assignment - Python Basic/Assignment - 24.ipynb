{
 "cells": [
  {
   "cell_type": "markdown",
   "id": "5fbbffaa",
   "metadata": {},
   "source": [
    "<h1 align='center'>Assignment - 24"
   ]
  },
  {
   "cell_type": "markdown",
   "id": "bd79ee00",
   "metadata": {},
   "source": [
    "---"
   ]
  },
  {
   "cell_type": "markdown",
   "id": "aa011dfc",
   "metadata": {},
   "source": [
    "<h3>Q1</h3>\n",
    "<b>What is the relationship between def statements and lambda expressions ?"
   ]
  },
  {
   "cell_type": "markdown",
   "id": "1326b42a",
   "metadata": {},
   "source": [
    "<pre>\n",
    "LAMBDA\n",
    " - a lambda expression can have only one result, which is returned from the function produced\n",
    " - a lambda expression is an expression that evaluates to a function object, but a def statement has no value and \n",
    "   constructs a function object and binds it to a name.\n",
    " - the working of a lambda is similar to any other functions created by Python.\n",
    " \n",
    " DEF STMT\n",
    "  - the def keyword defines the creation of the python function\n",
    "  - this kind of function have return type\n",
    "  - this contains a no. of lines within the function body"
   ]
  },
  {
   "cell_type": "markdown",
   "id": "89bbd819",
   "metadata": {},
   "source": [
    "---"
   ]
  },
  {
   "cell_type": "markdown",
   "id": "0559f871",
   "metadata": {},
   "source": [
    "<h3>Q2</h3>\n",
    "<b>What is the benefit of lambda?"
   ]
  },
  {
   "cell_type": "markdown",
   "id": "66d517e0",
   "metadata": {},
   "source": [
    "<pre>\n",
    "<b>BENEFITS OF LAMBDA :</b>\n",
    "    1. Contains a single of code for the function\n",
    "    2. Lambda functions are inline functions and thus execute comparatively faster\n",
    "    3. Many times lambda functions make code much more readable by avoiding the logical jumps caused by function calls"
   ]
  },
  {
   "cell_type": "markdown",
   "id": "89bbd819",
   "metadata": {},
   "source": [
    "---"
   ]
  },
  {
   "cell_type": "markdown",
   "id": "aa011dfc",
   "metadata": {},
   "source": [
    "<h3>Q3</h3>\n",
    "<b>Compare and contrast map, filter, and reduce."
   ]
  },
  {
   "cell_type": "markdown",
   "id": "bc6c63a5",
   "metadata": {},
   "source": [
    "<pre>\n",
    "<b>MAP</b>: \n",
    " - Map Function takes 2 arguments as an input i.e. the function and the iterable object.\n",
    " - Iterables objects can be list, tuples or strings\n",
    " - The function is applied on the iterables and the transformed iterables is achieved\n",
    " - Syntax : map(function, iterables)\n",
    "\n",
    "<b>FILTER</b>:\n",
    " - Filter is a funtion which applies some operation on the sequence and only those values of the sequence  which \n",
    "   evaluates to True are operated\n",
    " - In simple words: filter is applied on only those sequence that matches the condition.\n",
    " - Syntax : map(function, iterables) \n",
    "\n",
    "<b>REDUCE</b>:\n",
    " - Reduce is a function which perfoms a recursive calculation on the pairs of values in a sequence and returns a result.\n",
    " - Syntax : reduce(function, sequence[, initial])"
   ]
  },
  {
   "cell_type": "markdown",
   "id": "89bbd819",
   "metadata": {},
   "source": [
    "---"
   ]
  },
  {
   "cell_type": "markdown",
   "id": "aa011dfc",
   "metadata": {},
   "source": [
    "<h3>Q4</h3>\n",
    "<b>What are function annotations, and how are they used?"
   ]
  },
  {
   "cell_type": "markdown",
   "id": "c74a56b2",
   "metadata": {},
   "source": [
    "<pre>\n",
    "- Function annotations are simply a way to associate arbitrary expressions to function arguments and return values.\n",
    "- For functions, you can annotate arguments and the return value. This is done as follows:\n",
    "- e.g. def func(arg: arg_type, optarg: arg_type = default) -> return_type:"
   ]
  },
  {
   "cell_type": "markdown",
   "id": "89bbd819",
   "metadata": {},
   "source": [
    "---"
   ]
  },
  {
   "cell_type": "markdown",
   "id": "aa011dfc",
   "metadata": {},
   "source": [
    "<h3>Q5</h3>\n",
    "<b>What are recursive functions, and how are they used?"
   ]
  },
  {
   "cell_type": "markdown",
   "id": "e20ab3c3",
   "metadata": {},
   "source": [
    "<pre>\n",
    "A recursive function is one that calls itself while it is being executed.\n",
    "This signifies that the function will keep calling itself and repeating its actions until a condition is met that causes it to return a result."
   ]
  },
  {
   "cell_type": "code",
   "execution_count": 3,
   "id": "fb41ced9",
   "metadata": {},
   "outputs": [],
   "source": [
    "def fact(n):\n",
    "    if n == 1:\n",
    "        return 1 \n",
    "    else:\n",
    "        return n * fact(n-1)"
   ]
  },
  {
   "cell_type": "code",
   "execution_count": 6,
   "id": "6053a3c8",
   "metadata": {},
   "outputs": [
    {
     "data": {
      "text/plain": [
       "120"
      ]
     },
     "execution_count": 6,
     "metadata": {},
     "output_type": "execute_result"
    }
   ],
   "source": [
    "fact(5)"
   ]
  },
  {
   "cell_type": "markdown",
   "id": "89bbd819",
   "metadata": {},
   "source": [
    "---"
   ]
  },
  {
   "cell_type": "markdown",
   "id": "aa011dfc",
   "metadata": {},
   "source": [
    "<h3>Q6</h3>\n",
    "<b>What are some general design guidelines for coding functions?"
   ]
  },
  {
   "cell_type": "markdown",
   "id": "d1872cda",
   "metadata": {},
   "source": [
    "<pre>\n",
    " - Focus on code readability\n",
    " - Specify standardize headers for different modules\n",
    " - Don’t use a single identifier for multiple purposes\n",
    " - Try to formalize Exception Handling"
   ]
  },
  {
   "cell_type": "markdown",
   "id": "89bbd819",
   "metadata": {},
   "source": [
    "---"
   ]
  },
  {
   "cell_type": "markdown",
   "id": "aa011dfc",
   "metadata": {},
   "source": [
    "<h3>Q7</h3>\n",
    "<b>Name three or more ways that functions can communicate results to a caller."
   ]
  },
  {
   "cell_type": "markdown",
   "id": "2955d290",
   "metadata": {},
   "source": [
    "<pre>\n",
    "-  Return without any expression or value. It returns None\n",
    "-  Return multiple values by using lists/tuples/dictionaries\n",
    "-  using print() funtion to return values"
   ]
  },
  {
   "cell_type": "markdown",
   "id": "89bbd819",
   "metadata": {},
   "source": [
    "---"
   ]
  }
 ],
 "metadata": {
  "kernelspec": {
   "display_name": "Python 3",
   "language": "python",
   "name": "python3"
  },
  "language_info": {
   "codemirror_mode": {
    "name": "ipython",
    "version": 3
   },
   "file_extension": ".py",
   "mimetype": "text/x-python",
   "name": "python",
   "nbconvert_exporter": "python",
   "pygments_lexer": "ipython3",
   "version": "3.8.8"
  }
 },
 "nbformat": 4,
 "nbformat_minor": 5
}
