{
 "cells": [
  {
   "cell_type": "markdown",
   "id": "27304805",
   "metadata": {},
   "source": [
    "<h1 align='center'>Assignment - 16"
   ]
  },
  {
   "cell_type": "markdown",
   "id": "1ca104db",
   "metadata": {},
   "source": [
    "---"
   ]
  },
  {
   "cell_type": "markdown",
   "id": "ee11c9d9",
   "metadata": {},
   "source": [
    "<h3>Q1</h3>\n",
    "<b>Create a list called years_list, starting with the year of your birth, and each year thereafter until the year of your fifth birthday. For example, if you were born in 1980. the list would be years_list = [1980, 1981, 1982, 1983, 1984, 1985]."
   ]
  },
  {
   "cell_type": "code",
   "execution_count": 3,
   "id": "ae9fe670",
   "metadata": {},
   "outputs": [],
   "source": [
    "year_of_birth = 1990\n",
    "year_list = list(range(year_of_birth, year_of_birth+5))"
   ]
  },
  {
   "cell_type": "code",
   "execution_count": 4,
   "id": "30662dea",
   "metadata": {},
   "outputs": [
    {
     "data": {
      "text/plain": [
       "[1990, 1991, 1992, 1993, 1994]"
      ]
     },
     "execution_count": 4,
     "metadata": {},
     "output_type": "execute_result"
    }
   ],
   "source": [
    "year_list"
   ]
  },
  {
   "cell_type": "markdown",
   "id": "deef9e4f",
   "metadata": {},
   "source": [
    "---"
   ]
  },
  {
   "cell_type": "markdown",
   "id": "b14db82c",
   "metadata": {},
   "source": [
    "<h3>Q2</h3>\n",
    "<b>In which year in years_list was your third birthday? Remember, you were 0 years of age for your first year."
   ]
  },
  {
   "cell_type": "code",
   "execution_count": 5,
   "id": "425d1411",
   "metadata": {},
   "outputs": [
    {
     "data": {
      "text/plain": [
       "1993"
      ]
     },
     "execution_count": 5,
     "metadata": {},
     "output_type": "execute_result"
    }
   ],
   "source": [
    "year_list[3]"
   ]
  },
  {
   "cell_type": "markdown",
   "id": "c0bc0e65",
   "metadata": {},
   "source": [
    "---"
   ]
  },
  {
   "cell_type": "markdown",
   "id": "d3ec5170",
   "metadata": {},
   "source": [
    "<h3>Q3</h3>\n",
    "<b>In the years list, which year were you the oldest?"
   ]
  },
  {
   "cell_type": "code",
   "execution_count": 6,
   "id": "f1de0c2a",
   "metadata": {},
   "outputs": [
    {
     "data": {
      "text/plain": [
       "1994"
      ]
     },
     "execution_count": 6,
     "metadata": {},
     "output_type": "execute_result"
    }
   ],
   "source": [
    "year_list[-1]"
   ]
  },
  {
   "cell_type": "markdown",
   "id": "eab88a42",
   "metadata": {},
   "source": [
    "---"
   ]
  },
  {
   "cell_type": "markdown",
   "id": "8eeaec94",
   "metadata": {},
   "source": [
    "<h3>Q4</h3>\n",
    "<b>Make a list called things with these three strings as elements: \"mozzarella\", \"cinderella\", \"salmonella\"."
   ]
  },
  {
   "cell_type": "code",
   "execution_count": 7,
   "id": "35b30ff2",
   "metadata": {},
   "outputs": [],
   "source": [
    "list_element = ['mozzarella', 'cinderella', 'salmonell']"
   ]
  },
  {
   "cell_type": "code",
   "execution_count": 8,
   "id": "25e09428",
   "metadata": {},
   "outputs": [
    {
     "data": {
      "text/plain": [
       "['mozzarella', 'cinderella', 'salmonell']"
      ]
     },
     "execution_count": 8,
     "metadata": {},
     "output_type": "execute_result"
    }
   ],
   "source": [
    "list_element"
   ]
  },
  {
   "cell_type": "markdown",
   "id": "434a048c",
   "metadata": {},
   "source": [
    "---"
   ]
  },
  {
   "cell_type": "markdown",
   "id": "13a25221",
   "metadata": {},
   "source": [
    "<h3>Q5</h3>\n",
    "<b>Capitalize the element in things that refers to a person and then print the list. Did it change the element in the list?"
   ]
  },
  {
   "cell_type": "code",
   "execution_count": 9,
   "id": "130d617f",
   "metadata": {},
   "outputs": [
    {
     "data": {
      "text/plain": [
       "'Cinderella'"
      ]
     },
     "execution_count": 9,
     "metadata": {},
     "output_type": "execute_result"
    }
   ],
   "source": [
    "list_element[1].capitalize()"
   ]
  },
  {
   "cell_type": "code",
   "execution_count": 10,
   "id": "c77265f4",
   "metadata": {},
   "outputs": [
    {
     "data": {
      "text/plain": [
       "['mozzarella', 'cinderella', 'salmonell']"
      ]
     },
     "execution_count": 10,
     "metadata": {},
     "output_type": "execute_result"
    }
   ],
   "source": [
    "list_element"
   ]
  },
  {
   "cell_type": "markdown",
   "id": "dffc4a28",
   "metadata": {},
   "source": [
    "---"
   ]
  },
  {
   "cell_type": "markdown",
   "id": "15c4eb80",
   "metadata": {},
   "source": [
    "<h3>Q6</h3>\n",
    "<b>Make a surprise list with the elements \"Groucho,\" \"Chico,\" and \"Harpo.\""
   ]
  },
  {
   "cell_type": "code",
   "execution_count": 11,
   "id": "85017ac0",
   "metadata": {},
   "outputs": [],
   "source": [
    "suprise = [\"Groucho\", \"Chico\", \"Harpo\"]"
   ]
  },
  {
   "cell_type": "code",
   "execution_count": 12,
   "id": "3da9bfb6",
   "metadata": {},
   "outputs": [
    {
     "data": {
      "text/plain": [
       "['Groucho', 'Chico', 'Harpo']"
      ]
     },
     "execution_count": 12,
     "metadata": {},
     "output_type": "execute_result"
    }
   ],
   "source": [
    "suprise"
   ]
  },
  {
   "cell_type": "markdown",
   "id": "132c2441",
   "metadata": {},
   "source": [
    "---"
   ]
  },
  {
   "cell_type": "markdown",
   "id": "1ddef92d",
   "metadata": {},
   "source": [
    "<h3>Q7</h3>\n",
    "<b>Lowercase the last element of the surprise list, reverse it, and then capitalize it."
   ]
  },
  {
   "cell_type": "code",
   "execution_count": 13,
   "id": "27679de3",
   "metadata": {},
   "outputs": [
    {
     "data": {
      "text/plain": [
       "'harpo'"
      ]
     },
     "execution_count": 13,
     "metadata": {},
     "output_type": "execute_result"
    }
   ],
   "source": [
    "suprise[-1].lower()"
   ]
  },
  {
   "cell_type": "code",
   "execution_count": 23,
   "id": "d7527f9b",
   "metadata": {},
   "outputs": [
    {
     "data": {
      "text/plain": [
       "'opraH'"
      ]
     },
     "execution_count": 23,
     "metadata": {},
     "output_type": "execute_result"
    }
   ],
   "source": [
    "suprise[-1][::-1]"
   ]
  },
  {
   "cell_type": "code",
   "execution_count": 24,
   "id": "43e1d043",
   "metadata": {},
   "outputs": [
    {
     "data": {
      "text/plain": [
       "'Harpo'"
      ]
     },
     "execution_count": 24,
     "metadata": {},
     "output_type": "execute_result"
    }
   ],
   "source": [
    "suprise[-1].capitalize()"
   ]
  },
  {
   "cell_type": "markdown",
   "id": "38758653",
   "metadata": {},
   "source": [
    "---"
   ]
  },
  {
   "cell_type": "markdown",
   "id": "0b7abdf6",
   "metadata": {},
   "source": [
    "<h3>Q8</h3>\n",
    "<b>Make an English-to-French dictionary called e2f and print it. Here are your starter words: dog is chien, cat is chat, and walrus is morse."
   ]
  },
  {
   "cell_type": "code",
   "execution_count": 37,
   "id": "e6dfcb61",
   "metadata": {},
   "outputs": [],
   "source": [
    "e2f = {'dog': 'chien', 'cat':'chat', 'walrus':'morse'}"
   ]
  },
  {
   "cell_type": "code",
   "execution_count": 38,
   "id": "7ed54aa2",
   "metadata": {},
   "outputs": [
    {
     "data": {
      "text/plain": [
       "{'dog': 'chien', 'cat': 'chat', 'walrus': 'morse'}"
      ]
     },
     "execution_count": 38,
     "metadata": {},
     "output_type": "execute_result"
    }
   ],
   "source": [
    "e2f"
   ]
  },
  {
   "cell_type": "markdown",
   "id": "f8d3d37d",
   "metadata": {},
   "source": [
    "---"
   ]
  },
  {
   "cell_type": "markdown",
   "id": "a65b42be",
   "metadata": {},
   "source": [
    "<h3>Q9</h3>\n",
    "<b>Write the French word for walrus in your three-word dictionary e2f."
   ]
  },
  {
   "cell_type": "code",
   "execution_count": 28,
   "id": "f2500d50",
   "metadata": {},
   "outputs": [
    {
     "data": {
      "text/plain": [
       "'mor'"
      ]
     },
     "execution_count": 28,
     "metadata": {},
     "output_type": "execute_result"
    }
   ],
   "source": [
    "e2f['walrus'][:3]"
   ]
  },
  {
   "cell_type": "markdown",
   "id": "cbfa121a",
   "metadata": {},
   "source": [
    "---"
   ]
  },
  {
   "cell_type": "markdown",
   "id": "d3f72687",
   "metadata": {},
   "source": [
    "<h3>Q10</h3>\n",
    "<b>Make a French-to-English dictionary called f2e from e2f. Use the items method."
   ]
  },
  {
   "cell_type": "code",
   "execution_count": 39,
   "id": "ec1feece",
   "metadata": {},
   "outputs": [],
   "source": [
    "f2e = {'chien':'dog', 'chat':'cat', 'morse':'walrus'}"
   ]
  },
  {
   "cell_type": "code",
   "execution_count": 40,
   "id": "e3b624b0",
   "metadata": {},
   "outputs": [
    {
     "name": "stdout",
     "output_type": "stream",
     "text": [
      "Key : chien :: Value : dog\n",
      "Key : chat :: Value : cat\n",
      "Key : morse :: Value : walrus\n"
     ]
    }
   ],
   "source": [
    "for i,j in f2e.items():\n",
    "    print(f'Key : {i} :: Value : {j}')"
   ]
  },
  {
   "cell_type": "markdown",
   "id": "df0d1c72",
   "metadata": {},
   "source": [
    "---"
   ]
  },
  {
   "cell_type": "markdown",
   "id": "eb821687",
   "metadata": {},
   "source": [
    "<h3>Q11</h3>\n",
    "<b>Print the English version of the French word chien using f2e."
   ]
  },
  {
   "cell_type": "code",
   "execution_count": 41,
   "id": "fdf4eb29",
   "metadata": {},
   "outputs": [
    {
     "data": {
      "text/plain": [
       "'dog'"
      ]
     },
     "execution_count": 41,
     "metadata": {},
     "output_type": "execute_result"
    }
   ],
   "source": [
    "f2e['chien']"
   ]
  },
  {
   "cell_type": "markdown",
   "id": "2f579182",
   "metadata": {},
   "source": [
    "---"
   ]
  },
  {
   "cell_type": "markdown",
   "id": "8c8a902f",
   "metadata": {},
   "source": [
    "<h3>Q12</h3>\n",
    "<b>Make and print a set of English words from the keys in e2f."
   ]
  },
  {
   "cell_type": "code",
   "execution_count": 45,
   "id": "f15d38fb",
   "metadata": {},
   "outputs": [
    {
     "data": {
      "text/plain": [
       "['dog', 'cat', 'walrus']"
      ]
     },
     "execution_count": 45,
     "metadata": {},
     "output_type": "execute_result"
    }
   ],
   "source": [
    "list(e2f.keys())"
   ]
  },
  {
   "cell_type": "markdown",
   "id": "5c109af2",
   "metadata": {},
   "source": [
    "---"
   ]
  },
  {
   "cell_type": "markdown",
   "id": "6593a0bb",
   "metadata": {},
   "source": [
    "<h3>Q13</h3>\n",
    "<b>Make a multilevel dictionary called life. Use these strings for the topmost keys: 'animals', 'plants', and 'other'. Make the 'animals' key refer to another dictionary with the keys 'cats', 'octopi', and 'emus'. Make the 'cats' key refer to a list of strings with the values 'Henri', 'Grumpy', and 'Lucy'. Make all the other keys refer to empty dictionaries."
   ]
  },
  {
   "cell_type": "code",
   "execution_count": 47,
   "id": "d9ff87e2",
   "metadata": {},
   "outputs": [],
   "source": [
    "life = {'animals': \n",
    "            {\n",
    "            'cats':{'Henri', 'Grumpy','Lucy'}, \n",
    "             'octopi':{},\n",
    "             'emus':{}\n",
    "            },\n",
    "       'plants':{},\n",
    "       'others':{}}"
   ]
  },
  {
   "cell_type": "markdown",
   "id": "0e40eda2",
   "metadata": {},
   "source": [
    "---"
   ]
  },
  {
   "cell_type": "markdown",
   "id": "797bd4b5",
   "metadata": {},
   "source": [
    "<h3>Q14</h3>\n",
    "<b>Print the top-level keys of life."
   ]
  },
  {
   "cell_type": "code",
   "execution_count": 48,
   "id": "727736c3",
   "metadata": {},
   "outputs": [
    {
     "data": {
      "text/plain": [
       "dict_keys(['animals', 'plants', 'others'])"
      ]
     },
     "execution_count": 48,
     "metadata": {},
     "output_type": "execute_result"
    }
   ],
   "source": [
    "life.keys()"
   ]
  },
  {
   "cell_type": "markdown",
   "id": "af38550b",
   "metadata": {},
   "source": [
    "---"
   ]
  },
  {
   "cell_type": "markdown",
   "id": "95ec3166",
   "metadata": {},
   "source": [
    "<h3>Q15</h3>\n",
    "<b>Print the keys for life['animals']."
   ]
  },
  {
   "cell_type": "code",
   "execution_count": 50,
   "id": "936b44e1",
   "metadata": {},
   "outputs": [
    {
     "data": {
      "text/plain": [
       "dict_keys(['cats', 'octopi', 'emus'])"
      ]
     },
     "execution_count": 50,
     "metadata": {},
     "output_type": "execute_result"
    }
   ],
   "source": [
    "life['animals'].keys()"
   ]
  },
  {
   "cell_type": "markdown",
   "id": "fe832a28",
   "metadata": {},
   "source": [
    "---"
   ]
  },
  {
   "cell_type": "markdown",
   "id": "d668f739",
   "metadata": {},
   "source": [
    "<h3>Q16</h3>\n",
    "<b>Print the values for life['animals']['cats']"
   ]
  },
  {
   "cell_type": "code",
   "execution_count": 51,
   "id": "d231d7a2",
   "metadata": {},
   "outputs": [
    {
     "data": {
      "text/plain": [
       "{'Grumpy', 'Henri', 'Lucy'}"
      ]
     },
     "execution_count": 51,
     "metadata": {},
     "output_type": "execute_result"
    }
   ],
   "source": [
    "life['animals']['cats']"
   ]
  },
  {
   "cell_type": "markdown",
   "id": "b2ed7b93",
   "metadata": {},
   "source": [
    "---"
   ]
  }
 ],
 "metadata": {
  "kernelspec": {
   "display_name": "Python 3",
   "language": "python",
   "name": "python3"
  },
  "language_info": {
   "codemirror_mode": {
    "name": "ipython",
    "version": 3
   },
   "file_extension": ".py",
   "mimetype": "text/x-python",
   "name": "python",
   "nbconvert_exporter": "python",
   "pygments_lexer": "ipython3",
   "version": "3.8.8"
  }
 },
 "nbformat": 4,
 "nbformat_minor": 5
}
