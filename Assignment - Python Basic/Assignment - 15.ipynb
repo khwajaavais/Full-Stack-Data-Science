{
 "cells": [
  {
   "cell_type": "markdown",
   "id": "63302ab3",
   "metadata": {},
   "source": [
    "<h1 align='center'>Assignment - 15"
   ]
  },
  {
   "cell_type": "markdown",
   "id": "70f70c0f",
   "metadata": {},
   "source": [
    "---"
   ]
  },
  {
   "cell_type": "markdown",
   "id": "a53ffd08",
   "metadata": {},
   "source": [
    "<h3>Q1</h3>\n",
    "<b>How many seconds are in an hour? Use the interactive interpreter as a calculator and multiply the number of seconds in a minute (60) by the number of minutes in an hour (also 60)."
   ]
  },
  {
   "cell_type": "markdown",
   "id": "e198f0f2",
   "metadata": {},
   "source": [
    "<pre><b>No. of seconds in an hour = No. of seconds in a minutes (60) * No. of minutes in an hour (60)"
   ]
  },
  {
   "cell_type": "code",
   "execution_count": 1,
   "id": "46579a2b",
   "metadata": {},
   "outputs": [
    {
     "data": {
      "text/plain": [
       "3600"
      ]
     },
     "execution_count": 1,
     "metadata": {},
     "output_type": "execute_result"
    }
   ],
   "source": [
    "60*60"
   ]
  },
  {
   "cell_type": "markdown",
   "id": "487f5b5a",
   "metadata": {},
   "source": [
    "---"
   ]
  },
  {
   "cell_type": "markdown",
   "id": "6659bc72",
   "metadata": {},
   "source": [
    "<h3>Q2</h3>\n",
    "<b>Assign the result from the previous task (seconds in an hour) to a variable called seconds_per_hour."
   ]
  },
  {
   "cell_type": "code",
   "execution_count": 2,
   "id": "630208c8",
   "metadata": {},
   "outputs": [
    {
     "data": {
      "text/plain": [
       "3600"
      ]
     },
     "execution_count": 2,
     "metadata": {},
     "output_type": "execute_result"
    }
   ],
   "source": [
    "seconds_per_hour = 60*60\n",
    "seconds_per_hour"
   ]
  },
  {
   "cell_type": "markdown",
   "id": "51e4c383",
   "metadata": {},
   "source": [
    "---"
   ]
  },
  {
   "cell_type": "markdown",
   "id": "5a3d387c",
   "metadata": {},
   "source": [
    "<h3>Q3</h3>\n",
    "<b>How many seconds do you think there are in a day? Make use of the variables seconds per hour and minutes per hour."
   ]
  },
  {
   "cell_type": "code",
   "execution_count": 3,
   "id": "65b315b4",
   "metadata": {},
   "outputs": [
    {
     "name": "stdout",
     "output_type": "stream",
     "text": [
      "Enter the no of hours in a day : 24\n"
     ]
    },
    {
     "data": {
      "text/plain": [
       "86400"
      ]
     },
     "execution_count": 3,
     "metadata": {},
     "output_type": "execute_result"
    }
   ],
   "source": [
    "seconds_per_hour * int(input(\"Enter the no of hours in a day : \"))"
   ]
  },
  {
   "cell_type": "code",
   "execution_count": 4,
   "id": "3caec028",
   "metadata": {},
   "outputs": [
    {
     "data": {
      "text/plain": [
       "86400"
      ]
     },
     "execution_count": 4,
     "metadata": {},
     "output_type": "execute_result"
    }
   ],
   "source": [
    "minute_per_hour = 60\n",
    "seconds_per_hour * 24"
   ]
  },
  {
   "cell_type": "markdown",
   "id": "d0a32a15",
   "metadata": {},
   "source": [
    "---"
   ]
  },
  {
   "cell_type": "markdown",
   "id": "1d31558b",
   "metadata": {},
   "source": [
    "<h3>Q4</h3>\n",
    "<b>Calculate seconds per day again, but this time save the result in a variable called seconds_per_day"
   ]
  },
  {
   "cell_type": "code",
   "execution_count": 5,
   "id": "b0fa0b44",
   "metadata": {},
   "outputs": [
    {
     "name": "stdout",
     "output_type": "stream",
     "text": [
      "Enter the no of hours in a day : 24\n"
     ]
    }
   ],
   "source": [
    "second_per_day = seconds_per_hour * int(input(\"Enter the no of hours in a day : \"))"
   ]
  },
  {
   "cell_type": "code",
   "execution_count": 6,
   "id": "614aa6bd",
   "metadata": {},
   "outputs": [
    {
     "data": {
      "text/plain": [
       "86400"
      ]
     },
     "execution_count": 6,
     "metadata": {},
     "output_type": "execute_result"
    }
   ],
   "source": [
    "second_per_day"
   ]
  },
  {
   "cell_type": "markdown",
   "id": "0e35033f",
   "metadata": {},
   "source": [
    "---"
   ]
  },
  {
   "cell_type": "markdown",
   "id": "85682da9",
   "metadata": {},
   "source": [
    "<h3>Q5</h3>\n",
    "<b>Divide seconds_per_day by seconds_per_hour. Use floating-point (/) division."
   ]
  },
  {
   "cell_type": "code",
   "execution_count": 7,
   "id": "9bae5f7f",
   "metadata": {},
   "outputs": [
    {
     "data": {
      "text/plain": [
       "24.0"
      ]
     },
     "execution_count": 7,
     "metadata": {},
     "output_type": "execute_result"
    }
   ],
   "source": [
    "second_per_day / seconds_per_hour"
   ]
  },
  {
   "cell_type": "markdown",
   "id": "d1b3c5bc",
   "metadata": {},
   "source": [
    "---"
   ]
  },
  {
   "cell_type": "markdown",
   "id": "67364b4d",
   "metadata": {},
   "source": [
    "<h3>Q6</h3>\n",
    "<b>Divide seconds_per_day by seconds_per_hour, using integer (//) division. Did this number agree with the floating-point value from the previous question, aside from the final .0?"
   ]
  },
  {
   "cell_type": "code",
   "execution_count": 8,
   "id": "b208cb4a",
   "metadata": {},
   "outputs": [
    {
     "data": {
      "text/plain": [
       "24"
      ]
     },
     "execution_count": 8,
     "metadata": {},
     "output_type": "execute_result"
    }
   ],
   "source": [
    "second_per_day // seconds_per_hour"
   ]
  },
  {
   "cell_type": "markdown",
   "id": "fd376fa5",
   "metadata": {},
   "source": [
    "---"
   ]
  },
  {
   "cell_type": "markdown",
   "id": "d95706b8",
   "metadata": {},
   "source": [
    "<h3>Q7</h3>\n",
    "<b>Write a generator, genPrimes, that returns the sequence of prime numbers on successive calls to its next() method: 2, 3, 5, 7, 11, ..."
   ]
  },
  {
   "cell_type": "code",
   "execution_count": 9,
   "id": "23066862",
   "metadata": {},
   "outputs": [],
   "source": [
    "l =list(range(1,100))"
   ]
  },
  {
   "cell_type": "code",
   "execution_count": 10,
   "id": "ad92f59b",
   "metadata": {},
   "outputs": [],
   "source": [
    "def getPrimes():\n",
    "    prime = []\n",
    "    n = 2\n",
    "    while True:\n",
    "        for i in prime:\n",
    "            if n%i == 0:\n",
    "                break\n",
    "        else:\n",
    "            prime.append(n)\n",
    "            yield n\n",
    "        n=n+1"
   ]
  },
  {
   "cell_type": "code",
   "execution_count": 11,
   "id": "56f0c31a",
   "metadata": {},
   "outputs": [],
   "source": [
    "gen = getPrimes()"
   ]
  },
  {
   "cell_type": "code",
   "execution_count": 12,
   "id": "962cd5f2",
   "metadata": {},
   "outputs": [
    {
     "data": {
      "text/plain": [
       "2"
      ]
     },
     "execution_count": 12,
     "metadata": {},
     "output_type": "execute_result"
    }
   ],
   "source": [
    "next(gen)"
   ]
  },
  {
   "cell_type": "code",
   "execution_count": 15,
   "id": "56f006f7",
   "metadata": {},
   "outputs": [
    {
     "data": {
      "text/plain": [
       "7"
      ]
     },
     "execution_count": 15,
     "metadata": {},
     "output_type": "execute_result"
    }
   ],
   "source": [
    "next(gen)"
   ]
  },
  {
   "cell_type": "markdown",
   "id": "fbddc88b",
   "metadata": {},
   "source": [
    "---"
   ]
  }
 ],
 "metadata": {
  "kernelspec": {
   "display_name": "Python 3",
   "language": "python",
   "name": "python3"
  },
  "language_info": {
   "codemirror_mode": {
    "name": "ipython",
    "version": 3
   },
   "file_extension": ".py",
   "mimetype": "text/x-python",
   "name": "python",
   "nbconvert_exporter": "python",
   "pygments_lexer": "ipython3",
   "version": "3.8.8"
  }
 },
 "nbformat": 4,
 "nbformat_minor": 5
}
